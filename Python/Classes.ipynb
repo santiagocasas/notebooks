{
 "cells": [
  {
   "cell_type": "markdown",
   "metadata": {},
   "source": [
    "# The Anatomy of a Python Class\n",
    "\n",
    "> Author: Samuel Farrens (<samuel.farrens@cea.fr>)  \n",
    "> Year: 2019\n",
    "\n",
    "Classes are one of the fundamental building blocks of Python and are essential for object-oriented programming.\n",
    "\n",
    "In this notebook we will explore how classes work and look at tips and tricks for getting the most out of them.\n",
    "\n",
    "## Contents\n",
    "\n",
    "* [Disecting a Class](#Disecting-a-Class)\n",
    "  * [The Class Dictionary](#The-Class-Dictionary)\n",
    "* [Methods](#Methods)\n",
    "  * [Instance Methods](#Instance-Methods)\n",
    "  * [Static Methdos](#Static-Methods)\n",
    "  * [Class Methods](#Class-Methods)\n",
    "  * [Abstract Methods](#Abstract-Methods)\n",
    "* [Inheritance](#Inheritance)\n",
    "* [Composition](#Composition)"
   ]
  },
  {
   "cell_type": "markdown",
   "metadata": {},
   "source": [
    "## Disecting a Class\n",
    "\n",
    "To get a better grip on what a class is and how it works lets have a look at what is going on \"inside\".\n",
    "\n",
    "### The Class Dictionary\n",
    "\n",
    "Classes are defined with the keyword `class`, much like the keyword `def` is used for defining functions. In the following cell we define a class without any attributes (note the use of the null `pass` statement)."
   ]
  },
  {
   "cell_type": "code",
   "execution_count": 1,
   "metadata": {},
   "outputs": [],
   "source": [
    "# Define a dummy class\n",
    "class myClass:\n",
    "    pass"
   ]
  },
  {
   "cell_type": "markdown",
   "metadata": {},
   "source": [
    "This object clearly has little use, but it is a good starting place to look at the structure of classes in general. We can start by looking at the special `__dict__` attribute of the object."
   ]
  },
  {
   "cell_type": "code",
   "execution_count": 2,
   "metadata": {},
   "outputs": [
    {
     "name": "stdout",
     "output_type": "stream",
     "text": [
      "{'__module__': '__main__', '__dict__': <attribute '__dict__' of 'myClass' objects>, '__weakref__': <attribute '__weakref__' of 'myClass' objects>, '__doc__': None}\n"
     ]
    }
   ],
   "source": [
    "# Print the class dictionary\n",
    "print(myClass.__dict__)"
   ]
  },
  {
   "cell_type": "markdown",
   "metadata": {},
   "source": [
    "Unsurpsingly, this attribute is a dictionary the contents of which we will come back to. For now, let's see what happens when we assign a new attribute to the class. Class attributes are accessed and set using a dot (`.`) following the class name."
   ]
  },
  {
   "cell_type": "code",
   "execution_count": 3,
   "metadata": {},
   "outputs": [
    {
     "name": "stdout",
     "output_type": "stream",
     "text": [
      "{'__module__': '__main__', '__dict__': <attribute '__dict__' of 'myClass' objects>, '__weakref__': <attribute '__weakref__' of 'myClass' objects>, '__doc__': None, 'myattr': True}\n"
     ]
    }
   ],
   "source": [
    "# Assign the attribute myattr with value True to the class\n",
    "myClass.myattr = True\n",
    "\n",
    "# Print the class dictionary\n",
    "print(myClass.__dict__)"
   ]
  },
  {
   "cell_type": "markdown",
   "metadata": {},
   "source": [
    "We can see that the class dictionary has a new entry with the key `myattr` and corresponding value `True`. We can even demonstrate that this dictionary behaves as any other..."
   ]
  },
  {
   "cell_type": "code",
   "execution_count": 4,
   "metadata": {},
   "outputs": [
    {
     "name": "stdout",
     "output_type": "stream",
     "text": [
      "True\n"
     ]
    }
   ],
   "source": [
    "# Print the class dictionary with key 'myattr'\n",
    "print(myClass.__dict__['myattr'])"
   ]
  },
  {
   "cell_type": "markdown",
   "metadata": {},
   "source": [
    "...except that it does not allow assignment."
   ]
  },
  {
   "cell_type": "code",
   "execution_count": 5,
   "metadata": {},
   "outputs": [
    {
     "ename": "TypeError",
     "evalue": "'mappingproxy' object does not support item assignment",
     "output_type": "error",
     "traceback": [
      "\u001b[0;31m---------------------------------------------------------------------------\u001b[0m",
      "\u001b[0;31mTypeError\u001b[0m                                 Traceback (most recent call last)",
      "\u001b[0;32m<ipython-input-5-931dc0aa55e3>\u001b[0m in \u001b[0;36m<module>\u001b[0;34m\u001b[0m\n\u001b[1;32m      1\u001b[0m \u001b[0;31m# Assign a new value to 'myattr' in the class dictionary\u001b[0m\u001b[0;34m\u001b[0m\u001b[0;34m\u001b[0m\u001b[0;34m\u001b[0m\u001b[0m\n\u001b[0;32m----> 2\u001b[0;31m \u001b[0mmyClass\u001b[0m\u001b[0;34m.\u001b[0m\u001b[0m__dict__\u001b[0m\u001b[0;34m[\u001b[0m\u001b[0;34m'myattr'\u001b[0m\u001b[0;34m]\u001b[0m \u001b[0;34m=\u001b[0m \u001b[0;32mFalse\u001b[0m\u001b[0;34m\u001b[0m\u001b[0;34m\u001b[0m\u001b[0m\n\u001b[0m",
      "\u001b[0;31mTypeError\u001b[0m: 'mappingproxy' object does not support item assignment"
     ]
    }
   ],
   "source": [
    "# Assign a new value to 'myattr' in the class dictionary\n",
    "myClass.__dict__['myattr'] = False"
   ]
  },
  {
   "cell_type": "markdown",
   "metadata": {},
   "source": [
    "Now we can define a new class with some attributes and see what changes."
   ]
  },
  {
   "cell_type": "code",
   "execution_count": 6,
   "metadata": {},
   "outputs": [
    {
     "name": "stdout",
     "output_type": "stream",
     "text": [
      "{'__module__': '__main__', '__doc__': ' This is my class \\n    ', 'mybool': True, 'myint': 1, 'myfloat': 1.0, 'mystring': 'string', 'myfunc': <function myClass2.myfunc at 0x1112af9d8>, '__dict__': <attribute '__dict__' of 'myClass2' objects>, '__weakref__': <attribute '__weakref__' of 'myClass2' objects>}\n"
     ]
    }
   ],
   "source": [
    "# Define a new dummy class with some attributes\n",
    "class myClass2:\n",
    "    \"\"\" This is my class \n",
    "    \"\"\"\n",
    "\n",
    "    mybool = True\n",
    "    myint = 1\n",
    "    myfloat = 1.0\n",
    "    mystring = 'string'\n",
    "    \n",
    "    def myfunc():\n",
    "        pass\n",
    "    \n",
    "# Print the class dictionary    \n",
    "print(myClass2.__dict__)"
   ]
  },
  {
   "cell_type": "markdown",
   "metadata": {},
   "source": [
    "All of the attributes can be found in the class dictionary, including the dummy method `myfunc` and the docstring `__doc__`. Things look a bit different, however, if we create a class instance."
   ]
  },
  {
   "cell_type": "code",
   "execution_count": 7,
   "metadata": {},
   "outputs": [
    {
     "name": "stdout",
     "output_type": "stream",
     "text": [
      "{}\n",
      "\n",
      "{'__module__': '__main__', '__doc__': ' This is my class \\n    ', 'mybool': True, 'myint': 1, 'myfloat': 1.0, 'mystring': 'string', 'myfunc': <function myClass2.myfunc at 0x1112af9d8>, '__dict__': <attribute '__dict__' of 'myClass2' objects>, '__weakref__': <attribute '__weakref__' of 'myClass2' objects>}\n"
     ]
    }
   ],
   "source": [
    "# Create an instance of the class\n",
    "myinst = myClass2()\n",
    "\n",
    "# Print the instance dictionary\n",
    "print(myinst.__dict__)\n",
    "print('')\n",
    "# Print the instance class dictionary\n",
    "print(myinst.__class__.__dict__)"
   ]
  },
  {
   "cell_type": "markdown",
   "metadata": {},
   "source": [
    "## Methods\n",
    "\n",
    "### Instance Methods\n",
    "\n",
    "### Static Methods"
   ]
  },
  {
   "cell_type": "code",
   "execution_count": 8,
   "metadata": {},
   "outputs": [],
   "source": [
    "class Calculator:\n",
    "    \n",
    "    def add(x, y):\n",
    "        return x + y\n",
    "    \n",
    "    def substract(x, y):\n",
    "        return x - y\n",
    "\n",
    "    def multiply(x, y):\n",
    "        return x * y\n",
    "    \n",
    "    def divide(x, y):\n",
    "        return x / y"
   ]
  },
  {
   "cell_type": "code",
   "execution_count": 9,
   "metadata": {},
   "outputs": [
    {
     "name": "stdout",
     "output_type": "stream",
     "text": [
      "1 + 2 = 3\n",
      "5 - 2 = 3\n",
      "7 * 4 = 28\n",
      "6 / 2 = 3.0\n"
     ]
    }
   ],
   "source": [
    "print('1 + 2 =', Calculator.add(1, 2))\n",
    "print('5 - 2 =', Calculator.substract(5, 2))\n",
    "print('7 * 4 =', Calculator.multiply(7, 4))\n",
    "print('6 / 2 =', Calculator.divide(6, 2))"
   ]
  },
  {
   "cell_type": "code",
   "execution_count": 10,
   "metadata": {},
   "outputs": [
    {
     "ename": "TypeError",
     "evalue": "add() takes 2 positional arguments but 3 were given",
     "output_type": "error",
     "traceback": [
      "\u001b[0;31m---------------------------------------------------------------------------\u001b[0m",
      "\u001b[0;31mTypeError\u001b[0m                                 Traceback (most recent call last)",
      "\u001b[0;32m<ipython-input-10-4443191e6274>\u001b[0m in \u001b[0;36m<module>\u001b[0;34m\u001b[0m\n\u001b[1;32m      1\u001b[0m \u001b[0mcalc\u001b[0m \u001b[0;34m=\u001b[0m \u001b[0mCalculator\u001b[0m\u001b[0;34m(\u001b[0m\u001b[0;34m)\u001b[0m\u001b[0;34m\u001b[0m\u001b[0;34m\u001b[0m\u001b[0m\n\u001b[0;32m----> 2\u001b[0;31m \u001b[0mprint\u001b[0m\u001b[0;34m(\u001b[0m\u001b[0;34m'1 + 2 ='\u001b[0m\u001b[0;34m,\u001b[0m \u001b[0mcalc\u001b[0m\u001b[0;34m.\u001b[0m\u001b[0madd\u001b[0m\u001b[0;34m(\u001b[0m\u001b[0;36m1\u001b[0m\u001b[0;34m,\u001b[0m \u001b[0;36m2\u001b[0m\u001b[0;34m)\u001b[0m\u001b[0;34m)\u001b[0m\u001b[0;34m\u001b[0m\u001b[0;34m\u001b[0m\u001b[0m\n\u001b[0m",
      "\u001b[0;31mTypeError\u001b[0m: add() takes 2 positional arguments but 3 were given"
     ]
    }
   ],
   "source": [
    "calc = Calculator()\n",
    "print('1 + 2 =', calc.add(1, 2))"
   ]
  },
  {
   "cell_type": "code",
   "execution_count": 11,
   "metadata": {},
   "outputs": [],
   "source": [
    "class staticCalculator:\n",
    "    \n",
    "    @staticmethod\n",
    "    def add(x, y):\n",
    "        return x + y\n",
    "    \n",
    "    @staticmethod\n",
    "    def substract(x, y):\n",
    "        return x - y\n",
    "    \n",
    "    @staticmethod\n",
    "    def multiply(x, y):\n",
    "        return x * y\n",
    "    \n",
    "    @staticmethod\n",
    "    def divide(x, y):\n",
    "        return x / y"
   ]
  },
  {
   "cell_type": "code",
   "execution_count": 12,
   "metadata": {},
   "outputs": [
    {
     "name": "stdout",
     "output_type": "stream",
     "text": [
      "1 + 2 = 3\n",
      "1 + 2 = 3\n"
     ]
    }
   ],
   "source": [
    "calc = staticCalculator()\n",
    "print('1 + 2 =', staticCalculator.add(1, 2))\n",
    "print('1 + 2 =', calc.add(1, 2))"
   ]
  },
  {
   "cell_type": "markdown",
   "metadata": {},
   "source": [
    "### Class Methods"
   ]
  },
  {
   "cell_type": "code",
   "execution_count": 13,
   "metadata": {},
   "outputs": [],
   "source": [
    "from math import pi, sqrt\n",
    "\n",
    "class StefBoltz:\n",
    "    \"\"\" The Stefan–Boltzmann law\n",
    "    \"\"\"\n",
    "    \n",
    "    sigma = 5.670367e-8 # Wm^−2K^−4\n",
    "        \n",
    "    @classmethod\n",
    "    def luminosity(cls, radius, effective_temp):\n",
    "     \n",
    "        return 4 * pi * radius ** 2 * cls.sigma * effective_temp ** 4\n",
    "    \n",
    "    @classmethod\n",
    "    def radius(cls, luminosity, effective_temp):\n",
    "    \n",
    "        return sqrt(luminosity / (4 * pi * cls.sigma * effective_temp ** 4))\n",
    "    \n",
    "    @classmethod\n",
    "    def temperature(cls, radius, luminosity):\n",
    "    \n",
    "        return (luminosity / (4 * pi * radius ** 2 * cls.sigma)) ** 0.25"
   ]
  },
  {
   "cell_type": "code",
   "execution_count": 14,
   "metadata": {},
   "outputs": [
    {
     "name": "stdout",
     "output_type": "stream",
     "text": [
      "The luminosity of the Sun is 3.95e+26W\n",
      "The radius of Alpha Centauri is 2.52e+09m\n",
      "The effective temperature of the Earth is 278.92K\n"
     ]
    }
   ],
   "source": [
    "print('The luminosity of the Sun is {:.2e}W'.format(StefBoltz.luminosity(7e8, 5800)))\n",
    "print('The radius of Alpha Centauri is {:.2e}m'.format(StefBoltz.radius(4e28, 9700)))\n",
    "print('The effective temperature of the Earth is {:.2f}K'\n",
    "      ''.format(StefBoltz.temperature(6.37e6, 1.75e+17)))"
   ]
  },
  {
   "cell_type": "markdown",
   "metadata": {},
   "source": [
    "### Abstract Methods"
   ]
  },
  {
   "cell_type": "markdown",
   "metadata": {},
   "source": [
    "## Inheritance"
   ]
  },
  {
   "cell_type": "markdown",
   "metadata": {},
   "source": [
    "## Composition"
   ]
  },
  {
   "cell_type": "code",
   "execution_count": null,
   "metadata": {},
   "outputs": [],
   "source": []
  }
 ],
 "metadata": {
  "kernelspec": {
   "display_name": "Python 3",
   "language": "python",
   "name": "python3"
  },
  "language_info": {
   "codemirror_mode": {
    "name": "ipython",
    "version": 3
   },
   "file_extension": ".py",
   "mimetype": "text/x-python",
   "name": "python",
   "nbconvert_exporter": "python",
   "pygments_lexer": "ipython3",
   "version": "3.7.2"
  }
 },
 "nbformat": 4,
 "nbformat_minor": 2
}

{
 "cells": [
  {
   "cell_type": "markdown",
   "metadata": {},
   "source": [
    "# The Anatomy of a Python Class\n",
    "\n",
    "> Author: Samuel Farrens (<samuel.farrens@cea.fr>)  \n",
    "> Year: 2019\n",
    "\n",
    "Classes are one of the fundamental building blocks of Python and are essential for object-oriented programming.\n",
    "\n",
    "In this notebook we will explore how classes work and look at tips and tricks for getting the most out of them. By the end of this tutorial you should have, not only a much better understanding of Python classes, but also some new ideas for writing better code.\n",
    "\n",
    "## Contents\n",
    "\n",
    "---\n",
    "\n",
    "* [1 Disecting a Class](#1-Disecting-a-Class)\n",
    "  * [The Class Dictionary](#The-Class-Dictionary)\n",
    "  * [Instantiation](#Instantiation)\n",
    "* [2 Methods](#2-Methods)\n",
    "  * [Functions as Attributes](#Functions-as-Attributes)\n",
    "  * [Static Methdos](#Static-Methods)\n",
    "  * [Class Methods](#Class-Methods)\n",
    "  * [Instance Methods](#Instance-Methods)\n",
    "  * [Mixing Methods](#Mixing-Methods)\n",
    "* [3 Properties](#3-Properties)\n",
    "  * [Getters and Setters](#Getters-and-Setters)\n",
    "  * [Class Properties](#Class-Properties)"
   ]
  },
  {
   "cell_type": "markdown",
   "metadata": {},
   "source": [
    "## 1 Disecting a Class\n",
    "\n",
    "---\n",
    "\n",
    "To get a better grip on what a class is and how it works lets have a look at what is going on \"inside\". We can start by defining our first class and looking at its properties.\n",
    "\n",
    "Classes are defined with the keyword `class`, much like the keyword `def` is used for defining functions. In the following cell we define a class without any attributes (note the use of the null `pass` statement)."
   ]
  },
  {
   "cell_type": "code",
   "execution_count": 1,
   "metadata": {},
   "outputs": [],
   "source": [
    "# Define a dummy class\n",
    "class myClass:\n",
    "    pass"
   ]
  },
  {
   "cell_type": "markdown",
   "metadata": {},
   "source": [
    "This object clearly has little use, but it is a good starting place to look at the structure of classes in general. Let's look at the `help` for this class."
   ]
  },
  {
   "cell_type": "code",
   "execution_count": 2,
   "metadata": {},
   "outputs": [],
   "source": [
    "help(myClass)"
   ]
  },
  {
   "cell_type": "markdown",
   "metadata": {},
   "source": [
    "We can see that despite not setting attributes we have two default attributes predefined, namely `__dict__` and `__weakref__`. `__weakref__` is a special attribute that lists <a href=\"https://mindtrove.info/python-weak-references/\" target=\"_blank\">*weak references*</a> to the class object, a topic outside the scope of this notebook. Instead, we will focus on the `__dict__` attribute.\n",
    "\n",
    "<br/>\n",
    "\n",
    "### The Class Dictionary\n",
    "\n",
    "Let's begin by printing the contents and type of `__dict__` for our dummy class."
   ]
  },
  {
   "cell_type": "code",
   "execution_count": 3,
   "metadata": {},
   "outputs": [],
   "source": [
    "# Print the class dictionary\n",
    "print('myClass.__dict__ =', myClass.__dict__)\n",
    "print('')\n",
    "print('__dict__ is of type', type(myClass.__dict__))"
   ]
  },
  {
   "cell_type": "markdown",
   "metadata": {},
   "source": [
    "This attribute is a *mappingproxy*, which is a special type of dictionary that does not have a `__setattr__` method (we will come back to this). In addition to the default attributes discussed above we can see:\n",
    "\n",
    "* `'__doc__'` : The class docstring (defaults to `None`).\n",
    "* `'__module__'` : The name of module in which the class was defined.\n",
    "\n",
    "Now, let's see what happens when we assign a new attribute to the class. Class attributes are accessed and set using a dot (`.`) following the class name.\n",
    "\n",
    "> Note that any Python object can be assigned as a class attribute. We will come back to this concept later!"
   ]
  },
  {
   "cell_type": "code",
   "execution_count": 4,
   "metadata": {},
   "outputs": [],
   "source": [
    "# Assign the attribute myattr with value True to the class\n",
    "myClass.myattr = True\n",
    "\n",
    "# Print the class dictionary\n",
    "print(myClass.__dict__)"
   ]
  },
  {
   "cell_type": "markdown",
   "metadata": {},
   "source": [
    "We can see that the class dictionary has a new entry with the key `myattr` and corresponding value `True`. We can even demonstrate that this dictionary behaves as any other..."
   ]
  },
  {
   "cell_type": "code",
   "execution_count": 5,
   "metadata": {},
   "outputs": [],
   "source": [
    "# Print the class dictionary with key 'myattr'\n",
    "print(myClass.__dict__['myattr'])"
   ]
  },
  {
   "cell_type": "markdown",
   "metadata": {},
   "source": [
    "...except that it does not allow assignment, given the absence of the `__setattr__` method."
   ]
  },
  {
   "cell_type": "code",
   "execution_count": 6,
   "metadata": {},
   "outputs": [
    {
     "ename": "TypeError",
     "evalue": "'mappingproxy' object does not support item assignment",
     "output_type": "error",
     "traceback": [
      "\u001b[0;31m---------------------------------------------------------------------------\u001b[0m",
      "\u001b[0;31mTypeError\u001b[0m                                 Traceback (most recent call last)",
      "\u001b[0;32m<ipython-input-6-931dc0aa55e3>\u001b[0m in \u001b[0;36m<module>\u001b[0;34m\u001b[0m\n\u001b[1;32m      1\u001b[0m \u001b[0;31m# Assign a new value to 'myattr' in the class dictionary\u001b[0m\u001b[0;34m\u001b[0m\u001b[0;34m\u001b[0m\u001b[0;34m\u001b[0m\u001b[0m\n\u001b[0;32m----> 2\u001b[0;31m \u001b[0mmyClass\u001b[0m\u001b[0;34m.\u001b[0m\u001b[0m__dict__\u001b[0m\u001b[0;34m[\u001b[0m\u001b[0;34m'myattr'\u001b[0m\u001b[0;34m]\u001b[0m \u001b[0;34m=\u001b[0m \u001b[0;32mFalse\u001b[0m\u001b[0;34m\u001b[0m\u001b[0;34m\u001b[0m\u001b[0m\n\u001b[0m",
      "\u001b[0;31mTypeError\u001b[0m: 'mappingproxy' object does not support item assignment"
     ]
    }
   ],
   "source": [
    "# Assign a new value to 'myattr' in the class dictionary\n",
    "myClass.__dict__['myattr'] = False"
   ]
  },
  {
   "cell_type": "markdown",
   "metadata": {},
   "source": [
    "Now let's define a new class with some predefined attributes and see what changes."
   ]
  },
  {
   "cell_type": "code",
   "execution_count": 7,
   "metadata": {},
   "outputs": [
    {
     "name": "stdout",
     "output_type": "stream",
     "text": [
      "{'__module__': '__main__', '__doc__': ' This is my class \\n    ', 'mybool': True, 'myint': 1, 'myfloat': 1.0, 'mystring': 'string', '__dict__': <attribute '__dict__' of 'myClass' objects>, '__weakref__': <attribute '__weakref__' of 'myClass' objects>}\n"
     ]
    }
   ],
   "source": [
    "# Define a new dummy class with some attributes\n",
    "class myClass:\n",
    "    \"\"\" This is my class \n",
    "    \"\"\"\n",
    "\n",
    "    mybool = True\n",
    "    myint = 1\n",
    "    myfloat = 1.0\n",
    "    mystring = 'string'\n",
    "    \n",
    "# Print the class dictionary    \n",
    "print(myClass.__dict__)"
   ]
  },
  {
   "cell_type": "markdown",
   "metadata": {},
   "source": [
    "All of the attributes can be found in the class dictionary. Notice that `__doc__` is now a string. \n",
    "\n",
    "All of these attributes can be accessed..."
   ]
  },
  {
   "cell_type": "code",
   "execution_count": 8,
   "metadata": {},
   "outputs": [
    {
     "name": "stdout",
     "output_type": "stream",
     "text": [
      "mybool = True\n",
      "myint = 1\n",
      "myfloat = 1.0\n",
      "mystring = string\n",
      "mydoc =  This is my class \n",
      "    \n"
     ]
    }
   ],
   "source": [
    "# Print the class attributes\n",
    "print('mybool =', myClass.mybool)\n",
    "print('myint =', myClass.myint)\n",
    "print('myfloat =', myClass.myfloat)\n",
    "print('mystring =', myClass.mystring)\n",
    "print('mydoc =', myClass.__doc__)"
   ]
  },
  {
   "cell_type": "markdown",
   "metadata": {},
   "source": [
    "...and modified."
   ]
  },
  {
   "cell_type": "code",
   "execution_count": 9,
   "metadata": {},
   "outputs": [
    {
     "name": "stdout",
     "output_type": "stream",
     "text": [
      "my new string\n"
     ]
    }
   ],
   "source": [
    "# Modify the value of the string attribute\n",
    "myClass.mystring = 'my new string'\n",
    "\n",
    "# Print the string attribute\n",
    "print(myClass.mystring)"
   ]
  },
  {
   "cell_type": "markdown",
   "metadata": {},
   "source": [
    "In summary the class `__dict__` attribute is useful for understanding how class attributes are stored, but should not really be used directly.\n",
    "\n",
    "<br/>\n",
    "\n",
    "### Instantiation\n",
    "\n",
    "While accessing class attributes directly can be useful, in most applications it will be necessary to create a *class instance* (also reffered to simply as *objects*). Every time a class is isntantiated a unique Python class object is created. These objects retain the global class attributes but can also be assigned unique instance attributes.\n",
    "\n",
    "We can create a class instance by calling the class name followed by `()`."
   ]
  },
  {
   "cell_type": "code",
   "execution_count": 10,
   "metadata": {},
   "outputs": [
    {
     "name": "stdout",
     "output_type": "stream",
     "text": [
      "myinst.__dict__ = {}\n",
      "\n",
      "__dict__ is of type <class 'dict'>\n"
     ]
    }
   ],
   "source": [
    "# Create an instance of the class\n",
    "myinst = myClass()\n",
    "\n",
    "# Print the instance dictionary\n",
    "print('myinst.__dict__ =', myinst.__dict__)\n",
    "print('')\n",
    "print('__dict__ is of type', type(myinst.__dict__))"
   ]
  },
  {
   "cell_type": "markdown",
   "metadata": {},
   "source": [
    "Here we see that the instance dictionary is a true dictionary and is empty, which simply means that no *instance attributes* have been set. \n",
    "\n",
    "However, instances still have access the class attributes."
   ]
  },
  {
   "cell_type": "code",
   "execution_count": 11,
   "metadata": {},
   "outputs": [
    {
     "name": "stdout",
     "output_type": "stream",
     "text": [
      "{'__module__': '__main__', '__doc__': ' This is my class \\n    ', 'mybool': True, 'myint': 1, 'myfloat': 1.0, 'mystring': 'my new string', '__dict__': <attribute '__dict__' of 'myClass' objects>, '__weakref__': <attribute '__weakref__' of 'myClass' objects>}\n"
     ]
    }
   ],
   "source": [
    "# Print the instance class dictionary\n",
    "print(myinst.__class__.__dict__)"
   ]
  },
  {
   "cell_type": "markdown",
   "metadata": {},
   "source": [
    "As with the class itself, attributes can be assigned to the instance object. "
   ]
  },
  {
   "cell_type": "code",
   "execution_count": 12,
   "metadata": {},
   "outputs": [
    {
     "name": "stdout",
     "output_type": "stream",
     "text": [
      "myinst.__dict__ = {'newbool': False}\n",
      "\n",
      "myClass.__dict__ = {'__module__': '__main__', '__doc__': ' This is my class \\n    ', 'mybool': True, 'myint': 1, 'myfloat': 1.0, 'mystring': 'my new string', '__dict__': <attribute '__dict__' of 'myClass' objects>, '__weakref__': <attribute '__weakref__' of 'myClass' objects>}\n"
     ]
    }
   ],
   "source": [
    "# Assign an attribute to the instance\n",
    "myinst.newbool = False\n",
    "\n",
    "# Print the instance dictionary\n",
    "print('myinst.__dict__ =', myinst.__dict__)\n",
    "print('')\n",
    "print('myClass.__dict__ =', myClass.__dict__)"
   ]
  },
  {
   "cell_type": "markdown",
   "metadata": {},
   "source": [
    "We can see that the instance attribute has no impact on the class attributes.\n",
    "\n",
    "In order to preassign instance attributes we will need to define a special initialisation method (`__init__`), which takes the special variable `self` as an argument."
   ]
  },
  {
   "cell_type": "code",
   "execution_count": 14,
   "metadata": {},
   "outputs": [
    {
     "name": "stdout",
     "output_type": "stream",
     "text": [
      "myinst.__dict__ = {'myfloat': 3.5}\n",
      "myfloat = 3.5\n"
     ]
    }
   ],
   "source": [
    "# Define a new dummy class with an init method\n",
    "class myClass:\n",
    "    \n",
    "    def __init__(self):\n",
    "        \n",
    "        self.myfloat = 3.5\n",
    "   \n",
    "# Create an instance of the class and print the attribute properties\n",
    "myinst = myClass()\n",
    "print('myinst.__dict__ =', myinst.__dict__)\n",
    "print('myfloat =', myinst.myfloat)"
   ]
  },
  {
   "cell_type": "markdown",
   "metadata": {},
   "source": [
    "`self` represents any given class instance and attributes are assigned to it as usual with a dot. Printing the instance dictionary (which is equivalent to `self.__dict__`) reveals the attributes that have been assigned to it.\n",
    "\n",
    "As with class attributes, instance attribute values can be modified."
   ]
  },
  {
   "cell_type": "code",
   "execution_count": 15,
   "metadata": {},
   "outputs": [
    {
     "name": "stdout",
     "output_type": "stream",
     "text": [
      "{'myfloat': 7.2}\n",
      "myfloat = 7.2\n"
     ]
    }
   ],
   "source": [
    "myinst.myfloat = 7.2\n",
    "print(myinst.__dict__)\n",
    "print('myfloat =', myinst.myfloat)"
   ]
  },
  {
   "cell_type": "markdown",
   "metadata": {},
   "source": [
    "Additional agruments can be passed to `__init__` allowing for a more instance specific initialisation of the class."
   ]
  },
  {
   "cell_type": "code",
   "execution_count": 16,
   "metadata": {},
   "outputs": [
    {
     "name": "stdout",
     "output_type": "stream",
     "text": [
      "myfloat = 3.14\n",
      "myfloat = 6.28\n"
     ]
    }
   ],
   "source": [
    "# Define a new dummy class with a more dynamic init method\n",
    "class myClass:\n",
    "    \n",
    "    def __init__(self, value):\n",
    "        \n",
    "        self.myfloat = value\n",
    "\n",
    "# Create instances of the class and print the attribute properties\n",
    "myinst1 = myClass(3.14)\n",
    "myinst2 = myClass(6.28)\n",
    "print('myfloat =', myinst1.myfloat)\n",
    "print('myfloat =', myinst2.myfloat)"
   ]
  },
  {
   "cell_type": "markdown",
   "metadata": {},
   "source": [
    "An important detail to take into account is that instance attributes will overload class attributes with the same name, but only for that instance object."
   ]
  },
  {
   "cell_type": "code",
   "execution_count": 17,
   "metadata": {},
   "outputs": [
    {
     "name": "stdout",
     "output_type": "stream",
     "text": [
      "myClass.myfloat = 6.15\n",
      "myinst1.myfloat = 6.15\n",
      "myinst1.__dict__ {}\n",
      "myinst2.myfloat = 6.15\n",
      "myinst2.__dict__ {}\n",
      "\n",
      "myClass.myfloat = 6.15\n",
      "myinst1.myfloat = 8.18\n",
      "myinst1.__dict__ {'myfloat': 8.18}\n",
      "myinst2.myfloat = 6.15\n",
      "myinst2.__dict__ {}\n"
     ]
    }
   ],
   "source": [
    "# Define a new dummy class with a class attribute\n",
    "class myClass:\n",
    "    \n",
    "    myfloat = 6.15\n",
    "    \n",
    "    def __init__(self):\n",
    "        pass\n",
    "\n",
    "# Create 2 instances of the class\n",
    "myinst1 = myClass()\n",
    "myinst2 = myClass()\n",
    "print('myClass.myfloat =', myClass.myfloat)\n",
    "print('myinst1.myfloat =', myinst1.myfloat)\n",
    "print('myinst1.__dict__', myinst1.__dict__)\n",
    "print('myinst2.myfloat =', myinst2.myfloat)\n",
    "print('myinst2.__dict__', myinst2.__dict__)\n",
    "print('')\n",
    "\n",
    "# Modify the myfloat attribute of the first instance\n",
    "myinst1.myfloat = 8.18\n",
    "print('myClass.myfloat =', myClass.myfloat)\n",
    "print('myinst1.myfloat =', myinst1.myfloat)\n",
    "print('myinst1.__dict__', myinst1.__dict__)\n",
    "print('myinst2.myfloat =', myinst2.myfloat)\n",
    "print('myinst2.__dict__', myinst2.__dict__)"
   ]
  },
  {
   "cell_type": "markdown",
   "metadata": {},
   "source": [
    "When designing a class it is important to think about which attributes need to be assigned to the class and which to the class instances.\n",
    "\n",
    "In the following section we will focus on the various types of method attributes.\n",
    "\n",
    "> Further Reading  \n",
    "> <a href=\"https://codesachin.wordpress.com/2016/06/09/the-magic-behind-attribute-access-in-python/\" target=\"_blank\">https://codesachin.wordpress.com/2016/06/09/the-magic-behind-attribute-access-in-python/</a>  \n",
    "> <a href=\"https://rushter.com/blog/python-class-internals/\" target=\"_blank\">https://rushter.com/blog/python-class-internals/</a>"
   ]
  },
  {
   "cell_type": "markdown",
   "metadata": {},
   "source": [
    "## 2 Methods\n",
    "\n",
    "---\n",
    "\n",
    "<br/>\n",
    "\n",
    "### Functions as Attributes\n",
    "\n",
    "As briefly mentioned in the previous section, any Python object can be allocated as class attribute. This of course includes functions. To do so we could define a class and function and manually assign the function object to the a class attribute as follows."
   ]
  },
  {
   "cell_type": "code",
   "execution_count": 18,
   "metadata": {},
   "outputs": [
    {
     "name": "stdout",
     "output_type": "stream",
     "text": [
      "Hello!\n",
      "{'__module__': '__main__', '__dict__': <attribute '__dict__' of 'myClass5' objects>, '__weakref__': <attribute '__weakref__' of 'myClass5' objects>, '__doc__': None, 'myfunc': <function say_hello at 0x108af8950>}\n"
     ]
    }
   ],
   "source": [
    "# Define a new dummy class\n",
    "class myClass5:\n",
    "    pass\n",
    "\n",
    "# Define a simple function\n",
    "def say_hello():\n",
    "    print('Hello!')\n",
    "    \n",
    "# Assign the function to the class\n",
    "myClass5.myfunc = say_hello\n",
    "# Execute the function\n",
    "myClass5.myfunc()\n",
    "\n",
    "# Print the class dictionary\n",
    "print(myClass5.__dict__)"
   ]
  },
  {
   "cell_type": "markdown",
   "metadata": {},
   "source": [
    "We can see that the class is able to call the function and we can also see the object in the class dictionary.\n",
    "\n",
    "If we only want the function to exist as a class attribute we can simply define the function inside the class. These functions are called *class methods*.\n",
    "\n",
    "In the following example we define a calculator class with four methods."
   ]
  },
  {
   "cell_type": "code",
   "execution_count": 19,
   "metadata": {},
   "outputs": [
    {
     "name": "stdout",
     "output_type": "stream",
     "text": [
      "{'__module__': '__main__', 'add': <function Calculator.add at 0x108af8c80>, 'substract': <function Calculator.substract at 0x108af8e18>, 'multiply': <function Calculator.multiply at 0x108af8d08>, 'divide': <function Calculator.divide at 0x108af8840>, '__dict__': <attribute '__dict__' of 'Calculator' objects>, '__weakref__': <attribute '__weakref__' of 'Calculator' objects>, '__doc__': None}\n"
     ]
    }
   ],
   "source": [
    "# Define a calculator class\n",
    "class Calculator:\n",
    "    \n",
    "    def add(x, y):\n",
    "        return x + y\n",
    "    \n",
    "    def substract(x, y):\n",
    "        return x - y\n",
    "\n",
    "    def multiply(x, y):\n",
    "        return x * y\n",
    "    \n",
    "    def divide(x, y):\n",
    "        return x / y\n",
    "    \n",
    "# Print the class dictionary\n",
    "print(Calculator.__dict__)"
   ]
  },
  {
   "cell_type": "markdown",
   "metadata": {},
   "source": [
    "These methods work the same as any function, but only exist inside the class."
   ]
  },
  {
   "cell_type": "code",
   "execution_count": 20,
   "metadata": {},
   "outputs": [
    {
     "name": "stdout",
     "output_type": "stream",
     "text": [
      "1 + 2 = 3\n",
      "5 - 2 = 3\n",
      "7 * 4 = 28\n",
      "6 / 2 = 3.0\n"
     ]
    }
   ],
   "source": [
    "print('1 + 2 =', Calculator.add(1, 2))\n",
    "print('5 - 2 =', Calculator.substract(5, 2))\n",
    "print('7 * 4 =', Calculator.multiply(7, 4))\n",
    "print('6 / 2 =', Calculator.divide(6, 2))"
   ]
  },
  {
   "cell_type": "markdown",
   "metadata": {},
   "source": [
    "While this may be useful for grouping certain methods together we don't gain any new functionality. We could have simply defined the functions in separate module.\n",
    "\n",
    "<br>\n",
    "\n",
    "### Static Methods\n",
    "\n",
    "If we create an instance of `Calculator` we cannot use its methods as the instance object is also passed as an argument."
   ]
  },
  {
   "cell_type": "code",
   "execution_count": 21,
   "metadata": {},
   "outputs": [
    {
     "ename": "TypeError",
     "evalue": "add() takes 2 positional arguments but 3 were given",
     "output_type": "error",
     "traceback": [
      "\u001b[0;31m---------------------------------------------------------------------------\u001b[0m",
      "\u001b[0;31mTypeError\u001b[0m                                 Traceback (most recent call last)",
      "\u001b[0;32m<ipython-input-21-4a6b35cc29d2>\u001b[0m in \u001b[0;36m<module>\u001b[0;34m\u001b[0m\n\u001b[1;32m      1\u001b[0m \u001b[0;31m# Create an instance of the class\u001b[0m\u001b[0;34m\u001b[0m\u001b[0;34m\u001b[0m\u001b[0;34m\u001b[0m\u001b[0m\n\u001b[1;32m      2\u001b[0m \u001b[0mcalc\u001b[0m \u001b[0;34m=\u001b[0m \u001b[0mCalculator\u001b[0m\u001b[0;34m(\u001b[0m\u001b[0;34m)\u001b[0m\u001b[0;34m\u001b[0m\u001b[0;34m\u001b[0m\u001b[0m\n\u001b[0;32m----> 3\u001b[0;31m \u001b[0mprint\u001b[0m\u001b[0;34m(\u001b[0m\u001b[0mcalc\u001b[0m\u001b[0;34m.\u001b[0m\u001b[0madd\u001b[0m\u001b[0;34m(\u001b[0m\u001b[0;36m1\u001b[0m\u001b[0;34m,\u001b[0m \u001b[0;36m2\u001b[0m\u001b[0;34m)\u001b[0m\u001b[0;34m)\u001b[0m\u001b[0;34m\u001b[0m\u001b[0;34m\u001b[0m\u001b[0m\n\u001b[0m",
      "\u001b[0;31mTypeError\u001b[0m: add() takes 2 positional arguments but 3 were given"
     ]
    }
   ],
   "source": [
    "# Create an instance of the class\n",
    "calc = Calculator()\n",
    "print(calc.add(1, 2))"
   ]
  },
  {
   "cell_type": "markdown",
   "metadata": {},
   "source": [
    "To avoid this problem we can declare that the methods are *static*. This can be done using the `@staticmethod` decorator, which essentially tells the method not to expect the instance object as a first argument."
   ]
  },
  {
   "cell_type": "code",
   "execution_count": 22,
   "metadata": {},
   "outputs": [
    {
     "name": "stdout",
     "output_type": "stream",
     "text": [
      "{'__module__': '__main__', 'add': <staticmethod object at 0x108bbeb70>, 'substract': <staticmethod object at 0x108bbec50>, 'multiply': <staticmethod object at 0x108bbec88>, 'divide': <staticmethod object at 0x108bbecc0>, '__dict__': <attribute '__dict__' of 'staticCalculator' objects>, '__weakref__': <attribute '__weakref__' of 'staticCalculator' objects>, '__doc__': None}\n"
     ]
    }
   ],
   "source": [
    "class staticCalculator:\n",
    "    \n",
    "    @staticmethod\n",
    "    def add(x, y):\n",
    "        return x + y\n",
    "    \n",
    "    @staticmethod\n",
    "    def substract(x, y):\n",
    "        return x - y\n",
    "    \n",
    "    @staticmethod\n",
    "    def multiply(x, y):\n",
    "        return x * y\n",
    "    \n",
    "    @staticmethod\n",
    "    def divide(x, y):\n",
    "        return x / y\n",
    "    \n",
    "# Print the class dictionary\n",
    "print(staticCalculator.__dict__)"
   ]
  },
  {
   "cell_type": "markdown",
   "metadata": {},
   "source": [
    "We can see that the methods are accessable direcly from the class or from an instance."
   ]
  },
  {
   "cell_type": "code",
   "execution_count": 23,
   "metadata": {},
   "outputs": [
    {
     "name": "stdout",
     "output_type": "stream",
     "text": [
      "1 + 2 = 3\n",
      "1 + 2 = 3\n"
     ]
    }
   ],
   "source": [
    "# Create an instance of the class\n",
    "calc = staticCalculator()\n",
    "print('1 + 2 =', staticCalculator.add(1, 2))\n",
    "print('1 + 2 =', calc.add(1, 2))"
   ]
  },
  {
   "cell_type": "markdown",
   "metadata": {},
   "source": [
    "This is an improvement, but we are still not getting much from the class that we could not already get from individual functions."
   ]
  },
  {
   "cell_type": "markdown",
   "metadata": {},
   "source": [
    "### Class Methods\n",
    "\n",
    "Similarly to static methods, we can use the `@classmethod` decorator to define a class method. This tells the method to expect the class object (`cls`) as the first argument to a given method rather than an instance object. This means class methods have access to all class attributes.\n",
    "\n",
    "In the following example we define a class for implementing the Stefan-Boltzmann law. "
   ]
  },
  {
   "cell_type": "code",
   "execution_count": 24,
   "metadata": {},
   "outputs": [
    {
     "name": "stdout",
     "output_type": "stream",
     "text": [
      "{'__module__': '__main__', '__doc__': ' The Stefan–Boltzmann law\\n    ', 'sigma': 5.670367e-08, 'luminosity': <classmethod object at 0x108bb5400>, 'radius': <classmethod object at 0x108bb5438>, 'temperature': <classmethod object at 0x108aeac50>, '__dict__': <attribute '__dict__' of 'StefBoltz' objects>, '__weakref__': <attribute '__weakref__' of 'StefBoltz' objects>}\n"
     ]
    }
   ],
   "source": [
    "from math import pi, sqrt\n",
    "\n",
    "class StefBoltz:\n",
    "    \"\"\" The Stefan–Boltzmann law\n",
    "    \"\"\"\n",
    "    \n",
    "    # The Stefan-Boltzmann constant\n",
    "    sigma = 5.670367e-8 # Wm^−2K^−4\n",
    "        \n",
    "    @classmethod\n",
    "    def luminosity(cls, radius, effective_temp):\n",
    "     \n",
    "        return 4 * pi * radius ** 2 * cls.sigma * effective_temp ** 4\n",
    "    \n",
    "    @classmethod\n",
    "    def radius(cls, luminosity, effective_temp):\n",
    "    \n",
    "        return sqrt(luminosity / (4 * pi * cls.sigma * effective_temp ** 4))\n",
    "    \n",
    "    @classmethod\n",
    "    def temperature(cls, radius, luminosity):\n",
    "    \n",
    "        return (luminosity / (4 * pi * radius ** 2 * cls.sigma)) ** 0.25\n",
    "    \n",
    "# Print the class dictionary\n",
    "print(StefBoltz.__dict__)"
   ]
  },
  {
   "cell_type": "markdown",
   "metadata": {},
   "source": [
    "We can see that all three methods have access to the class attribute `sigma`, which means that this variable does not have be redefined or passed to each method."
   ]
  },
  {
   "cell_type": "code",
   "execution_count": 25,
   "metadata": {},
   "outputs": [
    {
     "name": "stdout",
     "output_type": "stream",
     "text": [
      "The luminosity of the Sun is 3.95e+26W\n",
      "The radius of Alpha Centauri is 2.52e+09m\n"
     ]
    }
   ],
   "source": [
    "print('The luminosity of the Sun is {:.2e}W'.format(StefBoltz.luminosity(7e8, 5800)))\n",
    "print('The radius of Alpha Centauri is {:.2e}m'.format(StefBoltz.radius(4e28, 9700)))\n"
   ]
  },
  {
   "cell_type": "markdown",
   "metadata": {},
   "source": [
    "Class methods can also be called by class instances."
   ]
  },
  {
   "cell_type": "code",
   "execution_count": 26,
   "metadata": {},
   "outputs": [
    {
     "name": "stdout",
     "output_type": "stream",
     "text": [
      "The effective temperature of the Earth is 278.92K\n"
     ]
    }
   ],
   "source": [
    "sb = StefBoltz()\n",
    "print('The effective temperature of the Earth is {:.2f}K'\n",
    "      ''.format(sb.temperature(6.37e6, 1.75e+17)))"
   ]
  },
  {
   "cell_type": "markdown",
   "metadata": {},
   "source": [
    "Finally, class methods can also access static methods and/or other class methods, meaning that a more complicated class structure can be designed that does not require instantitaion."
   ]
  },
  {
   "cell_type": "code",
   "execution_count": 27,
   "metadata": {},
   "outputs": [
    {
     "name": "stdout",
     "output_type": "stream",
     "text": [
      "Force = 10.0N\n"
     ]
    }
   ],
   "source": [
    "class Newton:\n",
    "    \n",
    "    @staticmethod\n",
    "    def velocity(displacement, time):\n",
    "        return displacement / time\n",
    "    \n",
    "    @classmethod\n",
    "    def acceleration(cls, displacement, time):\n",
    "        return cls.velocity(displacement, time) / time\n",
    "    \n",
    "    @classmethod\n",
    "    def force(cls, mass, displacement, time):\n",
    "        return mass * cls.acceleration(displacement, time)\n",
    "    \n",
    "print('Force = {}N'.format(Newton.force(5, 2, 1)))"
   ]
  },
  {
   "cell_type": "markdown",
   "metadata": {},
   "source": [
    "While this certainly adds some new functionality, we are still not using class methods to their full potential.\n",
    "\n",
    "<br>\n",
    "\n",
    "### Instance Methods\n",
    "\n",
    "In the previous section you learned how to instantiate a class using the `self` variable. You also saw that (if we don't add a special decorator) when an instance calls a method it expects an extra agrument. You might have already guessed that this argument is `self` and by defining methods with this argument we can pass instance attributes.\n",
    "\n",
    "This is the default and arguably most powerful way of using methods. In the following example we demonstrate a very simply class for doubling and tripling an input value.\n"
   ]
  },
  {
   "cell_type": "code",
   "execution_count": 30,
   "metadata": {},
   "outputs": [
    {
     "name": "stdout",
     "output_type": "stream",
     "text": [
      "Instance 1: 3 6 9\n",
      "Instance 2: 7 14 21\n"
     ]
    }
   ],
   "source": [
    "class simpleClass:\n",
    "    \n",
    "    def __init__(self, value):\n",
    "        self.value = value\n",
    "        \n",
    "    def double(self):\n",
    "        return self.value * 2\n",
    "    \n",
    "    def triple(self):\n",
    "        return self.value * 3\n",
    "\n",
    "# Create a class instance\n",
    "sc1 = simpleClass(3)\n",
    "sc2 = simpleClass(7)\n",
    "print('Instance 1:', sc1.value, sc1.double(), sc1.triple())\n",
    "print('Instance 2:', sc2.value, sc2.double(), sc2.triple())"
   ]
  },
  {
   "cell_type": "markdown",
   "metadata": {},
   "source": [
    "This may seem trivial, but this allows us to use methods that are automatically tailored to the class instance. The input value only needs to passed once, meaning the code is easier to debug and a single Python object ends up with a lot of functionality.\n",
    "\n",
    "<br>\n",
    "\n",
    "### Mixing Methods\n",
    "\n",
    "In the next example we show that various class methods can be combined to provide more complex behaviour."
   ]
  },
  {
   "cell_type": "code",
   "execution_count": 33,
   "metadata": {},
   "outputs": [
    {
     "name": "stdout",
     "output_type": "stream",
     "text": [
      "listHandler.__dict__ {'__module__': '__main__', '__doc__': ' List Handler\\n    \\n    Class for handling list properties.\\n    \\n    ', '__init__': <function listHandler.__init__ at 0x108bc8400>, '_get_length': <staticmethod object at 0x108bc9080>, '_get_element': <staticmethod object at 0x108bc90f0>, '_get_first': <classmethod object at 0x108bc9128>, '_get_last': <classmethod object at 0x108bc9160>, 'get_length': <function listHandler.get_length at 0x108bc8158>, 'get_first': <function listHandler.get_first at 0x108bc80d0>, 'get_last': <function listHandler.get_last at 0x108bc8950>, '__dict__': <attribute '__dict__' of 'listHandler' objects>, '__weakref__': <attribute '__weakref__' of 'listHandler' objects>}\n"
     ]
    }
   ],
   "source": [
    "class listHandler:\n",
    "    \"\"\" List Handler\n",
    "    \n",
    "    Class for handling list properties.\n",
    "    \n",
    "    \"\"\"\n",
    "    \n",
    "    def __init__(self, mylist):\n",
    "        \n",
    "        self._list = mylist\n",
    "        self.get_length()\n",
    "        self.get_first()\n",
    "        self.get_last()\n",
    "    \n",
    "    @staticmethod\n",
    "    def _get_length(_list):\n",
    "        \n",
    "        return len(_list)\n",
    "    \n",
    "    @staticmethod\n",
    "    def _get_element(_list, index):\n",
    "        \n",
    "        return _list[index]\n",
    "    \n",
    "    @classmethod\n",
    "    def _get_first(cls, _list):\n",
    "        \n",
    "        return cls._get_element(_list, 0)\n",
    "    \n",
    "    @classmethod\n",
    "    def _get_last(cls, _list):\n",
    "        \n",
    "        return cls._get_element(_list, -1)\n",
    "    \n",
    "    def get_length(self):\n",
    "        \n",
    "        self.len = self._get_length(self._list)\n",
    "        \n",
    "    def get_first(self):\n",
    "        \n",
    "        self.first = self._get_first(self._list)\n",
    "        \n",
    "    def get_last(self):\n",
    "        \n",
    "        self.last = self._get_last(self._list)\n",
    "\n",
    "print('listHandler.__dict__', listHandler.__dict__)"
   ]
  },
  {
   "cell_type": "markdown",
   "metadata": {},
   "source": [
    "> Note that an underscore is the convention used to denote a \"private\" attribute. These attributes can be accessed in the usual way, but it is assumed that the user should not need to."
   ]
  },
  {
   "cell_type": "code",
   "execution_count": 32,
   "metadata": {},
   "outputs": [
    {
     "name": "stdout",
     "output_type": "stream",
     "text": [
      "Length: 10\n",
      "First: 0\n",
      "Last: 9\n"
     ]
    }
   ],
   "source": [
    "lh = listHandler(list(range(10)))\n",
    "print('Length:', lh.len)\n",
    "print('First:', lh.first)\n",
    "print('Last:', lh.last)"
   ]
  },
  {
   "cell_type": "markdown",
   "metadata": {},
   "source": [
    "This is a very complicated way of doing something simple, but it demonstrates how static, class and instance methods can be used together."
   ]
  },
  {
   "cell_type": "markdown",
   "metadata": {},
   "source": [
    "## 3 Properties\n",
    "---\n",
    "\n",
    "Now that you are familiar with basic class attributes and methods we can look at class properties.\n",
    "\n",
    "<br>\n",
    "\n",
    "### Getters and Setters\n",
    "\n",
    "As you have already seen, in Python attributes can direcly be assigned to classes or instances. In some cases, however, it may be useful to formally define methods for getting and setting attributes."
   ]
  },
  {
   "cell_type": "code",
   "execution_count": 38,
   "metadata": {},
   "outputs": [
    {
     "name": "stdout",
     "output_type": "stream",
     "text": [
      "myinst.myattr = None\n",
      "myinst.myattr = 5\n"
     ]
    }
   ],
   "source": [
    "class myClass:\n",
    "    \n",
    "    def __init__(self):\n",
    "        self.myattr = None\n",
    "        \n",
    "    def get_attr(self):\n",
    "        return self.myattr\n",
    "    \n",
    "    def set_attr(self, value):\n",
    "        self.myattr = value\n",
    "        \n",
    "myinst = myClass()\n",
    "print('myinst.myattr =', myinst.get_attr())\n",
    "myinst.set_attr(5)\n",
    "print('myinst.myattr =', myinst.get_attr())"
   ]
  },
  {
   "cell_type": "markdown",
   "metadata": {},
   "source": [
    "This may seem silly, as we could have just as easily done the following to get the same result with defining two additional methods."
   ]
  },
  {
   "cell_type": "code",
   "execution_count": 39,
   "metadata": {},
   "outputs": [
    {
     "name": "stdout",
     "output_type": "stream",
     "text": [
      "myinst.myattr = None\n",
      "myinst.myattr = 5\n"
     ]
    }
   ],
   "source": [
    "myinst = myClass()\n",
    "print('myinst.myattr =', myinst.myattr)\n",
    "myinst.myattr = 5\n",
    "print('myinst.myattr =', myinst.myattr)"
   ]
  },
  {
   "cell_type": "markdown",
   "metadata": {},
   "source": [
    "But now let's assume that we want `myattr` to be a positive integer, but returned as a float and if you attemp to set something else the code will raise an exception."
   ]
  },
  {
   "cell_type": "code",
   "execution_count": 53,
   "metadata": {},
   "outputs": [
    {
     "name": "stdout",
     "output_type": "stream",
     "text": [
      "myinst.myattr = 1.0\n",
      "myinst.myattr = 5.0\n"
     ]
    }
   ],
   "source": [
    "class myClass:\n",
    "    \n",
    "    def __init__(self):\n",
    "        self.myattr = 1\n",
    "        \n",
    "    def get_attr(self):\n",
    "        return float(self.myattr)\n",
    "    \n",
    "    def set_attr(self, value):\n",
    "        if not isinstance(value, int) or value < 1:\n",
    "            raise ValueError('myattr must be a positive integer! '\n",
    "                             'Input value is of type {}.'.format(type(value)))\n",
    "        self.myattr = value\n",
    "        \n",
    "myinst = myClass()\n",
    "print('myinst.myattr =', myinst.get_attr())\n",
    "myinst.set_attr(5)\n",
    "print('myinst.myattr =', myinst.get_attr())"
   ]
  },
  {
   "cell_type": "markdown",
   "metadata": {},
   "source": [
    "We can see that everything works as before, but when we try setting a negative integer "
   ]
  },
  {
   "cell_type": "code",
   "execution_count": 54,
   "metadata": {},
   "outputs": [
    {
     "ename": "ValueError",
     "evalue": "myattr must be a positive integer! Input value is of type <class 'int'>.",
     "output_type": "error",
     "traceback": [
      "\u001b[0;31m---------------------------------------------------------------------------\u001b[0m",
      "\u001b[0;31mValueError\u001b[0m                                Traceback (most recent call last)",
      "\u001b[0;32m<ipython-input-54-39d974b1d709>\u001b[0m in \u001b[0;36m<module>\u001b[0;34m\u001b[0m\n\u001b[0;32m----> 1\u001b[0;31m \u001b[0mmyinst\u001b[0m\u001b[0;34m.\u001b[0m\u001b[0mset_attr\u001b[0m\u001b[0;34m(\u001b[0m\u001b[0;34m-\u001b[0m\u001b[0;36m4\u001b[0m\u001b[0;34m)\u001b[0m\u001b[0;34m\u001b[0m\u001b[0;34m\u001b[0m\u001b[0m\n\u001b[0m",
      "\u001b[0;32m<ipython-input-53-4ba6b254a616>\u001b[0m in \u001b[0;36mset_attr\u001b[0;34m(self, value)\u001b[0m\n\u001b[1;32m     10\u001b[0m         \u001b[0;32mif\u001b[0m \u001b[0;32mnot\u001b[0m \u001b[0misinstance\u001b[0m\u001b[0;34m(\u001b[0m\u001b[0mvalue\u001b[0m\u001b[0;34m,\u001b[0m \u001b[0mint\u001b[0m\u001b[0;34m)\u001b[0m \u001b[0;32mor\u001b[0m \u001b[0mvalue\u001b[0m \u001b[0;34m<\u001b[0m \u001b[0;36m1\u001b[0m\u001b[0;34m:\u001b[0m\u001b[0;34m\u001b[0m\u001b[0;34m\u001b[0m\u001b[0m\n\u001b[1;32m     11\u001b[0m             raise ValueError('myattr must be a positive integer! '\n\u001b[0;32m---> 12\u001b[0;31m                              'Input value is of type {}.'.format(type(value)))\n\u001b[0m\u001b[1;32m     13\u001b[0m         \u001b[0mself\u001b[0m\u001b[0;34m.\u001b[0m\u001b[0mmyattr\u001b[0m \u001b[0;34m=\u001b[0m \u001b[0mvalue\u001b[0m\u001b[0;34m\u001b[0m\u001b[0;34m\u001b[0m\u001b[0m\n\u001b[1;32m     14\u001b[0m \u001b[0;34m\u001b[0m\u001b[0m\n",
      "\u001b[0;31mValueError\u001b[0m: myattr must be a positive integer! Input value is of type <class 'int'>."
     ]
    }
   ],
   "source": [
    "myinst.set_attr(-4)"
   ]
  },
  {
   "cell_type": "markdown",
   "metadata": {},
   "source": [
    "or a float the code raises and exception."
   ]
  },
  {
   "cell_type": "code",
   "execution_count": 55,
   "metadata": {},
   "outputs": [
    {
     "ename": "ValueError",
     "evalue": "myattr must be a positive integer! Input value is of type <class 'float'>.",
     "output_type": "error",
     "traceback": [
      "\u001b[0;31m---------------------------------------------------------------------------\u001b[0m",
      "\u001b[0;31mValueError\u001b[0m                                Traceback (most recent call last)",
      "\u001b[0;32m<ipython-input-55-822b40c38463>\u001b[0m in \u001b[0;36m<module>\u001b[0;34m\u001b[0m\n\u001b[0;32m----> 1\u001b[0;31m \u001b[0mmyinst\u001b[0m\u001b[0;34m.\u001b[0m\u001b[0mset_attr\u001b[0m\u001b[0;34m(\u001b[0m\u001b[0;36m5.6\u001b[0m\u001b[0;34m)\u001b[0m\u001b[0;34m\u001b[0m\u001b[0;34m\u001b[0m\u001b[0m\n\u001b[0m",
      "\u001b[0;32m<ipython-input-53-4ba6b254a616>\u001b[0m in \u001b[0;36mset_attr\u001b[0;34m(self, value)\u001b[0m\n\u001b[1;32m     10\u001b[0m         \u001b[0;32mif\u001b[0m \u001b[0;32mnot\u001b[0m \u001b[0misinstance\u001b[0m\u001b[0;34m(\u001b[0m\u001b[0mvalue\u001b[0m\u001b[0;34m,\u001b[0m \u001b[0mint\u001b[0m\u001b[0;34m)\u001b[0m \u001b[0;32mor\u001b[0m \u001b[0mvalue\u001b[0m \u001b[0;34m<\u001b[0m \u001b[0;36m1\u001b[0m\u001b[0;34m:\u001b[0m\u001b[0;34m\u001b[0m\u001b[0;34m\u001b[0m\u001b[0m\n\u001b[1;32m     11\u001b[0m             raise ValueError('myattr must be a positive integer! '\n\u001b[0;32m---> 12\u001b[0;31m                              'Input value is of type {}.'.format(type(value)))\n\u001b[0m\u001b[1;32m     13\u001b[0m         \u001b[0mself\u001b[0m\u001b[0;34m.\u001b[0m\u001b[0mmyattr\u001b[0m \u001b[0;34m=\u001b[0m \u001b[0mvalue\u001b[0m\u001b[0;34m\u001b[0m\u001b[0;34m\u001b[0m\u001b[0m\n\u001b[1;32m     14\u001b[0m \u001b[0;34m\u001b[0m\u001b[0m\n",
      "\u001b[0;31mValueError\u001b[0m: myattr must be a positive integer! Input value is of type <class 'float'>."
     ]
    }
   ],
   "source": [
    "myinst.set_attr(5.6)"
   ]
  },
  {
   "cell_type": "markdown",
   "metadata": {},
   "source": [
    "We can see that getters and setters provide a means of adding conditions to the assignment or retrieval of an attribute.\n",
    "\n",
    "<br>\n",
    "\n",
    "### Class Properties\n",
    "\n",
    "In the previous example we saw that we could add conditions to the assignment of an attribute using getters and setters, however there is nothing to prevent a user from directly accessing the attribute and assigning an inccorect value. One way to help avoid this is by using the special `property` decorator."
   ]
  },
  {
   "cell_type": "code",
   "execution_count": 58,
   "metadata": {},
   "outputs": [
    {
     "name": "stdout",
     "output_type": "stream",
     "text": [
      "myinst.myattr = 1.0\n",
      "myinst.myattr = 5.0\n"
     ]
    }
   ],
   "source": [
    "class myClass:\n",
    "    \n",
    "    def __init__(self):\n",
    "        self._myattr = 1\n",
    "        \n",
    "    def get_attr(self):\n",
    "        return float(self._myattr)\n",
    "    \n",
    "    def set_attr(self, value):\n",
    "        if not isinstance(value, int) or value < 1:\n",
    "            raise ValueError('myattr must be a positive integer! '\n",
    "                             'Input value is of type {}.'.format(type(value)))\n",
    "        self._myattr = value\n",
    "        \n",
    "    myattr = property(get_attr, set_attr)\n",
    "        \n",
    "myinst = myClass()\n",
    "print('myinst.myattr =', myinst.myattr)\n",
    "myinst.myattr = 5\n",
    "print('myinst.myattr =', myinst.myattr)"
   ]
  },
  {
   "cell_type": "markdown",
   "metadata": {},
   "source": [
    "This allows us to return to the more natural syntax of simply assigning a value to the attribute via the intermediate private attribute `_myattr`.\n",
    "\n",
    "We can rewrite the same class in the following way for a simple implementation."
   ]
  },
  {
   "cell_type": "code",
   "execution_count": 61,
   "metadata": {},
   "outputs": [
    {
     "name": "stdout",
     "output_type": "stream",
     "text": [
      "myinst.myattr = 1.0\n",
      "myinst.myattr = 5.0\n"
     ]
    }
   ],
   "source": [
    "class myClass:\n",
    "    \n",
    "    def __init__(self):\n",
    "        self._myattr = 1\n",
    "    \n",
    "    @property\n",
    "    def myattr(self):\n",
    "        return float(self._myattr)\n",
    "    \n",
    "    @myattr.setter\n",
    "    def myattr(self, value):\n",
    "        if not isinstance(value, int) or value < 1:\n",
    "            raise ValueError('myattr must be a positive integer! '\n",
    "                             'Input value is of type {}.'.format(type(value)))\n",
    "        self._myattr = value\n",
    "        \n",
    "myinst = myClass()\n",
    "print('myinst.myattr =', myinst.myattr)\n",
    "myinst.myattr = 5\n",
    "print('myinst.myattr =', myinst.myattr)"
   ]
  },
  {
   "cell_type": "markdown",
   "metadata": {},
   "source": [
    "Which retains all of the same functionality."
   ]
  },
  {
   "cell_type": "code",
   "execution_count": 62,
   "metadata": {},
   "outputs": [
    {
     "ename": "ValueError",
     "evalue": "myattr must be a positive integer! Input value is of type <class 'float'>.",
     "output_type": "error",
     "traceback": [
      "\u001b[0;31m---------------------------------------------------------------------------\u001b[0m",
      "\u001b[0;31mValueError\u001b[0m                                Traceback (most recent call last)",
      "\u001b[0;32m<ipython-input-62-3fa3913e6744>\u001b[0m in \u001b[0;36m<module>\u001b[0;34m\u001b[0m\n\u001b[0;32m----> 1\u001b[0;31m \u001b[0mmyinst\u001b[0m\u001b[0;34m.\u001b[0m\u001b[0mmyattr\u001b[0m \u001b[0;34m=\u001b[0m \u001b[0;36m5.6\u001b[0m\u001b[0;34m\u001b[0m\u001b[0;34m\u001b[0m\u001b[0m\n\u001b[0m",
      "\u001b[0;32m<ipython-input-61-6a4257dbe480>\u001b[0m in \u001b[0;36mmyattr\u001b[0;34m(self, value)\u001b[0m\n\u001b[1;32m     12\u001b[0m         \u001b[0;32mif\u001b[0m \u001b[0;32mnot\u001b[0m \u001b[0misinstance\u001b[0m\u001b[0;34m(\u001b[0m\u001b[0mvalue\u001b[0m\u001b[0;34m,\u001b[0m \u001b[0mint\u001b[0m\u001b[0;34m)\u001b[0m \u001b[0;32mor\u001b[0m \u001b[0mvalue\u001b[0m \u001b[0;34m<\u001b[0m \u001b[0;36m1\u001b[0m\u001b[0;34m:\u001b[0m\u001b[0;34m\u001b[0m\u001b[0;34m\u001b[0m\u001b[0m\n\u001b[1;32m     13\u001b[0m             raise ValueError('myattr must be a positive integer! '\n\u001b[0;32m---> 14\u001b[0;31m                              'Input value is of type {}.'.format(type(value)))\n\u001b[0m\u001b[1;32m     15\u001b[0m         \u001b[0mself\u001b[0m\u001b[0;34m.\u001b[0m\u001b[0m_myattr\u001b[0m \u001b[0;34m=\u001b[0m \u001b[0mvalue\u001b[0m\u001b[0;34m\u001b[0m\u001b[0;34m\u001b[0m\u001b[0m\n\u001b[1;32m     16\u001b[0m \u001b[0;34m\u001b[0m\u001b[0m\n",
      "\u001b[0;31mValueError\u001b[0m: myattr must be a positive integer! Input value is of type <class 'float'>."
     ]
    }
   ],
   "source": [
    "myinst.myattr = 5.6"
   ]
  },
  {
   "cell_type": "code",
   "execution_count": null,
   "metadata": {},
   "outputs": [],
   "source": []
  }
 ],
 "metadata": {
  "kernelspec": {
   "display_name": "Python 3",
   "language": "python",
   "name": "python3"
  },
  "language_info": {
   "codemirror_mode": {
    "name": "ipython",
    "version": 3
   },
   "file_extension": ".py",
   "mimetype": "text/x-python",
   "name": "python",
   "nbconvert_exporter": "python",
   "pygments_lexer": "ipython3",
   "version": "3.7.2"
  }
 },
 "nbformat": 4,
 "nbformat_minor": 2
}

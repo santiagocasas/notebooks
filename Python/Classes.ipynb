{
 "cells": [
  {
   "cell_type": "markdown",
   "metadata": {},
   "source": [
    "# The Anatomy of a Python Class\n",
    "\n",
    "> Author: Samuel Farrens (<samuel.farrens@cea.fr>)  \n",
    "> Year: 2019\n",
    "\n",
    "Classes are one of the fundamental building blocks of Python and are essential for object-oriented programming.\n",
    "\n",
    "In this notebook we will explore how classes work and look at tips and tricks for getting the most out of them. By the end of this tutorial you should have, not only a much better understanding of Python classes, but also some new ideas for writing better code.\n",
    "\n",
    "## Contents\n",
    "\n",
    "---\n",
    "\n",
    "* [1 Disecting a Class](#1-Disecting-a-Class)\n",
    "  * [The Class Dictionary](#The-Class-Dictionary)\n",
    "  * [Instantiation](#Instantiation)\n",
    "* [2 Methods](#2-Methods)\n",
    "  * [Instance Methods](#Instance-Methods)\n",
    "  * [Static Methdos](#Static-Methods)\n",
    "  * [Class Methods](#Class-Methods)\n",
    "  * [Abstract Methods](#Abstract-Methods)\n",
    "* [3 Inheritance](#3-Inheritance)\n",
    "* [4 Composition](#4-Composition)"
   ]
  },
  {
   "cell_type": "markdown",
   "metadata": {},
   "source": [
    "## 1 Disecting a Class\n",
    "\n",
    "---\n",
    "\n",
    "To get a better grip on what a class is and how it works lets have a look at what is going on \"inside\".\n",
    "\n",
    "We can start disecting a class by looking at its dictionary.\n",
    "\n",
    "<br/>\n",
    "\n",
    "### The Class Dictionary\n",
    "\n",
    "Classes are defined with the keyword `class`, much like the keyword `def` is used for defining functions. In the following cell we define a class without any attributes (note the use of the null `pass` statement)."
   ]
  },
  {
   "cell_type": "code",
   "execution_count": 1,
   "metadata": {},
   "outputs": [],
   "source": [
    "# Define a dummy class\n",
    "class myClass:\n",
    "    pass"
   ]
  },
  {
   "cell_type": "markdown",
   "metadata": {},
   "source": [
    "This object clearly has little use, but it is a good starting place to look at the structure of classes in general. We can start by looking at the special `__dict__` attribute of the object."
   ]
  },
  {
   "cell_type": "code",
   "execution_count": 2,
   "metadata": {},
   "outputs": [
    {
     "name": "stdout",
     "output_type": "stream",
     "text": [
      "{'__module__': '__main__', '__dict__': <attribute '__dict__' of 'myClass' objects>, '__weakref__': <attribute '__weakref__' of 'myClass' objects>, '__doc__': None}\n"
     ]
    }
   ],
   "source": [
    "# Print the class dictionary\n",
    "print(myClass.__dict__)"
   ]
  },
  {
   "cell_type": "markdown",
   "metadata": {},
   "source": [
    "Unsurpsingly, this attribute is a dictionary, the contents of which are the following:\n",
    "\n",
    "* `'__doc__'` : The class docstring (defaults to `None`).\n",
    "* `'__module__'` : The name of module in which the class was defined.\n",
    "* `'__weakref__'` : A special attribute that allows *weak referencing*.\n",
    "* `'__dict__'` : A special attribute the defines the dictionary object. \n",
    "\n",
    "Now, let's see what happens when we assign a new attribute to the class. Class attributes are accessed and set using a dot (`.`) following the class name.\n",
    "\n",
    "> Note that any Python object can be assigned as a class attribute. We will come back to this concept later!"
   ]
  },
  {
   "cell_type": "code",
   "execution_count": 3,
   "metadata": {},
   "outputs": [
    {
     "name": "stdout",
     "output_type": "stream",
     "text": [
      "{'__module__': '__main__', '__dict__': <attribute '__dict__' of 'myClass' objects>, '__weakref__': <attribute '__weakref__' of 'myClass' objects>, '__doc__': None, 'myattr': True}\n"
     ]
    }
   ],
   "source": [
    "# Assign the attribute myattr with value True to the class\n",
    "myClass.myattr = True\n",
    "\n",
    "# Print the class dictionary\n",
    "print(myClass.__dict__)"
   ]
  },
  {
   "cell_type": "markdown",
   "metadata": {},
   "source": [
    "We can see that the class dictionary has a new entry with the key `myattr` and corresponding value `True`. We can even demonstrate that this dictionary behaves as any other..."
   ]
  },
  {
   "cell_type": "code",
   "execution_count": 4,
   "metadata": {},
   "outputs": [
    {
     "name": "stdout",
     "output_type": "stream",
     "text": [
      "True\n"
     ]
    }
   ],
   "source": [
    "# Print the class dictionary with key 'myattr'\n",
    "print(myClass.__dict__['myattr'])"
   ]
  },
  {
   "cell_type": "markdown",
   "metadata": {},
   "source": [
    "...except that it does not allow assignment."
   ]
  },
  {
   "cell_type": "code",
   "execution_count": 5,
   "metadata": {},
   "outputs": [
    {
     "ename": "TypeError",
     "evalue": "'mappingproxy' object does not support item assignment",
     "output_type": "error",
     "traceback": [
      "\u001b[0;31m---------------------------------------------------------------------------\u001b[0m",
      "\u001b[0;31mTypeError\u001b[0m                                 Traceback (most recent call last)",
      "\u001b[0;32m<ipython-input-5-931dc0aa55e3>\u001b[0m in \u001b[0;36m<module>\u001b[0;34m\u001b[0m\n\u001b[1;32m      1\u001b[0m \u001b[0;31m# Assign a new value to 'myattr' in the class dictionary\u001b[0m\u001b[0;34m\u001b[0m\u001b[0;34m\u001b[0m\u001b[0;34m\u001b[0m\u001b[0m\n\u001b[0;32m----> 2\u001b[0;31m \u001b[0mmyClass\u001b[0m\u001b[0;34m.\u001b[0m\u001b[0m__dict__\u001b[0m\u001b[0;34m[\u001b[0m\u001b[0;34m'myattr'\u001b[0m\u001b[0;34m]\u001b[0m \u001b[0;34m=\u001b[0m \u001b[0;32mFalse\u001b[0m\u001b[0;34m\u001b[0m\u001b[0;34m\u001b[0m\u001b[0m\n\u001b[0m",
      "\u001b[0;31mTypeError\u001b[0m: 'mappingproxy' object does not support item assignment"
     ]
    }
   ],
   "source": [
    "# Assign a new value to 'myattr' in the class dictionary\n",
    "myClass.__dict__['myattr'] = False"
   ]
  },
  {
   "cell_type": "markdown",
   "metadata": {},
   "source": [
    "Now we can define a new class with some predefined attributes and see what changes."
   ]
  },
  {
   "cell_type": "code",
   "execution_count": 6,
   "metadata": {},
   "outputs": [
    {
     "name": "stdout",
     "output_type": "stream",
     "text": [
      "{'__module__': '__main__', '__doc__': ' This is my class \\n    ', 'mybool': True, 'myint': 1, 'myfloat': 1.0, 'mystring': 'string', 'myfunc': <function myClass2.myfunc at 0x1111b0ae8>, '__dict__': <attribute '__dict__' of 'myClass2' objects>, '__weakref__': <attribute '__weakref__' of 'myClass2' objects>}\n"
     ]
    }
   ],
   "source": [
    "# Define a new dummy class with some attributes\n",
    "class myClass2:\n",
    "    \"\"\" This is my class \n",
    "    \"\"\"\n",
    "\n",
    "    mybool = True\n",
    "    myint = 1\n",
    "    myfloat = 1.0\n",
    "    mystring = 'string'\n",
    "    \n",
    "    def myfunc():\n",
    "        pass\n",
    "    \n",
    "# Print the class dictionary    \n",
    "print(myClass2.__dict__)"
   ]
  },
  {
   "cell_type": "markdown",
   "metadata": {},
   "source": [
    "All of the attributes can be found in the class dictionary, including the dummy method `myfunc`. Notice that `__doc__` is now a string. \n",
    "\n",
    "All of these attributes can be accessed..."
   ]
  },
  {
   "cell_type": "code",
   "execution_count": 18,
   "metadata": {},
   "outputs": [
    {
     "name": "stdout",
     "output_type": "stream",
     "text": [
      "mybool = True\n",
      "myint = 1\n",
      "myfloat = 1.0\n",
      "mystring = my new string\n",
      "myfunc = <function myClass2.myfunc at 0x1111b0ae8>\n",
      "mydoc =  This is my class \n",
      "    \n"
     ]
    }
   ],
   "source": [
    "# Print the class attributes\n",
    "print('mybool =', myClass2.mybool)\n",
    "print('myint =', myClass2.myint)\n",
    "print('myfloat =', myClass2.myfloat)\n",
    "print('mystring =', myClass2.mystring)\n",
    "print('myfunc =', myClass2.myfunc)\n",
    "print('mydoc =', myClass2.__doc__)"
   ]
  },
  {
   "cell_type": "markdown",
   "metadata": {},
   "source": [
    "...and modified."
   ]
  },
  {
   "cell_type": "code",
   "execution_count": 17,
   "metadata": {},
   "outputs": [
    {
     "name": "stdout",
     "output_type": "stream",
     "text": [
      "my new string\n"
     ]
    }
   ],
   "source": [
    "# Modify the value of the string attribute\n",
    "myClass2.mystring = 'my new string'\n",
    "\n",
    "# Print the string attribute\n",
    "print(myClass2.mystring)"
   ]
  },
  {
   "cell_type": "markdown",
   "metadata": {},
   "source": [
    "In summary the class `__dict__` attribute is useful for understanding how class attributes are stored, but should really be used directly.\n",
    "\n",
    "<br/>\n",
    "\n",
    "### Instantiation\n",
    "\n",
    "While accessing class attributes directly can be useful, in most applications it will be necessary to create a *class instance*. Every time a class is isntantiated a unique Python class object is created. These objects retain the global class attributes but can also be assigned unique instance attributes.\n",
    "\n",
    "We can create a class instance by calling the class name followed by `()`."
   ]
  },
  {
   "cell_type": "code",
   "execution_count": 7,
   "metadata": {},
   "outputs": [
    {
     "name": "stdout",
     "output_type": "stream",
     "text": [
      "{}\n"
     ]
    }
   ],
   "source": [
    "# Create an instance of the class\n",
    "myinst = myClass2()\n",
    "\n",
    "# Print the instance dictionary\n",
    "print(myinst.__dict__)"
   ]
  },
  {
   "cell_type": "markdown",
   "metadata": {},
   "source": [
    "Here we see that the instance dictionary is empty, which simply means that no *instance attributes* have been set. If we look at the instance class dictionary we can see all of the class attributes."
   ]
  },
  {
   "cell_type": "code",
   "execution_count": 8,
   "metadata": {},
   "outputs": [
    {
     "name": "stdout",
     "output_type": "stream",
     "text": [
      "{'__module__': '__main__', '__doc__': ' This is my class \\n    ', 'mybool': True, 'myint': 1, 'myfloat': 1.0, 'mystring': 'string', 'myfunc': <function myClass2.myfunc at 0x1111b0ae8>, '__dict__': <attribute '__dict__' of 'myClass2' objects>, '__weakref__': <attribute '__weakref__' of 'myClass2' objects>}\n"
     ]
    }
   ],
   "source": [
    "# Print the instance class dictionary\n",
    "print(myinst.__class__.__dict__)"
   ]
  },
  {
   "cell_type": "markdown",
   "metadata": {},
   "source": [
    "In order to assign instance attributes we will need to define a special initialisation method (`__init__`), which takes the special variable `self` as an argument."
   ]
  },
  {
   "cell_type": "code",
   "execution_count": 31,
   "metadata": {},
   "outputs": [
    {
     "name": "stdout",
     "output_type": "stream",
     "text": [
      "{'myfloat': 3.5}\n",
      "myfloat = 3.5\n"
     ]
    }
   ],
   "source": [
    "# Define a new dummy class with an init method\n",
    "class myClass3:\n",
    "    \n",
    "    def __init__(self):\n",
    "        \n",
    "        self.myfloat = 3.5\n",
    "   \n",
    "# Create an instance of the class and print the attribute properties\n",
    "myinst = myClass3()\n",
    "print(myinst.__dict__)\n",
    "print('myfloat =', myinst.myfloat)\n"
   ]
  },
  {
   "cell_type": "markdown",
   "metadata": {},
   "source": [
    "`self` represents the any given class instance and attributes are assigned to it as usual with a dot. Printing the instance dictionary (which is equivalent to `self.__dict__`) reveals the attributes that have been assigned to it.\n",
    "\n",
    "As with class attributes, instance attribute values can be modified."
   ]
  },
  {
   "cell_type": "code",
   "execution_count": 28,
   "metadata": {},
   "outputs": [
    {
     "name": "stdout",
     "output_type": "stream",
     "text": [
      "{'myfloat': 7.2}\n",
      "myfloat = 7.2\n"
     ]
    }
   ],
   "source": [
    "myinst.myfloat = 7.2\n",
    "print(myinst.__dict__)\n",
    "print('myfloat =', myinst.myfloat)"
   ]
  },
  {
   "cell_type": "markdown",
   "metadata": {},
   "source": [
    "Additional agruments can be passed to `__init__` allowing for a more instance specific initialisation of the class."
   ]
  },
  {
   "cell_type": "code",
   "execution_count": 30,
   "metadata": {},
   "outputs": [
    {
     "name": "stdout",
     "output_type": "stream",
     "text": [
      "myfloat = 3.14\n",
      "myfloat = 6.28\n"
     ]
    }
   ],
   "source": [
    "# Define a new dummy class with a more dynamic init method\n",
    "class myClass4:\n",
    "    \n",
    "    def __init__(self, value):\n",
    "        \n",
    "        self.myfloat = value\n",
    "\n",
    "# Create instances of the class and print the attribute properties\n",
    "myinst1 = myClass4(3.14)\n",
    "myinst2 = myClass4(6.28)\n",
    "print('myfloat =', myinst1.myfloat)\n",
    "print('myfloat =', myinst2.myfloat)"
   ]
  },
  {
   "cell_type": "markdown",
   "metadata": {},
   "source": [
    "When designing a class it is important to think about which attributes need to be assigned to the class and which to the class instances.\n",
    "\n",
    "In the following section we will focus on the various types of method attributes."
   ]
  },
  {
   "cell_type": "markdown",
   "metadata": {},
   "source": [
    "## 2 Methods\n",
    "\n",
    "---\n",
    "\n",
    "<br/>\n",
    "\n",
    "### Instance Methods\n",
    "\n",
    "In the previous section you learned how to instantiate a class and that any Python object can be assigned as a class attribute. As functions are Python objects, they too be assigned to class attributes."
   ]
  },
  {
   "cell_type": "code",
   "execution_count": 36,
   "metadata": {},
   "outputs": [
    {
     "name": "stdout",
     "output_type": "stream",
     "text": [
      "{'add': <function myfunc at 0x1111b0c80>}\n",
      "1 + 2 = 3\n"
     ]
    }
   ],
   "source": [
    "class myClass5:\n",
    "    \n",
    "    def __init__(self):\n",
    "        pass\n",
    "    \n",
    "def myfunc(a, b):\n",
    "    \n",
    "    return a + b\n",
    "\n",
    "myinst = myClass5()\n",
    "myinst.add = myfunc\n",
    "\n",
    "print(myinst.__dict__)\n",
    "print('1 + 2 =', myinst.add(1, 2))"
   ]
  },
  {
   "cell_type": "markdown",
   "metadata": {},
   "source": [
    "We can see that the function `myfunc` has been assigned to the instance attribute `add`. This, however, is not a very efficient way to assign methods to a class.\n",
    "\n",
    "> Note that functions are called methods when they are class attributes.\n",
    "\n",
    "Let's look at a better way of defining methods for class instances."
   ]
  },
  {
   "cell_type": "code",
   "execution_count": 48,
   "metadata": {},
   "outputs": [
    {
     "name": "stdout",
     "output_type": "stream",
     "text": [
      "{'c': 300000000.0}\n",
      "E = 7.2e+18 J\n",
      "m = 1.0 Kg\n"
     ]
    }
   ],
   "source": [
    "class Einstein:\n",
    "    \n",
    "    def __init__(self):\n",
    "        \n",
    "        self.c = 3e8\n",
    "    \n",
    "    def energy(self, mass):\n",
    "        \n",
    "        return mass * self.c ** 2\n",
    "    \n",
    "    def mass(self, energy):\n",
    "        \n",
    "        return energy / (self.c ** 2)\n",
    "\n",
    "myinst = Einstein()\n",
    "print(myinst.__dict__)        \n",
    "print('E = {} J'.format(myinst.energy(80)))\n",
    "print('m = {} Kg'.format(myinst.mass(9e16)))"
   ]
  },
  {
   "cell_type": "markdown",
   "metadata": {},
   "source": [
    "In this example we have not assigned the method `energy` to the instance, rather we have passed the instance to the method. This enables the method to see all instance attributes (in this case `c`). This is an extremely powerful mechanism in Python. Instead of defining two independent functions for calculating mass and energy, each of which would have had to hardwire the value of the speed of light or take it as an argument, we define it once as an instance attribute."
   ]
  },
  {
   "cell_type": "markdown",
   "metadata": {},
   "source": [
    "### Static Methods"
   ]
  },
  {
   "cell_type": "code",
   "execution_count": null,
   "metadata": {},
   "outputs": [],
   "source": [
    "class Calculator:\n",
    "    \n",
    "    def add(x, y):\n",
    "        return x + y\n",
    "    \n",
    "    def substract(x, y):\n",
    "        return x - y\n",
    "\n",
    "    def multiply(x, y):\n",
    "        return x * y\n",
    "    \n",
    "    def divide(x, y):\n",
    "        return x / y"
   ]
  },
  {
   "cell_type": "code",
   "execution_count": null,
   "metadata": {},
   "outputs": [],
   "source": [
    "print('1 + 2 =', Calculator.add(1, 2))\n",
    "print('5 - 2 =', Calculator.substract(5, 2))\n",
    "print('7 * 4 =', Calculator.multiply(7, 4))\n",
    "print('6 / 2 =', Calculator.divide(6, 2))"
   ]
  },
  {
   "cell_type": "code",
   "execution_count": null,
   "metadata": {},
   "outputs": [],
   "source": [
    "calc = Calculator()\n",
    "print('1 + 2 =', calc.add(1, 2))"
   ]
  },
  {
   "cell_type": "code",
   "execution_count": null,
   "metadata": {},
   "outputs": [],
   "source": [
    "class staticCalculator:\n",
    "    \n",
    "    @staticmethod\n",
    "    def add(x, y):\n",
    "        return x + y\n",
    "    \n",
    "    @staticmethod\n",
    "    def substract(x, y):\n",
    "        return x - y\n",
    "    \n",
    "    @staticmethod\n",
    "    def multiply(x, y):\n",
    "        return x * y\n",
    "    \n",
    "    @staticmethod\n",
    "    def divide(x, y):\n",
    "        return x / y"
   ]
  },
  {
   "cell_type": "code",
   "execution_count": null,
   "metadata": {},
   "outputs": [],
   "source": [
    "calc = staticCalculator()\n",
    "print('1 + 2 =', staticCalculator.add(1, 2))\n",
    "print('1 + 2 =', calc.add(1, 2))"
   ]
  },
  {
   "cell_type": "markdown",
   "metadata": {},
   "source": [
    "### Class Methods"
   ]
  },
  {
   "cell_type": "code",
   "execution_count": null,
   "metadata": {},
   "outputs": [],
   "source": [
    "from math import pi, sqrt\n",
    "\n",
    "class StefBoltz:\n",
    "    \"\"\" The Stefan–Boltzmann law\n",
    "    \"\"\"\n",
    "    \n",
    "    sigma = 5.670367e-8 # Wm^−2K^−4\n",
    "        \n",
    "    @classmethod\n",
    "    def luminosity(cls, radius, effective_temp):\n",
    "     \n",
    "        return 4 * pi * radius ** 2 * cls.sigma * effective_temp ** 4\n",
    "    \n",
    "    @classmethod\n",
    "    def radius(cls, luminosity, effective_temp):\n",
    "    \n",
    "        return sqrt(luminosity / (4 * pi * cls.sigma * effective_temp ** 4))\n",
    "    \n",
    "    @classmethod\n",
    "    def temperature(cls, radius, luminosity):\n",
    "    \n",
    "        return (luminosity / (4 * pi * radius ** 2 * cls.sigma)) ** 0.25"
   ]
  },
  {
   "cell_type": "code",
   "execution_count": null,
   "metadata": {},
   "outputs": [],
   "source": [
    "print('The luminosity of the Sun is {:.2e}W'.format(StefBoltz.luminosity(7e8, 5800)))\n",
    "print('The radius of Alpha Centauri is {:.2e}m'.format(StefBoltz.radius(4e28, 9700)))\n",
    "print('The effective temperature of the Earth is {:.2f}K'\n",
    "      ''.format(StefBoltz.temperature(6.37e6, 1.75e+17)))"
   ]
  },
  {
   "cell_type": "markdown",
   "metadata": {},
   "source": [
    "### Abstract Methods"
   ]
  },
  {
   "cell_type": "markdown",
   "metadata": {},
   "source": [
    "## 3 Inheritance\n",
    "\n",
    "---"
   ]
  },
  {
   "cell_type": "markdown",
   "metadata": {},
   "source": [
    "## 4 Composition\n",
    "\n",
    "---"
   ]
  },
  {
   "cell_type": "code",
   "execution_count": null,
   "metadata": {},
   "outputs": [],
   "source": []
  }
 ],
 "metadata": {
  "kernelspec": {
   "display_name": "Python 3",
   "language": "python",
   "name": "python3"
  },
  "language_info": {
   "codemirror_mode": {
    "name": "ipython",
    "version": 3
   },
   "file_extension": ".py",
   "mimetype": "text/x-python",
   "name": "python",
   "nbconvert_exporter": "python",
   "pygments_lexer": "ipython3",
   "version": "3.7.2"
  }
 },
 "nbformat": 4,
 "nbformat_minor": 2
}

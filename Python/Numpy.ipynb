{
 "cells": [
  {
   "cell_type": "markdown",
   "metadata": {},
   "source": [
    "# 2 Numpy\n",
    "\n",
    "---\n",
    "\n",
    "> Author: <font color='#f78c40'>Samuel Farrens</font>    \n",
    "> Year: 2017  \n",
    "> Email: [samuel.farrens@gmail.com](mailto:samuel.farrens@gmail.com)  \n",
    "> Website: <a href=\"https://sfarrens.github.io\" target=\"_blank\">https://sfarrens.github.io</a>\n",
    "\n",
    "---\n",
    "\n",
    "<a href=\"http://www.numpy.org/\" target=\"_blank\">Numpy</a> is a numerical python package for scientific computing. If you only ever install one Python package this should be it.\n",
    "\n",
    "The website contains extensive documentation on all the modules available with examples. This notebook barely skims the surface of what you cand do with numpy, but I have provided a few examples to help get you started.\n",
    "\n",
    "---\n",
    "\n",
    "## Contents\n",
    "\n",
    "1. [Installation](#Installation)\n",
    "1. [Importing Numpy](#Importing-Numpy)\n",
    "1. [Arrays](#Arrays)\n",
    " * [The Basics](#The-Basics)\n",
    " * [Multidimensional Arrays](#Multidimensional-Arrays)\n",
    " * [Mathematical Operations](#Mathematical-Operations)\n",
    "1. [Random Numbers](#Random-Numbers)\n",
    "1. [Reading and Writing Files](#Reading-and-Writing-Files)\n",
    " * [ASCII Files](#ASCII-Files)\n",
    " * [Binary Files](#Binary-Files)\n",
    "1. [Linear Alegbra](#Linear-Algebra)\n",
    "1. [Exercises](#Exercises)\n",
    " * [Exercise 2.1](#Exercise-2.1)\n",
    " * [Exercise 2.2](#Exercise-2.1)\n",
    "\n",
    "---\n",
    "\n",
    "## Installation\n",
    "\n",
    "To install numpy simply run the following command in a terminal (providing you have already set up pip)\n",
    "\n",
    "```bash\n",
    "\n",
    "$ pip install numpy\n",
    "\n",
    "```"
   ]
  },
  {
   "cell_type": "markdown",
   "metadata": {},
   "source": [
    "---\n",
    "\n",
    "## Importing Numpy\n",
    "\n",
    "To import numpy use the **`import`** command as follows"
   ]
  },
  {
   "cell_type": "code",
   "execution_count": 1,
   "metadata": {},
   "outputs": [],
   "source": [
    "import numpy"
   ]
  },
  {
   "cell_type": "markdown",
   "metadata": {},
   "source": [
    "It more convenient to assign the numpy package contents to an alias to avoid having longer expressions."
   ]
  },
  {
   "cell_type": "code",
   "execution_count": 2,
   "metadata": {},
   "outputs": [],
   "source": [
    "import numpy as np"
   ]
  },
  {
   "cell_type": "markdown",
   "metadata": {},
   "source": [
    "In this example the **`as`** statement assigns the numpy package contents to the object `np`.\n",
    "\n",
    "---\n",
    "\n",
    "## Arrays\n",
    "\n",
    "### The Basics\n",
    "\n",
    "The most essential numpy object is the numpy array (<a href=\"https://docs.scipy.org/doc/numpy/reference/generated/numpy.array.html\" target=\"_blank\">numpy.ndarray</a>)."
   ]
  },
  {
   "cell_type": "code",
   "execution_count": 3,
   "metadata": {},
   "outputs": [
    {
     "name": "stdout",
     "output_type": "stream",
     "text": [
      "a is <class 'list'>\n",
      "b is <class 'numpy.ndarray'>\n"
     ]
    }
   ],
   "source": [
    "# a is a list\n",
    "a = [1, 2, 3, 4]\n",
    "print('a is', type(a))\n",
    "\n",
    "# b is a numpy array\n",
    "b = np.array(a)\n",
    "print('b is', type(b))"
   ]
  },
  {
   "cell_type": "markdown",
   "metadata": {},
   "source": [
    "The **`np.array()`** command converts the list `a` to a numpy array `b`.\n",
    "\n",
    "Numpy arrays have several fantastic properties. Some basic examples are shown below.\n",
    "\n",
    "For a given array:"
   ]
  },
  {
   "cell_type": "code",
   "execution_count": 4,
   "metadata": {},
   "outputs": [
    {
     "name": "stdout",
     "output_type": "stream",
     "text": [
      "a = [4 5 6 8 7 5 2 1 0 4 0 6 5 4 2 4 1 7 1 4]\n"
     ]
    }
   ],
   "source": [
    "# a is 1D numpy array\n",
    "a = np.array([4, 5, 6, 8, 7, 5, 2, 1, 0, 4, 0, 6, 5, 4, 2, 4, 1, 7, 1, 4])\n",
    "\n",
    "# print a\n",
    "print('a =', a)"
   ]
  },
  {
   "cell_type": "markdown",
   "metadata": {},
   "source": [
    "You can print a given element of the array."
   ]
  },
  {
   "cell_type": "code",
   "execution_count": 5,
   "metadata": {},
   "outputs": [
    {
     "name": "stdout",
     "output_type": "stream",
     "text": [
      "the 10th element of a is 0\n"
     ]
    }
   ],
   "source": [
    "# print the 10th element of a\n",
    "print('the 10th element of a is', a[10])"
   ]
  },
  {
   "cell_type": "markdown",
   "metadata": {},
   "source": [
    "You can also index from the end of the array."
   ]
  },
  {
   "cell_type": "code",
   "execution_count": 6,
   "metadata": {},
   "outputs": [
    {
     "name": "stdout",
     "output_type": "stream",
     "text": [
      "the last element of a is 4\n",
      "the second to last element of a is 1\n"
     ]
    }
   ],
   "source": [
    "# print the last element of a\n",
    "print('the last element of a is', a[-1])\n",
    "\n",
    "# print the second to last element of a\n",
    "print('the second to last element of a is', a[-2])"
   ]
  },
  {
   "cell_type": "markdown",
   "metadata": {},
   "source": [
    "You can specfiy every element in an array with a colon **`:`**. This can also be used for *slicing* (*i.e.* to specify every element before or after a certain point)."
   ]
  },
  {
   "cell_type": "code",
   "execution_count": 7,
   "metadata": {},
   "outputs": [
    {
     "name": "stdout",
     "output_type": "stream",
     "text": [
      "a = [4 5 6 8 7 5 2 1 0 4 0 6 5 4 2 4 1 7 1 4]\n",
      "first half of elements in a are [4 5 6 8 7 5 2 1 0 4]\n",
      "second half of elements in a are [0 6 5 4 2 4 1 7 1 4]\n",
      "the 3rd through 6th elements of a are [6 8 7 5]\n"
     ]
    }
   ],
   "source": [
    "# print every element in a\n",
    "print('a =', a[:])\n",
    "\n",
    "# print every element up to index 10\n",
    "print('first half of elements in a are', a[:10])\n",
    "\n",
    "# print every element after index 10\n",
    "print('second half of elements in a are', a[10:])\n",
    "\n",
    "# print every element between index 2 and 6\n",
    "print('the 3rd through 6th elements of a are', a[2:6])"
   ]
  },
  {
   "cell_type": "markdown",
   "metadata": {},
   "source": [
    "You can print every $i^{th}$ element using a double set of colons **`::`**"
   ]
  },
  {
   "cell_type": "code",
   "execution_count": 8,
   "metadata": {},
   "outputs": [
    {
     "name": "stdout",
     "output_type": "stream",
     "text": [
      "every fifth element of a is [4 5 0 4]\n"
     ]
    }
   ],
   "source": [
    "# print every 5th element\n",
    "print('every fifth element of a is', a[::5])"
   ]
  },
  {
   "cell_type": "markdown",
   "metadata": {},
   "source": [
    "You can also use double colons to reverse the entire array."
   ]
  },
  {
   "cell_type": "code",
   "execution_count": 9,
   "metadata": {},
   "outputs": [
    {
     "name": "stdout",
     "output_type": "stream",
     "text": [
      "a backwards is [4 1 7 1 4 2 4 5 6 0 4 0 1 2 5 7 8 6 5 4]\n"
     ]
    }
   ],
   "source": [
    "# print a backwards\n",
    "print('a backwards is', a[::-1])"
   ]
  },
  {
   "cell_type": "markdown",
   "metadata": {},
   "source": [
    "It is possible to subample a list using a list of indices."
   ]
  },
  {
   "cell_type": "code",
   "execution_count": 10,
   "metadata": {},
   "outputs": [
    {
     "name": "stdout",
     "output_type": "stream",
     "text": [
      "elements at indices 1, 3, 11 and 18 of a are [5 8 6 1]\n"
     ]
    }
   ],
   "source": [
    "# extract elements 1 3 11 and 18 from a\n",
    "print('elements at indices 1, 3, 11 and 18 of a are', a[[1, 3, 11, 18]])"
   ]
  },
  {
   "cell_type": "markdown",
   "metadata": {},
   "source": [
    "You can also mask out items using booleans and hence conditions."
   ]
  },
  {
   "cell_type": "code",
   "execution_count": 11,
   "metadata": {},
   "outputs": [
    {
     "name": "stdout",
     "output_type": "stream",
     "text": [
      "the elements of a greater than 3 are [4 5 6 8 7 5 4 6 5 4 4 7 4]\n",
      "the elements of a excluding 5 are [4 6 8 7 2 1 0 4 0 6 4 2 4 1 7 1 4]\n"
     ]
    }
   ],
   "source": [
    "print('the elements of a greater than 3 are', a[a > 3])\n",
    "print('the elements of a excluding 5 are', a[a != 5])"
   ]
  },
  {
   "cell_type": "markdown",
   "metadata": {},
   "source": [
    "You can check if any or all elements in an array have certain properties using the **`any()`** and **`all()`** commands."
   ]
  },
  {
   "cell_type": "code",
   "execution_count": 12,
   "metadata": {},
   "outputs": [
    {
     "name": "stdout",
     "output_type": "stream",
     "text": [
      "are there any elements in a greater than 10? False\n",
      "are there all of elements in a less than 10? True\n"
     ]
    }
   ],
   "source": [
    "print('are there any elements in a greater than 10?', np.any(a > 10))\n",
    "print('are there all of elements in a less than 10?', np.all(a < 10))"
   ]
  },
  {
   "cell_type": "markdown",
   "metadata": {},
   "source": [
    "There several built-in functions for calculating the properties of Numpy arrays."
   ]
  },
  {
   "cell_type": "code",
   "execution_count": 13,
   "metadata": {},
   "outputs": [
    {
     "name": "stdout",
     "output_type": "stream",
     "text": [
      "a has size 20\n",
      "a has mean 3.8\n",
      "a has standard deviation 2.3579652245103193\n"
     ]
    }
   ],
   "source": [
    "print('a has size', a.size)\n",
    "print('a has mean', a.mean())\n",
    "print('a has standard deviation', a.std())"
   ]
  },
  {
   "cell_type": "markdown",
   "metadata": {},
   "source": [
    "In this example the size of the numpy array is displayed using the **`size`** command. The mean and standard deviation of the array elements are calculated using the **`mean()`** and **`std()`** commands, respectively."
   ]
  },
  {
   "cell_type": "markdown",
   "metadata": {},
   "source": [
    "The **`where()`** command can be used to find the index of a given elements."
   ]
  },
  {
   "cell_type": "code",
   "execution_count": 14,
   "metadata": {},
   "outputs": [
    {
     "name": "stdout",
     "output_type": "stream",
     "text": [
      "a = 8 at index [3]\n"
     ]
    }
   ],
   "source": [
    "print('a = 8 at index', np.where(a == 8)[0])"
   ]
  },
  {
   "cell_type": "markdown",
   "metadata": {},
   "source": [
    "Numpy includes several nice ways to quickly generate arrays using the commands **`zeros()`**, **`ones()`** and **`arange()`**."
   ]
  },
  {
   "cell_type": "code",
   "execution_count": 15,
   "metadata": {},
   "outputs": [
    {
     "name": "stdout",
     "output_type": "stream",
     "text": [
      "- Generate an array of zeros.\n",
      "  [0. 0. 0. 0. 0. 0. 0. 0. 0. 0.]\n",
      "\n",
      "- Generate an array of ones.\n",
      "  [1. 1. 1. 1. 1. 1. 1. 1. 1. 1.]\n",
      "\n",
      "- Generate a range of integers from 0 to 9.\n",
      "  [0 1 2 3 4 5 6 7 8 9]\n",
      "\n"
     ]
    }
   ],
   "source": [
    "print('- Generate an array of zeros.')\n",
    "print(' ', np.zeros(10))\n",
    "print('')\n",
    "\n",
    "print('- Generate an array of ones.')\n",
    "print(' ', np.ones(10))\n",
    "print('')\n",
    "\n",
    "print('- Generate a range of integers from 0 to 9.')\n",
    "print(' ', np.arange(10))\n",
    "print('')"
   ]
  },
  {
   "cell_type": "markdown",
   "metadata": {},
   "source": [
    "### Multidimensional Arrays\n",
    "\n",
    "The **`ndim`** command can be used to display the number of dimensions of a given array. while **`shape`** command can be used to display the size of each of the dimensions."
   ]
  },
  {
   "cell_type": "code",
   "execution_count": 16,
   "metadata": {},
   "outputs": [
    {
     "name": "stdout",
     "output_type": "stream",
     "text": [
      "a has 2 dimensions\n",
      "the shape of a is (3, 3)\n"
     ]
    }
   ],
   "source": [
    "# a is a 2D numpy array\n",
    "a = np.array([[1, 2, 3], [4, 5, 6], [7, 8, 9]])\n",
    "\n",
    "print('a has', a.ndim, 'dimensions')\n",
    "print('the shape of a is', a.shape)"
   ]
  },
  {
   "cell_type": "markdown",
   "metadata": {},
   "source": [
    "**<font color='red'>NOTE:</font>** notice the extra set of square brackets!\n",
    "\n",
    "It is also possible to change the shape of an existing array using the **`reshape()`** command."
   ]
  },
  {
   "cell_type": "code",
   "execution_count": 17,
   "metadata": {},
   "outputs": [
    {
     "name": "stdout",
     "output_type": "stream",
     "text": [
      "x = [ 0  1  2  3  4  5  6  7  8  9 10 11 12 13 14 15]\n",
      "\n",
      "x = [[ 0  1  2  3]\n",
      " [ 4  5  6  7]\n",
      " [ 8  9 10 11]\n",
      " [12 13 14 15]]\n"
     ]
    }
   ],
   "source": [
    "# x is a 1D array\n",
    "x = np.arange(16)\n",
    "print('x =', x)\n",
    "print('')\n",
    "\n",
    "# x is now a 2D array\n",
    "x = x.reshape(4, 4)\n",
    "print('x =', x)"
   ]
  },
  {
   "cell_type": "markdown",
   "metadata": {},
   "source": [
    "All of the indexing options shown for 1D arrays are equally applicable to multidimensional arrays. For example, for a 5x5 array"
   ]
  },
  {
   "cell_type": "code",
   "execution_count": 18,
   "metadata": {},
   "outputs": [
    {
     "name": "stdout",
     "output_type": "stream",
     "text": [
      "x = [[ 0  1  2  3  4]\n",
      " [ 5  6  7  8  9]\n",
      " [10 11 12 13 14]\n",
      " [15 16 17 18 19]\n",
      " [20 21 22 23 24]]\n"
     ]
    }
   ],
   "source": [
    "x = np.arange(25).reshape(5, 5)\n",
    "\n",
    "print('x =', x)"
   ]
  },
  {
   "cell_type": "markdown",
   "metadata": {},
   "source": [
    "You can specify whole rows or columns."
   ]
  },
  {
   "cell_type": "code",
   "execution_count": 19,
   "metadata": {},
   "outputs": [
    {
     "name": "stdout",
     "output_type": "stream",
     "text": [
      "the first row of x is [0 1 2 3 4]\n",
      "the third column of x is [ 2  7 12 17 22]\n"
     ]
    }
   ],
   "source": [
    "# first row of x\n",
    "print('the first row of x is', x[0])\n",
    "\n",
    "# 3rd column of x\n",
    "print('the third column of x is', x[:, 2])"
   ]
  },
  {
   "cell_type": "markdown",
   "metadata": {},
   "source": [
    "Or you can specify single elements"
   ]
  },
  {
   "cell_type": "code",
   "execution_count": 20,
   "metadata": {},
   "outputs": [
    {
     "name": "stdout",
     "output_type": "stream",
     "text": [
      "the second element in the 4th row of x is 16\n"
     ]
    }
   ],
   "source": [
    "# 2nd element in the 4th row of x\n",
    "print('the second element in the 4th row of x is', x[3, 1])"
   ]
  },
  {
   "cell_type": "markdown",
   "metadata": {},
   "source": [
    "Slicing also works."
   ]
  },
  {
   "cell_type": "code",
   "execution_count": 21,
   "metadata": {},
   "outputs": [
    {
     "name": "stdout",
     "output_type": "stream",
     "text": [
      "every other element in the first two rows of x are\n",
      "[[0 2 4]\n",
      " [5 7 9]]\n"
     ]
    }
   ],
   "source": [
    "# print every other element in the 1st two rows of x\n",
    "print('every other element in the first two rows of x are')\n",
    "print(x[:2, ::2])"
   ]
  },
  {
   "cell_type": "markdown",
   "metadata": {},
   "source": [
    "There several handy numpy commands for transforming multidimensional arrays. The command **`rot90()`** rotates a matrix by 90 degrees."
   ]
  },
  {
   "cell_type": "code",
   "execution_count": 22,
   "metadata": {},
   "outputs": [
    {
     "name": "stdout",
     "output_type": "stream",
     "text": [
      "x rotated by 180 degrees is\n",
      "[[24 23 22 21 20]\n",
      " [19 18 17 16 15]\n",
      " [14 13 12 11 10]\n",
      " [ 9  8  7  6  5]\n",
      " [ 4  3  2  1  0]]\n"
     ]
    }
   ],
   "source": [
    "# rotate x by 180 degrees\n",
    "print('x rotated by 180 degrees is')\n",
    "print(np.rot90(x, 2))"
   ]
  },
  {
   "cell_type": "markdown",
   "metadata": {},
   "source": [
    "The command **`transpose()`** will transpose an array."
   ]
  },
  {
   "cell_type": "code",
   "execution_count": 23,
   "metadata": {},
   "outputs": [
    {
     "name": "stdout",
     "output_type": "stream",
     "text": [
      "x transpose is\n",
      "[[ 0  5 10 15 20]\n",
      " [ 1  6 11 16 21]\n",
      " [ 2  7 12 17 22]\n",
      " [ 3  8 13 18 23]\n",
      " [ 4  9 14 19 24]]\n"
     ]
    }
   ],
   "source": [
    "# transpose x\n",
    "print('x transpose is')\n",
    "print(np.transpose(x))"
   ]
  },
  {
   "cell_type": "markdown",
   "metadata": {},
   "source": [
    "### Mathematical Operations\n",
    "\n",
    "One of the most useful features of numpy is that it allows element-wise mathematical operations. It also has built-in <a href=\"https://docs.scipy.org/doc/numpy/reference/routines.math.html\" target=\"_blank\">mathematical operators</a>.\n",
    "\n",
    "You can multiply every element in an array by a single number."
   ]
  },
  {
   "cell_type": "code",
   "execution_count": 24,
   "metadata": {},
   "outputs": [
    {
     "name": "stdout",
     "output_type": "stream",
     "text": [
      "x = [1 2 3 4 5]\n",
      "2x = [ 2  4  6  8 10]\n",
      "x^2 = [ 1  4  9 16 25]\n",
      "sqrt(x) = [1.         1.41421356 1.73205081 2.         2.23606798]\n",
      "x * pi = [ 3.14159265  6.28318531  9.42477796 12.56637061 15.70796327]\n",
      "log(x) = [0.         0.69314718 1.09861229 1.38629436 1.60943791]\n"
     ]
    }
   ],
   "source": [
    "x = np.arange(5) + 1\n",
    "\n",
    "print('x =', x)\n",
    "print('2x =', 2 * x)\n",
    "print('x^2 =', x ** 2)\n",
    "print('sqrt(x) =', np.sqrt(x))\n",
    "print('x * pi =', np.pi * x)\n",
    "print('log(x) =', np.log(x))"
   ]
  },
  {
   "cell_type": "markdown",
   "metadata": {},
   "source": [
    "You can also multiply each element in one array by each element in another of the same size."
   ]
  },
  {
   "cell_type": "code",
   "execution_count": 25,
   "metadata": {},
   "outputs": [
    {
     "name": "stdout",
     "output_type": "stream",
     "text": [
      "y = [7 9 2 3 2]\n",
      "x is the same size as y: True\n",
      "x + y = [ 8 11  5  7  7]\n"
     ]
    }
   ],
   "source": [
    "y = np.array([7, 9, 2, 3, 2])\n",
    "print('y =', y)\n",
    "\n",
    "# check if x and y have the same size\n",
    "print('x is the same size as y:', x.size == y.size)\n",
    "\n",
    "# add the elements of x to those of y\n",
    "print('x + y =', x + y)"
   ]
  },
  {
   "cell_type": "markdown",
   "metadata": {},
   "source": [
    "This also works for multidimensional arrays with the same shape."
   ]
  },
  {
   "cell_type": "code",
   "execution_count": 26,
   "metadata": {},
   "outputs": [
    {
     "name": "stdout",
     "output_type": "stream",
     "text": [
      "a = [[2 2]\n",
      " [2 2]]\n",
      "b = [[0 1]\n",
      " [2 3]]\n",
      "\n",
      "a has the same shape as b: True\n",
      "\n",
      "a * b =\n",
      "[[0 2]\n",
      " [4 6]]\n"
     ]
    }
   ],
   "source": [
    "a = np.ones((2, 2)).astype(int) * 2\n",
    "b = np.arange(4).reshape(2, 2)\n",
    "print('a =', a)\n",
    "print('b =', b)\n",
    "print('')\n",
    "\n",
    "# check if a and b have the same shape\n",
    "print('a has the same shape as b:', a.shape == b.shape)\n",
    "print('')\n",
    "\n",
    "# multiply the elements of a by those of b\n",
    "print('a * b =')\n",
    "print(a * b)"
   ]
  },
  {
   "cell_type": "markdown",
   "metadata": {},
   "source": [
    "---\n",
    "\n",
    "## Random Numbers\n",
    "\n",
    "The numpy **`random`** module (<a href=\"https://docs.scipy.org/doc/numpy/reference/routines.random.html\" target=\"_blank\">numpy.random</a>) contain various methods for generating random numbers."
   ]
  },
  {
   "cell_type": "code",
   "execution_count": 27,
   "metadata": {},
   "outputs": [
    {
     "name": "stdout",
     "output_type": "stream",
     "text": [
      "- Generate an array of 10 random integers with values between 2 and 9.\n",
      "  [4 4 3 2 2 5 4 8 6 6]\n",
      "\n",
      "- Generate an array of 5 random floats with values between 0 and 1.\n",
      "  [0.58909463 0.98591145 0.83243917 0.22774627 0.43334477]\n",
      "\n",
      "- Generate an array of 5 Gaussian distributed random floats with values between -1 and 1.\n",
      "  [-0.64805821 -1.55263507 -1.02854768  0.47775267 -1.1332579 ]\n",
      "\n",
      "- Generate an array of 5 Poisson distributed random integers.\n",
      "  [0 2 0 0 0]\n",
      "\n",
      "- Generate an 2D array of random numbers.\n",
      "  [[0.27137778 0.66224629 0.6642498  0.31155691 0.35842392]\n",
      " [0.84461998 0.9093611  0.5619712  0.5350885  0.82133144]\n",
      " [0.21377067 0.42419968 0.82904981 0.04087623 0.12682881]\n",
      " [0.83874192 0.86176975 0.16945293 0.4653733  0.6062168 ]\n",
      " [0.37718149 0.40608579 0.47345515 0.47165235 0.39217713]]\n",
      "\n"
     ]
    }
   ],
   "source": [
    "print('- Generate an array of 10 random integers with values between 2 and 9.')\n",
    "print(' ', np.random.randint(2, 9, 10))\n",
    "print('')\n",
    "\n",
    "print('- Generate an array of 5 random floats with values between 0 and 1.')\n",
    "print(' ', np.random.ranf(5))\n",
    "print('')\n",
    "\n",
    "print('- Generate an array of 5 Gaussian distributed random floats with values between -1 and 1.')\n",
    "print(' ', np.random.randn(5))\n",
    "print('')\n",
    "\n",
    "print('- Generate an array of 5 Poisson distributed random integers.')\n",
    "print(' ', np.random.poisson(1, 5))\n",
    "print('')\n",
    "\n",
    "print('- Generate an 2D array of random numbers.')\n",
    "print(' ', np.random.rand(5, 5))\n",
    "print('')"
   ]
  },
  {
   "cell_type": "markdown",
   "metadata": {},
   "source": [
    "---\n",
    "\n",
    "## Reading and Writing Files\n",
    "\n",
    "Numpy provides some advatages over native Python in terms of reading and writing files.\n",
    "\n",
    "> If you have not already done so, you will need to download the [Materials](https://minhaskamal.github.io/DownGit/#/home?url=https://github.com/sfarrens/notebooks/tree/master/Python/materials) directory and unzip it.  \n",
    "> You can use the following command in a terminal:  \n",
    "> ``` bash\n",
    "> $ unzip materials.zip\n",
    "> ```  \n",
    "> **<font color='red'>NOTE:</font>** you need to place the `Materials` folder in the same directory as this notebook.\n",
    "\n",
    "### ASCII Files\n",
    "\n",
    "ASCII (plain text) files can be read using the **`genfromtxt()`** command (<a href=\"https://docs.scipy.org/doc/numpy/reference/generated/numpy.genfromtxt.html\" target=\"_blank\">numpy.genfromtxt</a>) as follows"
   ]
  },
  {
   "cell_type": "code",
   "execution_count": 28,
   "metadata": {},
   "outputs": [
    {
     "name": "stdout",
     "output_type": "stream",
     "text": [
      "('Name', 'Age', 'Colour', 'Weapon')\n",
      "\n",
      "(b'Leonardo', 15, b'blue', b'Katana')\n",
      "(b'Raphael', 15, b'Red', b'Sai')\n",
      "(b'Donatello', 14, b'Purple', b'Bo-staff')\n",
      "(b'Michelangelo', 13, b'Orange', b'Nunchucks')\n",
      "\n",
      "The average age is 14.25\n"
     ]
    },
    {
     "name": "stderr",
     "output_type": "stream",
     "text": [
      "/local/home/scasas/anaconda2/envs/py37/lib/python3.7/site-packages/ipykernel_launcher.py:2: VisibleDeprecationWarning: Reading unicode strings without specifying the encoding argument is deprecated. Set the encoding, use None for the system default.\n",
      "  \n"
     ]
    }
   ],
   "source": [
    "# Read in the file\n",
    "data = np.genfromtxt('materials/ninja_turtles.txt', names=True, dtype=None)\n",
    "\n",
    "# Print the column names\n",
    "print(data.dtype.names)\n",
    "print('')\n",
    "\n",
    "# Print the rows\n",
    "for line in data:\n",
    "    print(line)\n",
    "\n",
    "print('')\n",
    "\n",
    "# Calculate the average age\n",
    "print('The average age is', data['Age'].mean())"
   ]
  },
  {
   "cell_type": "markdown",
   "metadata": {},
   "source": [
    "In the example above a file called `ninja_turtles.txt` which is in the directory `materials` is read in. The first row\n",
    "of this file provides column names which are stored in `dtype.names` using the **`names`** option. Setting the **`dtype`** as `None` allows the command to assign the appropriate data type to each column in the file.\n",
    "\n",
    "Data can be saved to an ASCII file using the **`savetxt()`** command (<a href=\"https://docs.scipy.org/doc/numpy/reference/generated/numpy.savetxt.html\" target=\"_blank\">numpy.savetext</a>) as follows "
   ]
  },
  {
   "cell_type": "code",
   "execution_count": 29,
   "metadata": {},
   "outputs": [],
   "source": [
    "# create a new string\n",
    "string = 'average turtle age is ' + str(data['Age'].mean())\n",
    "\n",
    "# save the string to a file\n",
    "np.savetxt('materials/turtle_age.txt', [string], fmt='%s')"
   ]
  },
  {
   "cell_type": "markdown",
   "metadata": {},
   "source": [
    "In this example we need to pass the string as a list (a numpy array would also work) to **`savetext()`**. Also, we need to define the format of the data using the **`fmt`** option."
   ]
  },
  {
   "cell_type": "markdown",
   "metadata": {},
   "source": [
    "### Binary Files\n",
    "\n",
    "Numpy arrays can also be read in or saved to special numpy binary files (`.npy` extension) using the **`load()`** and **`save()`** commands (<a href=\"https://docs.scipy.org/doc/numpy/reference/generated/numpy.save.html\" target=\"_blank\">numpy.save</a>, <a href=\"https://docs.scipy.org/doc/numpy/reference/generated/numpy.load.html\" target=\"_blank\">numpy.load</a>), respectively."
   ]
  },
  {
   "cell_type": "code",
   "execution_count": 30,
   "metadata": {},
   "outputs": [
    {
     "name": "stdout",
     "output_type": "stream",
     "text": [
      "[(b'Leonardo', 15, b'blue', b'Katana') (b'Raphael', 15, b'Red', b'Sai')\n",
      " (b'Donatello', 14, b'Purple', b'Bo-staff')\n",
      " (b'Michelangelo', 13, b'Orange', b'Nunchucks')]\n",
      "\n",
      "[(b'Leonardo', 16, b'blue', b'Katana') (b'Raphael', 16, b'Red', b'Sai')\n",
      " (b'Donatello', 15, b'Purple', b'Bo-staff')\n",
      " (b'Michelangelo', 14, b'Orange', b'Nunchucks')]\n"
     ]
    }
   ],
   "source": [
    "# Read in the numpy binary file\n",
    "data = np.load('materials/ninja_turtles.npy')\n",
    "\n",
    "# Print the array contents\n",
    "print(data)\n",
    "print('')\n",
    "\n",
    "# Increase ages by 1\n",
    "data['Age'] += 1\n",
    "print(data)\n",
    "\n",
    "# Save new data to a binary file\n",
    "np.save('materials/ninja_turtles_new.npy', data)"
   ]
  },
  {
   "cell_type": "markdown",
   "metadata": {},
   "source": [
    "Numpy binaries have the fantastic property of retaining formatting and data structures. In addition, they can be read and written much faster than text files."
   ]
  },
  {
   "cell_type": "markdown",
   "metadata": {},
   "source": [
    "---\n",
    "\n",
    "## Linear Algebra\n",
    "\n",
    "Numpy also handles linear algebra (<a href=\"https://docs.scipy.org/doc/numpy/reference/routines.linalg.html\">numpy.linalg</a>). For example, you can multiply two matrices using the **`dot()`** command."
   ]
  },
  {
   "cell_type": "code",
   "execution_count": 31,
   "metadata": {},
   "outputs": [
    {
     "name": "stdout",
     "output_type": "stream",
     "text": [
      "x =\n",
      "[[2 4 6]\n",
      " [0 5 3]\n",
      " [3 8 4]]\n",
      "\n",
      "y =\n",
      "[[5 8 4]\n",
      " [3 0 6]\n",
      " [3 4 7]]\n",
      "\n",
      "xy =\n",
      "[[40 40 74]\n",
      " [24 12 51]\n",
      " [51 40 88]]\n"
     ]
    }
   ],
   "source": [
    "x = np.random.randint(0, 9, (3, 3))\n",
    "print('x =')\n",
    "print(x)\n",
    "print('')\n",
    "\n",
    "y = np.random.randint(0, 9, (3, 3))\n",
    "print('y =')\n",
    "print(y)\n",
    "print('')\n",
    "\n",
    "print('xy =')\n",
    "print(np.dot(x, y))"
   ]
  },
  {
   "cell_type": "markdown",
   "metadata": {},
   "source": [
    "You can also calculate the inverse of a matrix"
   ]
  },
  {
   "cell_type": "code",
   "execution_count": 32,
   "metadata": {},
   "outputs": [
    {
     "name": "stdout",
     "output_type": "stream",
     "text": [
      "a =\n",
      "[[1. 2.]\n",
      " [3. 4.]]\n",
      "\n",
      "a^-1 =\n",
      "[[-2.   1. ]\n",
      " [ 1.5 -0.5]]\n"
     ]
    }
   ],
   "source": [
    "a = np.array([[1., 2.], [3., 4.]])\n",
    "print('a =')\n",
    "print(a)\n",
    "print('')\n",
    "\n",
    "print('a^-1 =')\n",
    "print(np.linalg.inv(a))"
   ]
  },
  {
   "cell_type": "markdown",
   "metadata": {},
   "source": [
    "or you can calculate the $l_2$-norm of a matrix using the **`norm`** command"
   ]
  },
  {
   "cell_type": "code",
   "execution_count": 33,
   "metadata": {},
   "outputs": [
    {
     "name": "stdout",
     "output_type": "stream",
     "text": [
      "x = [[0.65653567 0.44407602 0.95817188]\n",
      " [0.21299093 0.97204924 0.45534021]\n",
      " [0.25526379 0.9636281  0.45501517]]\n",
      "\n",
      "||x|| = 1.9861251285369725\n"
     ]
    }
   ],
   "source": [
    "x = np.random.ranf((3, 3))\n",
    "print('x =', x)\n",
    "print('')\n",
    "print('||x|| =', np.linalg.norm(x))"
   ]
  },
  {
   "cell_type": "markdown",
   "metadata": {},
   "source": [
    "---\n",
    "\n",
    "## Exercises\n",
    "\n",
    "### Exercise 2.1\n",
    "\n",
    "Read in the file called `nearest_stars.txt` in the directory `materials` and determine the standard deviation of the distances of the stars with spectral type `M`."
   ]
  },
  {
   "cell_type": "code",
   "execution_count": 34,
   "metadata": {},
   "outputs": [],
   "source": [
    "# Implement your code here"
   ]
  },
  {
   "cell_type": "markdown",
   "metadata": {},
   "source": [
    "### Exercise 2.2\n",
    "\n",
    "Generate a three dimensional array of random floats with shape (3, 4, 4) using a random seed of 8. For each 4 x 4 matrix in the array calculate the $l_1$-norm and then calculate the mean of these values.\n",
    "\n",
    "**HINT:** Make sure you check the documentation pages for commands that are not mentioned in this notebook."
   ]
  },
  {
   "cell_type": "code",
   "execution_count": 35,
   "metadata": {},
   "outputs": [],
   "source": [
    "# Implement your code here"
   ]
  },
  {
   "cell_type": "markdown",
   "metadata": {},
   "source": [
    "You can find some example answers to the exercises [here](./Answers-to-exercises.ipynb).\n",
    "\n",
    "---\n",
    "\n",
    "> **Continue to [next topic](./Matplotlib.ipynb)**"
   ]
  }
 ],
 "metadata": {
  "hide_input": false,
  "kernelspec": {
   "display_name": "Python py37",
   "language": "python",
   "name": "py37"
  },
  "language_info": {
   "codemirror_mode": {
    "name": "ipython",
    "version": 3
   },
   "file_extension": ".py",
   "mimetype": "text/x-python",
   "name": "python",
   "nbconvert_exporter": "python",
   "pygments_lexer": "ipython3",
   "version": "3.7.1"
  },
  "toc": {
   "base_numbering": 1,
   "nav_menu": {},
   "number_sections": true,
   "sideBar": true,
   "skip_h1_title": false,
   "title_cell": "Table of Contents",
   "title_sidebar": "Contents",
   "toc_cell": false,
   "toc_position": {},
   "toc_section_display": true,
   "toc_window_display": false
  }
 },
 "nbformat": 4,
 "nbformat_minor": 1
}

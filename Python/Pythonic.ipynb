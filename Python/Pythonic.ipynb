{
 "cells": [
  {
   "cell_type": "markdown",
   "metadata": {},
   "source": [
    "<a href=\"http://www.cosmostat.org/\" target=\"_blank\"><img align=\"left\" width=\"300\" src=\"http://www.cosmostat.org/wp-content/uploads/2017/07/CosmoStat-Logo_WhiteBK-e1499155861666.png\" alt=\"CosmoStat Logo\"></a>\n",
    "<br>\n",
    "<br>\n",
    "<br>\n",
    "<br>\n",
    "\n",
    "# Pythonic Thinking\n",
    "---\n",
    "\n",
    "> Author: <a href=\"http://www.cosmostat.org/people/sfarrens\" target=\"_blank\" style=\"text-decoration:none; color: #F08080\">Samuel Farrens</a>  \n",
    "> Email: <a href=\"mailto:samuel.farrens@cea.fr\" style=\"text-decoration:none; color: #F08080\">samuel.farrens@cea.fr</a>  \n",
    "> Year: 2019  \n",
    "> Version: 1.0\n",
    "\n",
    "---\n",
    "<br>\n",
    "\n",
    "Python is a high-level interepreted programming language. It provides the simplicity needed for quick development, while retaining the power for dedicated software development. One of the core tenets of Python is the emphasis on readability, *i.e.* the ability to implement complex functionality with simple and elegant syntax.\n",
    "\n",
    "In order to get the most out of using Python, it is essntial to know how to code in a Pythonic way. This notebook will introduce some useful objects and operators that are central to how Python works.\n",
    "\n",
    "If you are new to Jupyter notebooks note that cells are executed by pressing <kbd>SHIFT</kbd>+<kbd>ENTER</kbd> (&#x21E7;+ &#x23ce;). See the <a href=\"https://jupyter-notebook.readthedocs.io/en/stable/\" target_=\"blanck\">Jupyter documentation</a> for more details.\n",
    "\n",
    "<br>\n",
    "\n",
    "---\n",
    "\n",
    "There is plenty to cover in this tutorial but first let's take a deep breath and take in *The Zen of Python.*"
   ]
  },
  {
   "cell_type": "code",
   "execution_count": 1,
   "metadata": {},
   "outputs": [
    {
     "name": "stdout",
     "output_type": "stream",
     "text": [
      "The Zen of Python, by Tim Peters\n",
      "\n",
      "Beautiful is better than ugly.\n",
      "Explicit is better than implicit.\n",
      "Simple is better than complex.\n",
      "Complex is better than complicated.\n",
      "Flat is better than nested.\n",
      "Sparse is better than dense.\n",
      "Readability counts.\n",
      "Special cases aren't special enough to break the rules.\n",
      "Although practicality beats purity.\n",
      "Errors should never pass silently.\n",
      "Unless explicitly silenced.\n",
      "In the face of ambiguity, refuse the temptation to guess.\n",
      "There should be one-- and preferably only one --obvious way to do it.\n",
      "Although that way may not be obvious at first unless you're Dutch.\n",
      "Now is better than never.\n",
      "Although never is often better than *right* now.\n",
      "If the implementation is hard to explain, it's a bad idea.\n",
      "If the implementation is easy to explain, it may be a good idea.\n",
      "Namespaces are one honking great idea -- let's do more of those!\n"
     ]
    }
   ],
   "source": [
    "import this"
   ]
  },
  {
   "cell_type": "markdown",
   "metadata": {},
   "source": [
    "## Contents\n",
    "---\n",
    "\n",
    "1. [Set-Up](#1-Set-Up)\n",
    "1. [A Quick Recap](#2-A-Quick-Recap)\n",
    "1. [Dictionaries](#3-Dictionaries)\n",
    "    1. [First Example](#First-Example)\n",
    "    1. [Tips and Tricks](#Tips-and-Tricks)\n",
    "1. [List Comprehension](#4-List-Comprehension)\n",
    "1. [Iterators](#5-Iterators)\n",
    "1. [Exercises](#6-Exercises)"
   ]
  },
  {
   "cell_type": "markdown",
   "metadata": {},
   "source": [
    "## 1 Set-Up\n",
    "---\n",
    "\n",
    "The following cell contains some set-up commands. Be sure to execute this cell before continuing."
   ]
  },
  {
   "cell_type": "code",
   "execution_count": 2,
   "metadata": {},
   "outputs": [],
   "source": [
    "# Notebook Set-Up Commands\n",
    "\n",
    "def print_error(error):\n",
    "    \"\"\" Print Error\n",
    "    \n",
    "    Function to print exceptions in red.\n",
    "    \n",
    "    Parameters\n",
    "    ----------\n",
    "    error : string\n",
    "        Error message\n",
    "    \n",
    "    \"\"\"\n",
    "    print('\\033[1;31m{}\\033[1;m'.format(error))"
   ]
  },
  {
   "cell_type": "markdown",
   "metadata": {},
   "source": [
    "## 2 A Quick Recap\n",
    "---\n",
    "\n",
    "Before getting into the specifics of Pythonic coding, let's take a second to refresh the basics. In order to understand the topics covered in this notebook you will need to know the following:\n",
    "\n",
    "### Basic Python object types "
   ]
  },
  {
   "cell_type": "code",
   "execution_count": 3,
   "metadata": {},
   "outputs": [
    {
     "name": "stdout",
     "output_type": "stream",
     "text": [
      "Object is of type: <class 'int'>\n",
      "Object is of type: <class 'float'>\n",
      "Object is of type: <class 'bool'>\n",
      "Object is of type: <class 'str'>\n",
      "Object is of type: <class 'list'>\n",
      "Object is of type: <class 'tuple'>\n",
      "Object is of type: <class 'set'>\n"
     ]
    }
   ],
   "source": [
    "# Basic Python objects\n",
    "\n",
    "myint = 1\n",
    "print('Object is of type:', type(myint))\n",
    "\n",
    "myfloat = 1.0\n",
    "print('Object is of type:', type(myfloat))\n",
    "\n",
    "mybool = True\n",
    "print('Object is of type:', type(mybool))\n",
    "\n",
    "mystring = 'hello'\n",
    "print('Object is of type:', type(mystring))\n",
    "\n",
    "mylist = [1, 2, 3]\n",
    "print('Object is of type:', type(mylist))\n",
    "\n",
    "mytuple = (1, 2, 3)\n",
    "print('Object is of type:', type(mytuple))\n",
    "\n",
    "myset = set([1, 1, 2])\n",
    "print('Object is of type:', type(myset))"
   ]
  },
  {
   "cell_type": "markdown",
   "metadata": {},
   "source": [
    "### Standard operators"
   ]
  },
  {
   "cell_type": "code",
   "execution_count": 4,
   "metadata": {},
   "outputs": [
    {
     "name": "stdout",
     "output_type": "stream",
     "text": [
      "Addition: 1 + 2 =  3\n",
      "Subtraction: 1 - 2 =  -1\n",
      "Multiplication: 4 * 2 =  8\n",
      "Division: 4 / 2 =  2.0\n",
      "Floor Division: 4 // 2 =  2\n",
      "Exponentiation: 4 ** 2 =  16\n"
     ]
    }
   ],
   "source": [
    "# Standard operators\n",
    "\n",
    "print('Addition: 1 + 2 = ', 1 + 2)\n",
    "print('Subtraction: 1 - 2 = ', 1 - 2)\n",
    "print('Multiplication: 4 * 2 = ', 4 * 2)\n",
    "print('Division: 4 / 2 = ', 4 / 2)\n",
    "print('Floor Division: 4 // 2 = ', 4 // 2)\n",
    "print('Exponentiation: 4 ** 2 = ', 4 ** 2)"
   ]
  },
  {
   "cell_type": "markdown",
   "metadata": {},
   "source": [
    "### Simple logic operations"
   ]
  },
  {
   "cell_type": "code",
   "execution_count": 5,
   "metadata": {},
   "outputs": [
    {
     "name": "stdout",
     "output_type": "stream",
     "text": [
      "True and True =  True\n",
      "True and False =  False\n",
      "True or True =  True\n",
      "True or False =  True\n"
     ]
    }
   ],
   "source": [
    "# Simple logic operations\n",
    "\n",
    "print('True and True = ', True and True)\n",
    "print('True and False = ', True and False)\n",
    "print('True or True = ', True or True)\n",
    "print('True or False = ', True or False)"
   ]
  },
  {
   "cell_type": "markdown",
   "metadata": {},
   "source": [
    "### Functions"
   ]
  },
  {
   "cell_type": "code",
   "execution_count": 6,
   "metadata": {},
   "outputs": [
    {
     "name": "stdout",
     "output_type": "stream",
     "text": [
      "Hello world!\n",
      "My value is 5.\n",
      "My arguments are (1, 2.0, 'x').\n",
      "My keyword arguments are {'number': 1, 'letter': 'a'}.\n"
     ]
    }
   ],
   "source": [
    "# Functions\n",
    "\n",
    "def say_hello():\n",
    "    print('Hello world!')\n",
    "    \n",
    "def show_value(value):\n",
    "    print('My value is {}.'.format(value))\n",
    "    \n",
    "def show_args(*args):\n",
    "    print('My arguments are {}.'.format(args))\n",
    "    \n",
    "def show_kwargs(**kwargs):\n",
    "    print('My keyword arguments are {}.'.format(kwargs))\n",
    "    \n",
    "say_hello()\n",
    "show_value(5)\n",
    "show_args(1, 2.0, 'x')\n",
    "show_kwargs(number=1, letter='a')"
   ]
  },
  {
   "cell_type": "markdown",
   "metadata": {},
   "source": [
    "## 3 Dictionaries\n",
    "---\n",
    "\n",
    "Python provides many different ways of storing multiple values in a single object (*e.g.* lists, tuples, sets, *etc*). One of the most useful, and certainly one of the most important, are *<a href=\"https://docs.python.org/2/tutorial/datastructures.html#dictionaries\" target=\"_blank\">dictionaries</a>*. \n",
    "\n",
    "Dictionaries are designated with `{}` and are comprised of two main components *keys* and *values*. The benefit that dictionaries provide with respect to simpler objects like lists is the ability to label values. This makes it a lot easier to store a large number of values in a single object without losing track of what they are.\n",
    "\n",
    "### First Example\n",
    "\n",
    "Let's look at a concrete example. Imagine we want to keep track of the colours associated to the Teenage Mutant Ninja Turtles.\n",
    "\n",
    "<img src=\"http://cdn.shopify.com/s/files/1/0342/0081/products/tmnt_1987_grande.jpg?v=1416367192\" width=\"800\">\n",
    "\n",
    "We could start by defining a unique object for each turtle."
   ]
  },
  {
   "cell_type": "code",
   "execution_count": 7,
   "metadata": {},
   "outputs": [],
   "source": [
    "# Unique objects for turtle colours\n",
    "Leonardo = 'blue'\n",
    "Raphael = 'red'\n",
    "Donatello = 'purple'\n",
    "Michelangelo = 'orange'"
   ]
  },
  {
   "cell_type": "markdown",
   "metadata": {},
   "source": [
    "It might be nicer instead to define a single object."
   ]
  },
  {
   "cell_type": "code",
   "execution_count": 8,
   "metadata": {},
   "outputs": [],
   "source": [
    "# List of turtle colours\n",
    "turtles = ['blue', 'red', 'purple', 'orange']"
   ]
  },
  {
   "cell_type": "markdown",
   "metadata": {},
   "source": [
    "This, however, assume you will remember the order and names of the turtles. A dictionary makes it possible to retain both the simplicty of a list, but the details of the single objects."
   ]
  },
  {
   "cell_type": "code",
   "execution_count": 9,
   "metadata": {},
   "outputs": [],
   "source": [
    "# Dictionary of turtle names and colours\n",
    "turtles = {'Leo': 'blue', 'Raph': 'red', 'Donny': 'purple', 'Mickey': 'orange'}"
   ]
  },
  {
   "cell_type": "markdown",
   "metadata": {},
   "source": [
    "We can look at the pieces that make up the dictionary."
   ]
  },
  {
   "cell_type": "code",
   "execution_count": 10,
   "metadata": {},
   "outputs": [
    {
     "name": "stdout",
     "output_type": "stream",
     "text": [
      "dict: {'Leo': 'blue', 'Raph': 'red', 'Donny': 'purple', 'Mickey': 'orange'}\n",
      "keys: dict_keys(['Leo', 'Raph', 'Donny', 'Mickey'])\n",
      "values: dict_values(['blue', 'red', 'purple', 'orange'])\n",
      "items: dict_items([('Leo', 'blue'), ('Raph', 'red'), ('Donny', 'purple'), ('Mickey', 'orange')])\n"
     ]
    }
   ],
   "source": [
    "# Show dictionary components\n",
    "print('dict:', turtles)\n",
    "print('keys:', turtles.keys())\n",
    "print('values:', turtles.values())\n",
    "print('items:', turtles.items())"
   ]
  },
  {
   "cell_type": "markdown",
   "metadata": {},
   "source": [
    "Now we can use the keys (*i.e.* the turtles' names) to look up the values (*i.e.* the corresponding colours)."
   ]
  },
  {
   "cell_type": "code",
   "execution_count": 11,
   "metadata": {},
   "outputs": [
    {
     "name": "stdout",
     "output_type": "stream",
     "text": [
      "Raphael wears red.\n"
     ]
    }
   ],
   "source": [
    "# Look up dictionary value\n",
    "print('Raphael wears {}.'.format(turtles['Raph']))"
   ]
  },
  {
   "cell_type": "markdown",
   "metadata": {},
   "source": [
    "> Note that dictionary look up in Python is highly optimised, but it only works one way (*i.e.* keys &rarr; values).\n",
    "\n",
    "It is possible to add entries to a dictionary."
   ]
  },
  {
   "cell_type": "code",
   "execution_count": 12,
   "metadata": {},
   "outputs": [
    {
     "name": "stdout",
     "output_type": "stream",
     "text": [
      "{'Leo': 'blue', 'Raph': 'red', 'Donny': 'purple', 'Mickey': 'orange', 'Splinter': 'wine'}\n"
     ]
    }
   ],
   "source": [
    "# Add dictionary entry\n",
    "turtles['Splinter'] = 'wine'\n",
    "print(turtles)"
   ]
  },
  {
   "cell_type": "markdown",
   "metadata": {},
   "source": [
    "Or to modify existing entry values."
   ]
  },
  {
   "cell_type": "code",
   "execution_count": 13,
   "metadata": {},
   "outputs": [
    {
     "name": "stdout",
     "output_type": "stream",
     "text": [
      "{'Leo': 'blue', 'Raph': 'red', 'Donny': 'purple', 'Mickey': 'orange', 'Splinter': 'yellow'}\n"
     ]
    }
   ],
   "source": [
    "# Modify dictionary value\n",
    "turtles['Splinter'] = 'yellow'\n",
    "print(turtles)"
   ]
  },
  {
   "cell_type": "markdown",
   "metadata": {},
   "source": [
    "You will raise an exception if you try to index a dictionary or pass a key for a entry that doesn't exist."
   ]
  },
  {
   "cell_type": "code",
   "execution_count": 14,
   "metadata": {},
   "outputs": [
    {
     "name": "stdout",
     "output_type": "stream",
     "text": [
      "\u001b[1;31mKeyError: 'Rocksteady'\u001b[1;m\n"
     ]
    }
   ],
   "source": [
    "try:\n",
    "    turtles['Rocksteady']\n",
    "except Exception as error:\n",
    "    print_error('KeyError: {}'.format(error))"
   ]
  },
  {
   "cell_type": "markdown",
   "metadata": {},
   "source": [
    "### Tips and Tricks\n",
    "\n",
    "There are plenty of useful tricks that make dictionary handling a lot easier.\n",
    "\n",
    "For example, you can convert a list of tuples to a dictionay."
   ]
  },
  {
   "cell_type": "code",
   "execution_count": 15,
   "metadata": {},
   "outputs": [
    {
     "name": "stdout",
     "output_type": "stream",
     "text": [
      "List:  [('alien', '1979'), ('the shining', '1980'), ('the evil dead', '1981'), ('blade runner', '1982')]\n",
      "\n",
      "Dict:  {'alien': '1979', 'the shining': '1980', 'the evil dead': '1981', 'blade runner': '1982'}\n",
      "\n",
      "Alien came out in 1979.\n"
     ]
    }
   ],
   "source": [
    "# Tuples of film names and release dates\n",
    "film1 = ('alien', '1979')\n",
    "film2 = ('the shining', '1980')\n",
    "film3 = ('the evil dead', '1981')\n",
    "film4 = ('blade runner', '1982')\n",
    "\n",
    "# List of films\n",
    "films = [film1, film2, film3, film4]\n",
    "print('List: ', films)\n",
    "print()\n",
    "\n",
    "# Dictionary of films\n",
    "films = dict(films)\n",
    "print('Dict: ', films)\n",
    "print()\n",
    "print('Alien came out in {}.'.format(films['alien']))"
   ]
  },
  {
   "cell_type": "markdown",
   "metadata": {},
   "source": [
    "<img src=\"http://t3.gstatic.com/images?q=tbn:ANd9GcSKWeplicF676cMRKV8kqkCErnbNxp6Sm2XQyrrjGNpoLp_lrjI\" width=\"400\">\n",
    "\n",
    "You can concatinate two dictionaries in a single line."
   ]
  },
  {
   "cell_type": "code",
   "execution_count": 16,
   "metadata": {},
   "outputs": [
    {
     "name": "stdout",
     "output_type": "stream",
     "text": [
      "Concatination:  {'alien': '1979', 'the shining': '1980', 'the evil dead': '1981', 'blade runner': '1982', 'WarGames': '1983', 'Amadeus': '1984'}\n"
     ]
    }
   ],
   "source": [
    "# Make another dictionary\n",
    "more_films = dict([('WarGames', '1983'), ('Amadeus', '1984')])\n",
    "\n",
    "# Concatinate the dictionaries\n",
    "films_80s = {**films, **more_films}\n",
    "print('Concatination: ', films_80s)"
   ]
  },
  {
   "cell_type": "markdown",
   "metadata": {},
   "source": [
    "You can clear the contents of an existing dictionary."
   ]
  },
  {
   "cell_type": "code",
   "execution_count": 17,
   "metadata": {},
   "outputs": [
    {
     "name": "stdout",
     "output_type": "stream",
     "text": [
      "Clear:  {}\n"
     ]
    }
   ],
   "source": [
    "# Clear the films dictionary\n",
    "films.clear()\n",
    "print('Clear: ', films)"
   ]
  },
  {
   "cell_type": "markdown",
   "metadata": {},
   "source": [
    "Finally, you can *update*, *get* or *pop* dictionary entries."
   ]
  },
  {
   "cell_type": "code",
   "execution_count": 18,
   "metadata": {},
   "outputs": [
    {
     "name": "stdout",
     "output_type": "stream",
     "text": [
      "Update: {'Back to the Future': '1985'}\n",
      "\n",
      "Get: Back to the Future came out in 1985.\n",
      "\n",
      "Pop:  {}\n"
     ]
    }
   ],
   "source": [
    "# Add a value to the dictionary\n",
    "films.update({'Back to the Future': '1985'})\n",
    "print('Update:', films)\n",
    "print()\n",
    "\n",
    "# Get the value for the key\n",
    "print('Get: Back to the Future came out in {}.'.format(films.get('Back to the Future')))\n",
    "print()\n",
    "\n",
    "# Pop the entry out of the dictionary\n",
    "films.pop('Back to the Future')\n",
    "print('Pop: ', films)"
   ]
  },
  {
   "cell_type": "markdown",
   "metadata": {},
   "source": [
    "> Further Reading  \n",
    "> <a href=\"https://realpython.com/python-dicts/\" target=\"_blank\">https://realpython.com/python-dicts/</a>"
   ]
  },
  {
   "cell_type": "markdown",
   "metadata": {},
   "source": [
    "## 4 List Comprehension\n",
    "---\n",
    "\n",
    "Loops are a core component of any programming language and Python is certainly no different."
   ]
  },
  {
   "cell_type": "code",
   "execution_count": 20,
   "metadata": {},
   "outputs": [
    {
     "name": "stdout",
     "output_type": "stream",
     "text": [
      "i = 1\n",
      "i = 2\n",
      "i = 3\n"
     ]
    }
   ],
   "source": [
    "# Simple loop\n",
    "for i in (1, 2, 3):\n",
    "    print('i =', i)"
   ]
  },
  {
   "cell_type": "markdown",
   "metadata": {},
   "source": [
    "That being said, Python does offer an extremely powerful way to generate lists from loops using a process called *list comprehension*. In lower level lanaguages (*e.g.* C, Fortran, *etc.*) arrays are usually built by declaring an empty object of a given size and type and then iteratively filling this array. It is possible to do something similar in Python, in fact, this is often done by people who come to Python from one of these languages."
   ]
  },
  {
   "cell_type": "code",
   "execution_count": 22,
   "metadata": {},
   "outputs": [
    {
     "name": "stdout",
     "output_type": "stream",
     "text": [
      "my_int_list = [1, 2, 3]\n"
     ]
    }
   ],
   "source": [
    "# Create a list of size 3\n",
    "my_int_list = [None, None, None]\n",
    "\n",
    "# Run a loop\n",
    "for i in (1, 2, 3):\n",
    "    # Fill the list values\n",
    "    my_int_list[i - 1] = i\n",
    "    \n",
    "print('my_int_list =', my_int_list)"
   ]
  },
  {
   "cell_type": "markdown",
   "metadata": {},
   "source": [
    "While this works, it goes against most of what Python aims to achieve. Using Python list properties we can improve a little bit."
   ]
  },
  {
   "cell_type": "code",
   "execution_count": 23,
   "metadata": {},
   "outputs": [
    {
     "name": "stdout",
     "output_type": "stream",
     "text": [
      "my_int_list = [1, 2, 3]\n"
     ]
    }
   ],
   "source": [
    "# Create an empty list\n",
    "my_int_list = []\n",
    "\n",
    "# Run a loop\n",
    "for i in (1, 2, 3):\n",
    "    # Add list values\n",
    "    my_int_list.append(i)\n",
    "    \n",
    "print('my_int_list =', my_int_list)"
   ]
  },
  {
   "cell_type": "markdown",
   "metadata": {},
   "source": [
    "## 6 Exercises\n",
    "---\n",
    "\n",
    "1. Create a list of your favourite superheros and another list of their secret identities.\n",
    "    1. Convert your two lists into a dictionary. (Can you do it in one line?)\n",
    "    1. Remove one of your heroes and add a villain to your dictionary.\n",
    "    1. Add a character that has multiple identities to your dictionary. (What kind of object should this be?)\n",
    "    1. Demonstrate that you can look up one of your character's identities.\n",
    "    \n",
    "\n",
    "| Superhero   | Identity                    |\n",
    "|:-----------:|:---------------------------:|\n",
    "| Iron Man    | Tony Stark                  |\n",
    "| The Thing   | Ben Grimm                   |\n",
    "| Storm       | Ororo Munroe                |\n",
    "| Spider-Man  | Peter Parker, Miles Morales |\n",
    "\n",
    "    \n"
   ]
  },
  {
   "cell_type": "code",
   "execution_count": 19,
   "metadata": {},
   "outputs": [],
   "source": [
    "# heroes = dict(zip(['Iron Man', 'The Thing', 'Storm'], ['Tony Starck', 'Ben Grimm', 'Ororo Munroe']))\n",
    "# heroes.pop('The Thing')\n",
    "# heroes['Dr. Doom'] = 'Victor Von Doom'\n",
    "# heroes.update({'Spider-Man': {'original': 'Peter Parker', 'new': 'Miles Morales'}})\n",
    "\n",
    "# print(heroes)\n",
    "# print()\n",
    "# print(heroes['Spider-Man']['original'])"
   ]
  },
  {
   "cell_type": "code",
   "execution_count": null,
   "metadata": {},
   "outputs": [],
   "source": []
  },
  {
   "cell_type": "code",
   "execution_count": null,
   "metadata": {},
   "outputs": [],
   "source": []
  }
 ],
 "metadata": {
  "kernelspec": {
   "display_name": "Python 3",
   "language": "python",
   "name": "python3"
  },
  "language_info": {
   "codemirror_mode": {
    "name": "ipython",
    "version": 3
   },
   "file_extension": ".py",
   "mimetype": "text/x-python",
   "name": "python",
   "nbconvert_exporter": "python",
   "pygments_lexer": "ipython3",
   "version": "3.7.1"
  }
 },
 "nbformat": 4,
 "nbformat_minor": 2
}

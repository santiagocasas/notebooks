{
 "cells": [
  {
   "cell_type": "markdown",
   "metadata": {},
   "source": [
    "# The Anatomy of a Python Class (Part II)\n",
    "\n",
    "> Author: Samuel Farrens (<samuel.farrens@cea.fr>)  \n",
    "> Year: 2019\n",
    "\n",
    "Classes are one of the fundamental building blocks of Python and are essential for object-oriented programming.\n",
    "\n",
    "In this notebook we will explore how classes work and look at tips and tricks for getting the most out of them. By the end of this tutorial you should have, not only a much better understanding of Python classes, but also some new ideas for writing better code.\n",
    "\n",
    "## Contents\n",
    "\n",
    "---\n",
    "\n",
    "* [1 Inheritance](#1-Inheritance)\n",
    "  * [Inherting Attributes](#Inherting-Attributes)\n",
    "  * [Overriding](#Overriding)\n",
    "  * [Handling Instantiation](#Handling-Instantiation)\n",
    "  * [Multiple Parents](#Multiple-Parents)\n",
    "  * [Method Resolution Order](#Method-Resolution-Order)\n",
    "* [2 Composition](#2-Composition)\n",
    "* [3 Abstract Classes](#3-Abstract-Classes)\n",
    "  * [Abstract Methods](#Abstract-Methods)\n",
    "  * [Abstract Properties](#Abstract-Properties)\n"
   ]
  },
  {
   "cell_type": "markdown",
   "metadata": {},
   "source": [
    "## 1 Inheritance\n",
    "\n",
    "---\n",
    "\n",
    "<br>\n",
    "\n",
    "A powerful property of classes is the ability to inherit attributes and methods from other classes. This helps avoid repetition of code, which makes it easier to develop and maintain. \n",
    "\n",
    "<br>\n",
    "\n",
    "### Inherting Attributes\n",
    "\n",
    "We will begin by defining a simple class with a single static method that will act as a *parent* class."
   ]
  },
  {
   "cell_type": "code",
   "execution_count": 1,
   "metadata": {},
   "outputs": [
    {
     "name": "stdout",
     "output_type": "stream",
     "text": [
      "Parent.__dict__ = {'__module__': '__main__', 'add': <staticmethod object at 0x111676fd0>, '__dict__': <attribute '__dict__' of 'Parent' objects>, '__weakref__': <attribute '__weakref__' of 'Parent' objects>, '__doc__': None}\n"
     ]
    }
   ],
   "source": [
    "# Define a parent class\n",
    "class Parent:\n",
    "    \n",
    "    @staticmethod\n",
    "    def add(a, b):\n",
    "        return a + b\n",
    "\n",
    "# Print the parent dictionary\n",
    "print('Parent.__dict__ =', Parent.__dict__)"
   ]
  },
  {
   "cell_type": "markdown",
   "metadata": {},
   "source": [
    "Note that this class has no special properties, it the same as classes we saw in the previous notebook.\n",
    "\n",
    "Now we will define a second class, also with a single static function. This class will serve as a *child* class that will inherit from the parent class. This is done by simply passing the parent class name in `()` when defining the child class. "
   ]
  },
  {
   "cell_type": "code",
   "execution_count": 2,
   "metadata": {},
   "outputs": [
    {
     "name": "stdout",
     "output_type": "stream",
     "text": [
      "Child.__dict__ = {'__module__': '__main__', 'subtract': <staticmethod object at 0x11169c470>, '__doc__': None}\n"
     ]
    }
   ],
   "source": [
    "# Define a child class\n",
    "class Child(Parent):\n",
    "    \n",
    "    @staticmethod\n",
    "    def subtract(a, b):\n",
    "        return a - b\n",
    "\n",
    "print('Child.__dict__ =', Child.__dict__)"
   ]
  },
  {
   "cell_type": "markdown",
   "metadata": {},
   "source": [
    "We can see that the contents of the child class dictionary are only what is expected from a normal class definition. Using the special `__bases__` attribute, however, we can see a tuple of classes that the child inherits from."
   ]
  },
  {
   "cell_type": "code",
   "execution_count": 3,
   "metadata": {},
   "outputs": [
    {
     "name": "stdout",
     "output_type": "stream",
     "text": [
      "Child.__bases__ = (<class '__main__.Parent'>,)\n"
     ]
    }
   ],
   "source": [
    "print('Child.__bases__ =', Child.__bases__)"
   ]
  },
  {
   "cell_type": "markdown",
   "metadata": {},
   "source": [
    "Finally, we can demonstrate that the child has indeed inherited new attributes from the parent as follows."
   ]
  },
  {
   "cell_type": "code",
   "execution_count": 4,
   "metadata": {},
   "outputs": [
    {
     "name": "stdout",
     "output_type": "stream",
     "text": [
      "1 + 2 = 3\n",
      "3 - 2 = 1\n"
     ]
    }
   ],
   "source": [
    "print('1 + 2 =', Child.add(1, 2))\n",
    "print('3 - 2 =', Child.subtract(3, 2))"
   ]
  },
  {
   "cell_type": "markdown",
   "metadata": {},
   "source": [
    "We can clearly see that `Child` has inhertited the static `add` method from `Parent`.\n",
    "\n",
    "In the following example, we can see that this works for any type of class attribute."
   ]
  },
  {
   "cell_type": "code",
   "execution_count": 5,
   "metadata": {},
   "outputs": [
    {
     "name": "stdout",
     "output_type": "stream",
     "text": [
      "x = 1\n"
     ]
    }
   ],
   "source": [
    "class Parent:\n",
    "    \n",
    "    x = 1\n",
    "    \n",
    "class Child(Parent):\n",
    "    \n",
    "    @classmethod\n",
    "    def show(cls):\n",
    "        return print('x =', cls.x)\n",
    "\n",
    "Child.show()"
   ]
  },
  {
   "cell_type": "markdown",
   "metadata": {},
   "source": [
    "### Overriding\n",
    "\n",
    "We saw in the previous notebook that class intance attributes will override class attributes of the same name. The same happens with child attributes with respect to parent attributes. "
   ]
  },
  {
   "cell_type": "code",
   "execution_count": 6,
   "metadata": {},
   "outputs": [
    {
     "name": "stdout",
     "output_type": "stream",
     "text": [
      "x = 2\n"
     ]
    }
   ],
   "source": [
    "class Parent:\n",
    "    \n",
    "    x = 1\n",
    "    \n",
    "class Child(Parent):\n",
    "    \n",
    "    x = 2\n",
    "    \n",
    "    @classmethod\n",
    "    def show(cls):\n",
    "        return print('x =', cls.x)\n",
    "\n",
    "Child.show()"
   ]
  },
  {
   "cell_type": "markdown",
   "metadata": {},
   "source": [
    "### Hierachy\n",
    "\n",
    "It is possible to define a hierchy of parent classes, the attributes of which will be inheried by a given child class."
   ]
  },
  {
   "cell_type": "code",
   "execution_count": 8,
   "metadata": {},
   "outputs": [
    {
     "name": "stdout",
     "output_type": "stream",
     "text": [
      "Child 1 2 3\n"
     ]
    }
   ],
   "source": [
    "class GrandParent:\n",
    "    \n",
    "    x = 1\n",
    "    name = 'Grandparent'\n",
    "\n",
    "class Parent(GrandParent):\n",
    "    \n",
    "    y = 2\n",
    "    name = 'Parent'\n",
    "    \n",
    "class Child(Parent):\n",
    "    \n",
    "    z = 3\n",
    "    name = 'Child'\n",
    "\n",
    "print(Child.name, Child.x, Child.y, Child.z)"
   ]
  },
  {
   "cell_type": "markdown",
   "metadata": {},
   "source": [
    "Note that overriding will also act hierachically, meaning that the last class in the chain will be given precedence.\n",
    "\n",
    "<br>\n",
    "\n",
    "### Handling Instantiation \n",
    "\n",
    "If the parent class contains an `__init__` method, this too can be inherited by the child."
   ]
  },
  {
   "cell_type": "code",
   "execution_count": 9,
   "metadata": {},
   "outputs": [
    {
     "name": "stdout",
     "output_type": "stream",
     "text": [
      "myattr = A string\n"
     ]
    }
   ],
   "source": [
    "class Parent:\n",
    "    \n",
    "    def __init__(self, value):\n",
    "        self.myattr = value\n",
    "    \n",
    "class Child(Parent):\n",
    "    \n",
    "    def show(self):\n",
    "        return print('myattr =', self.myattr)\n",
    "    \n",
    "Child('A string').show()"
   ]
  },
  {
   "cell_type": "markdown",
   "metadata": {},
   "source": [
    "In fact it also works the other way around."
   ]
  },
  {
   "cell_type": "code",
   "execution_count": 10,
   "metadata": {},
   "outputs": [
    {
     "name": "stdout",
     "output_type": "stream",
     "text": [
      "myattr = A string\n"
     ]
    }
   ],
   "source": [
    "class Parent:\n",
    "    \n",
    "    def show(self):\n",
    "        return print('myattr =', self.myattr)\n",
    "    \n",
    "class Child(Parent):\n",
    "    \n",
    "    def __init__(self, value):\n",
    "        self.myattr = value\n",
    "    \n",
    "Child('A string').show()"
   ]
  },
  {
   "cell_type": "markdown",
   "metadata": {},
   "source": [
    "This is because the child will lookup any attributes not listed in its own dictionary in all the parent (or base) classes.\n",
    "\n",
    "If both classes have an `__init__` method only the child class will be initialised (see [Overriding](#Overriding))."
   ]
  },
  {
   "cell_type": "code",
   "execution_count": 11,
   "metadata": {},
   "outputs": [
    {
     "name": "stdout",
     "output_type": "stream",
     "text": [
      "cval = child value\n"
     ]
    },
    {
     "ename": "AttributeError",
     "evalue": "'Child' object has no attribute 'pval'",
     "output_type": "error",
     "traceback": [
      "\u001b[0;31m---------------------------------------------------------------------------\u001b[0m",
      "\u001b[0;31mAttributeError\u001b[0m                            Traceback (most recent call last)",
      "\u001b[0;32m<ipython-input-11-e96ce01aab38>\u001b[0m in \u001b[0;36m<module>\u001b[0;34m\u001b[0m\n\u001b[1;32m     11\u001b[0m \u001b[0minst\u001b[0m \u001b[0;34m=\u001b[0m \u001b[0mChild\u001b[0m\u001b[0;34m(\u001b[0m\u001b[0;34m)\u001b[0m\u001b[0;34m\u001b[0m\u001b[0;34m\u001b[0m\u001b[0m\n\u001b[1;32m     12\u001b[0m \u001b[0mprint\u001b[0m\u001b[0;34m(\u001b[0m\u001b[0;34m'cval ='\u001b[0m\u001b[0;34m,\u001b[0m \u001b[0minst\u001b[0m\u001b[0;34m.\u001b[0m\u001b[0mcval\u001b[0m\u001b[0;34m)\u001b[0m\u001b[0;34m\u001b[0m\u001b[0;34m\u001b[0m\u001b[0m\n\u001b[0;32m---> 13\u001b[0;31m \u001b[0mprint\u001b[0m\u001b[0;34m(\u001b[0m\u001b[0;34m'pval ='\u001b[0m\u001b[0;34m,\u001b[0m \u001b[0minst\u001b[0m\u001b[0;34m.\u001b[0m\u001b[0mpval\u001b[0m\u001b[0;34m)\u001b[0m\u001b[0;34m\u001b[0m\u001b[0;34m\u001b[0m\u001b[0m\n\u001b[0m",
      "\u001b[0;31mAttributeError\u001b[0m: 'Child' object has no attribute 'pval'"
     ]
    }
   ],
   "source": [
    "class Parent:\n",
    "    \n",
    "    def __init__(self):\n",
    "        self.pval = 'parent value'\n",
    "    \n",
    "class Child(Parent):\n",
    "    \n",
    "    def __init__(self):\n",
    "        self.cval = 'child value'\n",
    "    \n",
    "inst = Child()\n",
    "print('cval =', inst.cval)\n",
    "print('pval =', inst.pval)"
   ]
  },
  {
   "cell_type": "markdown",
   "metadata": {},
   "source": [
    "We can fix this by manually instantiating the parent class."
   ]
  },
  {
   "cell_type": "code",
   "execution_count": 12,
   "metadata": {},
   "outputs": [
    {
     "name": "stdout",
     "output_type": "stream",
     "text": [
      "cval = child value\n",
      "pval = parent value\n"
     ]
    }
   ],
   "source": [
    "class Parent:\n",
    "    \n",
    "    def __init__(self):\n",
    "        self.pval = 'parent value'\n",
    "    \n",
    "class Child(Parent):\n",
    "    \n",
    "    def __init__(self):\n",
    "        self.cval = 'child value'\n",
    "        Parent.__init__(self)\n",
    "    \n",
    "inst = Child()\n",
    "print('cval =', inst.cval)\n",
    "print('pval =', inst.pval)"
   ]
  },
  {
   "cell_type": "markdown",
   "metadata": {},
   "source": [
    "Python has a useful shortcut to make this process easier using the [`super`](https://docs.python.org/3/library/functions.html?highlight=super#super)function. This allows us to instantiate the parent without naming it, this particularly useful if the name of the parent class were to change."
   ]
  },
  {
   "cell_type": "code",
   "execution_count": 13,
   "metadata": {},
   "outputs": [
    {
     "name": "stdout",
     "output_type": "stream",
     "text": [
      "cval = child value\n",
      "pval = parent value\n"
     ]
    }
   ],
   "source": [
    "class Parent:\n",
    "    \n",
    "    def __init__(self):\n",
    "        self.pval = 'parent value'\n",
    "    \n",
    "class Child(Parent):\n",
    "    \n",
    "    def __init__(self):\n",
    "        self.cval = 'child value'\n",
    "        super().__init__()\n",
    "    \n",
    "inst = Child()\n",
    "print('cval =', inst.cval)\n",
    "print('pval =', inst.pval)"
   ]
  },
  {
   "cell_type": "markdown",
   "metadata": {},
   "source": [
    "### Multiple Parents\n",
    "\n",
    "It is possible for a child to inherit attributes from multiple parents."
   ]
  },
  {
   "cell_type": "code",
   "execution_count": 14,
   "metadata": {},
   "outputs": [
    {
     "name": "stdout",
     "output_type": "stream",
     "text": [
      "mother value = 1\n",
      "father value = 2\n",
      "child value = 3\n"
     ]
    }
   ],
   "source": [
    "class Mother:\n",
    "    \n",
    "    def __init__(self, value):\n",
    "        self.mval = value\n",
    "        \n",
    "    def show_mother(self):\n",
    "        print('mother value =', self.mval)\n",
    "        \n",
    "class Father:\n",
    "    \n",
    "    def __init__(self, value):\n",
    "        self.fval = value\n",
    "        \n",
    "    def show_father(self):\n",
    "        print('father value =', self.fval)\n",
    "    \n",
    "class Child(Mother, Father):\n",
    "    \n",
    "    def __init__(self, value1, value2, value3):\n",
    "        self.cval = value3\n",
    "        Mother.__init__(self, value1)\n",
    "        Father.__init__(self, value2)\n",
    "        \n",
    "    def show_child(self):\n",
    "        print('child value =', self.cval)\n",
    "        \n",
    "inst = Child(1, 2, 3)\n",
    "inst.show_mother()\n",
    "inst.show_father()\n",
    "inst.show_child()"
   ]
  },
  {
   "cell_type": "markdown",
   "metadata": {},
   "source": [
    "Note that the parent classes were explicitly instantiated in the previous example. Attempting the same thing using the `super` function will raise an error."
   ]
  },
  {
   "cell_type": "code",
   "execution_count": 15,
   "metadata": {},
   "outputs": [
    {
     "name": "stdout",
     "output_type": "stream",
     "text": [
      "mother value = 1\n"
     ]
    },
    {
     "ename": "AttributeError",
     "evalue": "'Child' object has no attribute 'fval'",
     "output_type": "error",
     "traceback": [
      "\u001b[0;31m---------------------------------------------------------------------------\u001b[0m",
      "\u001b[0;31mAttributeError\u001b[0m                            Traceback (most recent call last)",
      "\u001b[0;32m<ipython-input-15-82b1e0c738d6>\u001b[0m in \u001b[0;36m<module>\u001b[0;34m\u001b[0m\n\u001b[1;32m     26\u001b[0m \u001b[0minst\u001b[0m \u001b[0;34m=\u001b[0m \u001b[0mChild\u001b[0m\u001b[0;34m(\u001b[0m\u001b[0;36m1\u001b[0m\u001b[0;34m,\u001b[0m \u001b[0;36m2\u001b[0m\u001b[0;34m)\u001b[0m\u001b[0;34m\u001b[0m\u001b[0;34m\u001b[0m\u001b[0m\n\u001b[1;32m     27\u001b[0m \u001b[0minst\u001b[0m\u001b[0;34m.\u001b[0m\u001b[0mshow_mother\u001b[0m\u001b[0;34m(\u001b[0m\u001b[0;34m)\u001b[0m\u001b[0;34m\u001b[0m\u001b[0;34m\u001b[0m\u001b[0m\n\u001b[0;32m---> 28\u001b[0;31m \u001b[0minst\u001b[0m\u001b[0;34m.\u001b[0m\u001b[0mshow_father\u001b[0m\u001b[0;34m(\u001b[0m\u001b[0;34m)\u001b[0m\u001b[0;34m\u001b[0m\u001b[0;34m\u001b[0m\u001b[0m\n\u001b[0m\u001b[1;32m     29\u001b[0m \u001b[0minst\u001b[0m\u001b[0;34m.\u001b[0m\u001b[0mshow_child\u001b[0m\u001b[0;34m(\u001b[0m\u001b[0;34m)\u001b[0m\u001b[0;34m\u001b[0m\u001b[0;34m\u001b[0m\u001b[0m\n",
      "\u001b[0;32m<ipython-input-15-82b1e0c738d6>\u001b[0m in \u001b[0;36mshow_father\u001b[0;34m(self)\u001b[0m\n\u001b[1;32m     13\u001b[0m \u001b[0;34m\u001b[0m\u001b[0m\n\u001b[1;32m     14\u001b[0m     \u001b[0;32mdef\u001b[0m \u001b[0mshow_father\u001b[0m\u001b[0;34m(\u001b[0m\u001b[0mself\u001b[0m\u001b[0;34m)\u001b[0m\u001b[0;34m:\u001b[0m\u001b[0;34m\u001b[0m\u001b[0;34m\u001b[0m\u001b[0m\n\u001b[0;32m---> 15\u001b[0;31m         \u001b[0mprint\u001b[0m\u001b[0;34m(\u001b[0m\u001b[0;34m'father value ='\u001b[0m\u001b[0;34m,\u001b[0m \u001b[0mself\u001b[0m\u001b[0;34m.\u001b[0m\u001b[0mfval\u001b[0m\u001b[0;34m)\u001b[0m\u001b[0;34m\u001b[0m\u001b[0;34m\u001b[0m\u001b[0m\n\u001b[0m\u001b[1;32m     16\u001b[0m \u001b[0;34m\u001b[0m\u001b[0m\n\u001b[1;32m     17\u001b[0m \u001b[0;32mclass\u001b[0m \u001b[0mChild\u001b[0m\u001b[0;34m(\u001b[0m\u001b[0mMother\u001b[0m\u001b[0;34m,\u001b[0m \u001b[0mFather\u001b[0m\u001b[0;34m)\u001b[0m\u001b[0;34m:\u001b[0m\u001b[0;34m\u001b[0m\u001b[0;34m\u001b[0m\u001b[0m\n",
      "\u001b[0;31mAttributeError\u001b[0m: 'Child' object has no attribute 'fval'"
     ]
    }
   ],
   "source": [
    "class Mother:\n",
    "    \n",
    "    def __init__(self, value):\n",
    "        self.mval = value\n",
    "        \n",
    "    def show_mother(self):\n",
    "        print('mother value =', self.mval)\n",
    "        \n",
    "class Father:\n",
    "    \n",
    "    def __init__(self, value):\n",
    "        self.fval = value\n",
    "        \n",
    "    def show_father(self):\n",
    "        print('father value =', self.fval)\n",
    "    \n",
    "class Child(Mother, Father):\n",
    "    \n",
    "    def __init__(self, value1, value2):\n",
    "        self.cval = value2\n",
    "        super().__init__(value1)\n",
    "        \n",
    "    def show_child(self):\n",
    "        print('child value =', self.cval)\n",
    "        \n",
    "inst = Child(1, 2)\n",
    "inst.show_mother()\n",
    "inst.show_father()\n",
    "inst.show_child()"
   ]
  },
  {
   "cell_type": "markdown",
   "metadata": {},
   "source": [
    "As we can see the `Mother` parent class was properly instantiated, but the `Father` parent class was not. The reasons for this are explained in the following subsection.\n",
    "\n",
    "> In general, caution should be used when building a class archtecture that requires inheritance for multiple parent classes.\n",
    "\n",
    "<br>\n",
    "\n",
    "### Method Resolution Order\n",
    "\n",
    "The Method Resolution Order (MRO) dictates the order in which the child class will search the base classes for a given attribute. We can see the MRO of the child class from the previous example using the `__mro__` attribute as follows."
   ]
  },
  {
   "cell_type": "code",
   "execution_count": 16,
   "metadata": {},
   "outputs": [
    {
     "name": "stdout",
     "output_type": "stream",
     "text": [
      "Child.__mro__ = (<class '__main__.Child'>, <class '__main__.Mother'>, <class '__main__.Father'>, <class 'object'>)\n"
     ]
    }
   ],
   "source": [
    "print('Child.__mro__ =', Child.__mro__)"
   ]
  },
  {
   "cell_type": "markdown",
   "metadata": {},
   "source": [
    "We can see that the `Mother` class appears before the `Father` class in the MRO, hence the `super` method in `Child` instantiates `Mother`. \n",
    "\n",
    "In order to make the previous example work, we would need to add another `super` in the `__init__` of the `Mother` class as follows.\n",
    "\n",
    "> Note: Don't do this in your code!"
   ]
  },
  {
   "cell_type": "code",
   "execution_count": 17,
   "metadata": {},
   "outputs": [
    {
     "name": "stdout",
     "output_type": "stream",
     "text": [
      "mother value = 1\n",
      "father value = 1\n",
      "child value = 2\n"
     ]
    }
   ],
   "source": [
    "class Mother:\n",
    "    \n",
    "    def __init__(self, value):\n",
    "        self.mval = value\n",
    "        super().__init__(value)\n",
    "        \n",
    "    def show_mother(self):\n",
    "        print('mother value =', self.mval)\n",
    "        \n",
    "class Father:\n",
    "    \n",
    "    def __init__(self, value):\n",
    "        self.fval = value\n",
    "        \n",
    "    def show_father(self):\n",
    "        print('father value =', self.fval)\n",
    "    \n",
    "class Child(Mother, Father):\n",
    "    \n",
    "    def __init__(self, value1, value2):\n",
    "        self.cval = value2\n",
    "        super().__init__(value1)\n",
    "        \n",
    "    def show_child(self):\n",
    "        print('child value =', self.cval)\n",
    "        \n",
    "inst = Child(1, 2)\n",
    "inst.show_mother()\n",
    "inst.show_father()\n",
    "inst.show_child()"
   ]
  },
  {
   "cell_type": "markdown",
   "metadata": {},
   "source": [
    "This, however, is not recommended as it adds unncessary abiguity to the code and makes debugging extremely difficult.\n",
    "\n",
    "<br>\n",
    "\n",
    "## 2 Composition\n",
    "---\n",
    "\n",
    "<br>\n",
    "\n",
    "Inhertitance is not the only way in which a class can access attributes from other classes. This comes back one of main take-away messages of this tutorial, namely that everything in Python is an object and any object can be assigned as an attribute.\n",
    "\n",
    "This means that a class attribute can actually be an instance of another class."
   ]
  },
  {
   "cell_type": "code",
   "execution_count": 18,
   "metadata": {},
   "outputs": [
    {
     "name": "stdout",
     "output_type": "stream",
     "text": [
      "myattr = composer value\n"
     ]
    }
   ],
   "source": [
    "class Composer:\n",
    "    \n",
    "    def __init__(self):\n",
    "        self.myattr = 'composer value'\n",
    "    \n",
    "class myClass:\n",
    "    \n",
    "    def __init__(self):\n",
    "        self.comp = Composer()\n",
    "\n",
    "inst = myClass()\n",
    "print(\"myattr =\", inst.comp.myattr)"
   ]
  },
  {
   "cell_type": "markdown",
   "metadata": {},
   "source": [
    "This can particularly useful as we can pass classes or class intances to our new class without knowing anything about the other classes. "
   ]
  },
  {
   "cell_type": "code",
   "execution_count": 19,
   "metadata": {},
   "outputs": [
    {
     "name": "stdout",
     "output_type": "stream",
     "text": [
      "whoami = I am a star!\n",
      "whoami = I am a Galaxy!\n"
     ]
    }
   ],
   "source": [
    "class Star:\n",
    "    \n",
    "    def __init__(self):\n",
    "        self.whoami = 'I am a star!'\n",
    "        \n",
    "class Galaxy:\n",
    "    \n",
    "    def __init__(self):\n",
    "        self.whoami = 'I am a Galaxy!'\n",
    "    \n",
    "class myClass:\n",
    "    \n",
    "    def __init__(self, composer):\n",
    "        self.comp = composer()\n",
    "\n",
    "inst1 = myClass(Star)\n",
    "inst2 = myClass(Galaxy)\n",
    "print(\"whoami =\", inst1.comp.whoami)\n",
    "print(\"whoami =\", inst2.comp.whoami)"
   ]
  },
  {
   "cell_type": "markdown",
   "metadata": {},
   "source": [
    "We can even achieve inheritance-like properties if we know the name of a given attribute that the composer class should have."
   ]
  },
  {
   "cell_type": "code",
   "execution_count": 20,
   "metadata": {},
   "outputs": [
    {
     "name": "stdout",
     "output_type": "stream",
     "text": [
      "whoami = I am a star!\n",
      "whoami = I am a Galaxy!\n"
     ]
    }
   ],
   "source": [
    "class Star:\n",
    "    \n",
    "    def __init__(self):\n",
    "        self.whoami = 'I am a star!'\n",
    "        \n",
    "class Galaxy:\n",
    "    \n",
    "    def __init__(self):\n",
    "        self.whoami = 'I am a Galaxy!'\n",
    "    \n",
    "class myClass:\n",
    "    \n",
    "    def __init__(self, composer):\n",
    "        self.whoami = composer().whoami\n",
    "\n",
    "inst1 = myClass(Star)\n",
    "inst2 = myClass(Galaxy)\n",
    "print(\"whoami =\", inst1.whoami)\n",
    "print(\"whoami =\", inst2.whoami)"
   ]
  },
  {
   "cell_type": "markdown",
   "metadata": {},
   "source": [
    "> Note: This will break if the composer does not have an attribute called `whoami`.\n",
    "\n",
    "Composition also alows preinitialised class instances to be passed."
   ]
  },
  {
   "cell_type": "code",
   "execution_count": 21,
   "metadata": {},
   "outputs": [
    {
     "name": "stdout",
     "output_type": "stream",
     "text": [
      "mag = 11.05\n",
      "mag = 8.2\n"
     ]
    }
   ],
   "source": [
    "class Star:\n",
    "    \n",
    "    def __init__(self, mag):\n",
    "        self.mag = mag\n",
    "        \n",
    "class Galaxy:\n",
    "    \n",
    "    def __init__(self, mag):\n",
    "        self.mag = mag\n",
    "    \n",
    "class myClass:\n",
    "    \n",
    "    def __init__(self, composer):\n",
    "        self.comp = composer\n",
    "        self.mag = self.comp.mag\n",
    "\n",
    "        \n",
    "star = Star(11.05)\n",
    "inst1 = myClass(star)\n",
    "inst2 = myClass(Galaxy(8.2))\n",
    "print(\"mag =\", inst1.mag)\n",
    "print(\"mag =\", inst2.mag)"
   ]
  },
  {
   "cell_type": "markdown",
   "metadata": {},
   "source": [
    "This can be useful, especially if we want to be able to change the original instance attributes."
   ]
  },
  {
   "cell_type": "code",
   "execution_count": 22,
   "metadata": {},
   "outputs": [
    {
     "name": "stdout",
     "output_type": "stream",
     "text": [
      "inst1 mag = 12.3\n",
      "star mag = 13.1\n"
     ]
    }
   ],
   "source": [
    "inst1.mag = 12.3\n",
    "inst1.comp.mag = 13.1\n",
    "print(\"inst1 mag =\", inst1.mag)\n",
    "print(\"star mag =\", star.mag)"
   ]
  },
  {
   "cell_type": "markdown",
   "metadata": {},
   "source": [
    "## 3 Abstract Classes\n",
    "---\n",
    "\n",
    "<br>\n",
    "\n",
    "Abstract classes are classes that contain abstract methods.\n",
    "\n",
    "<br>\n",
    "\n",
    "### Abstract Methods\n",
    "\n",
    "An abstract method is a method that is defined but not implemented. This is useful for definining parent classes that impose some conditions on the child."
   ]
  },
  {
   "cell_type": "code",
   "execution_count": 23,
   "metadata": {},
   "outputs": [
    {
     "name": "stdout",
     "output_type": "stream",
     "text": [
      "Parent.__dict__ {'__module__': '__main__', 'get_id': <function Parent.get_id at 0x1117232f0>, '__dict__': <attribute '__dict__' of 'Parent' objects>, '__weakref__': <attribute '__weakref__' of 'Parent' objects>, '__doc__': None, '__abstractmethods__': frozenset({'get_id'}), '_abc_impl': <_abc_data object at 0x111681b10>}\n"
     ]
    }
   ],
   "source": [
    "from abc import ABC, abstractmethod\n",
    "\n",
    "class Parent(ABC):\n",
    "    \n",
    "    @abstractmethod\n",
    "    def get_id(self):\n",
    "        pass\n",
    "\n",
    "print ('Parent.__dict__', Parent.__dict__)"
   ]
  },
  {
   "cell_type": "markdown",
   "metadata": {},
   "source": [
    "We can see that the method `get_id` has been defined but does nothing.\n",
    "\n",
    "We now define a child class that inherits this parent."
   ]
  },
  {
   "cell_type": "code",
   "execution_count": 24,
   "metadata": {},
   "outputs": [
    {
     "ename": "TypeError",
     "evalue": "Can't instantiate abstract class Child with abstract methods get_id",
     "output_type": "error",
     "traceback": [
      "\u001b[0;31m---------------------------------------------------------------------------\u001b[0m",
      "\u001b[0;31mTypeError\u001b[0m                                 Traceback (most recent call last)",
      "\u001b[0;32m<ipython-input-24-6aa286ec1d23>\u001b[0m in \u001b[0;36m<module>\u001b[0;34m\u001b[0m\n\u001b[1;32m      4\u001b[0m         \u001b[0mself\u001b[0m\u001b[0;34m.\u001b[0m\u001b[0mwhoami\u001b[0m \u001b[0;34m=\u001b[0m \u001b[0;34m'I am a child!'\u001b[0m\u001b[0;34m\u001b[0m\u001b[0;34m\u001b[0m\u001b[0m\n\u001b[1;32m      5\u001b[0m \u001b[0;34m\u001b[0m\u001b[0m\n\u001b[0;32m----> 6\u001b[0;31m \u001b[0minst\u001b[0m \u001b[0;34m=\u001b[0m \u001b[0mChild\u001b[0m\u001b[0;34m(\u001b[0m\u001b[0;34m)\u001b[0m\u001b[0;34m\u001b[0m\u001b[0;34m\u001b[0m\u001b[0m\n\u001b[0m\u001b[1;32m      7\u001b[0m \u001b[0mprint\u001b[0m\u001b[0;34m(\u001b[0m\u001b[0minst\u001b[0m\u001b[0;34m.\u001b[0m\u001b[0mwhoami\u001b[0m\u001b[0;34m)\u001b[0m\u001b[0;34m\u001b[0m\u001b[0;34m\u001b[0m\u001b[0m\n",
      "\u001b[0;31mTypeError\u001b[0m: Can't instantiate abstract class Child with abstract methods get_id"
     ]
    }
   ],
   "source": [
    "class Child(Parent):\n",
    "    \n",
    "    def __init__(self):\n",
    "        self.whoami = 'I am a child!'\n",
    "        \n",
    "inst = Child()\n",
    "print(inst.whoami)"
   ]
  },
  {
   "cell_type": "markdown",
   "metadata": {},
   "source": [
    "This raises an error when trying to create an instance. This is because the child class needs to override the abstract method `get_id`. "
   ]
  },
  {
   "cell_type": "code",
   "execution_count": 26,
   "metadata": {},
   "outputs": [
    {
     "name": "stdout",
     "output_type": "stream",
     "text": [
      "I am a child!\n"
     ]
    }
   ],
   "source": [
    "class Child(Parent):\n",
    "    \n",
    "    def __init__(self):\n",
    "        self.get_id()\n",
    "        \n",
    "    def get_id(self):\n",
    "        self.whoami = 'I am a child!'\n",
    "        \n",
    "inst = Child()\n",
    "print(inst.whoami)"
   ]
  },
  {
   "cell_type": "markdown",
   "metadata": {},
   "source": [
    "This allows the parent class, which may be written with no knowledge of the properties of the child class, to impose some conditions on what a given child class should do.\n",
    "\n",
    "<br>\n",
    "\n",
    "### Abstract Properties\n",
    "\n",
    "In the previous notebook we learned how class properties can be defined to impose conditions on the values of certain class attributes. Using Abstract methods we can combine these tools to ensure that a given class has the properties we want.\n",
    "\n",
    "We start by defining an abstract class with the abstract property `whoami` and its corresponding setter."
   ]
  },
  {
   "cell_type": "code",
   "execution_count": 28,
   "metadata": {},
   "outputs": [],
   "source": [
    "class AstroObject(ABC):\n",
    "    \n",
    "    @property\n",
    "    @abstractmethod\n",
    "    def whoami(self):\n",
    "        pass\n",
    "    \n",
    "    @whoami.setter\n",
    "    @abstractmethod\n",
    "    def whoami(self, value):\n",
    "        pass"
   ]
  },
  {
   "cell_type": "markdown",
   "metadata": {},
   "source": [
    "We can then define a child class that inherits this abstract class."
   ]
  },
  {
   "cell_type": "code",
   "execution_count": 29,
   "metadata": {},
   "outputs": [
    {
     "ename": "TypeError",
     "evalue": "Can't instantiate abstract class Star with abstract methods whoami",
     "output_type": "error",
     "traceback": [
      "\u001b[0;31m---------------------------------------------------------------------------\u001b[0m",
      "\u001b[0;31mTypeError\u001b[0m                                 Traceback (most recent call last)",
      "\u001b[0;32m<ipython-input-29-09a129f89c2b>\u001b[0m in \u001b[0;36m<module>\u001b[0;34m\u001b[0m\n\u001b[1;32m      4\u001b[0m         \u001b[0mself\u001b[0m\u001b[0;34m.\u001b[0m\u001b[0mwhoami\u001b[0m \u001b[0;34m=\u001b[0m \u001b[0;34m'I am a star!'\u001b[0m\u001b[0;34m\u001b[0m\u001b[0;34m\u001b[0m\u001b[0m\n\u001b[1;32m      5\u001b[0m \u001b[0;34m\u001b[0m\u001b[0m\n\u001b[0;32m----> 6\u001b[0;31m \u001b[0mstar\u001b[0m \u001b[0;34m=\u001b[0m \u001b[0mStar\u001b[0m\u001b[0;34m(\u001b[0m\u001b[0;34m)\u001b[0m\u001b[0;34m\u001b[0m\u001b[0;34m\u001b[0m\u001b[0m\n\u001b[0m\u001b[1;32m      7\u001b[0m \u001b[0mprint\u001b[0m\u001b[0;34m(\u001b[0m\u001b[0;34m\"whoami =\"\u001b[0m\u001b[0;34m,\u001b[0m \u001b[0mstar\u001b[0m\u001b[0;34m.\u001b[0m\u001b[0mwhoami\u001b[0m\u001b[0;34m)\u001b[0m\u001b[0;34m\u001b[0m\u001b[0;34m\u001b[0m\u001b[0m\n",
      "\u001b[0;31mTypeError\u001b[0m: Can't instantiate abstract class Star with abstract methods whoami"
     ]
    }
   ],
   "source": [
    "class Star(AstroObject):\n",
    "    \n",
    "    def __init__(self):\n",
    "        self.whoami = 'I am a star!'\n",
    "\n",
    "star = Star()\n",
    "print(\"whoami =\", star.whoami)"
   ]
  },
  {
   "cell_type": "markdown",
   "metadata": {},
   "source": [
    "We can see that while a value for the attribute is provided the property is not explicitly defined. This way we can impose that the `Star` class must define a getter and setter for the attribute `whoami`."
   ]
  },
  {
   "cell_type": "code",
   "execution_count": 30,
   "metadata": {},
   "outputs": [
    {
     "name": "stdout",
     "output_type": "stream",
     "text": [
      "whoami = I am a star!\n"
     ]
    }
   ],
   "source": [
    "class Star(AstroObject):\n",
    "    \n",
    "    def __init__(self):\n",
    "        self.whoami = 'I am a star!'\n",
    "    \n",
    "    @property\n",
    "    def whoami(self):\n",
    "        return self._whoami\n",
    "    \n",
    "    @whoami.setter\n",
    "    def whoami(self, value):\n",
    "        if not isinstance(value, str):\n",
    "            raise ValueError('whoami must be a string')\n",
    "        self._whoami = value\n",
    "\n",
    "star = Star()\n",
    "print(\"whoami =\", star.whoami)\n"
   ]
  },
  {
   "cell_type": "markdown",
   "metadata": {},
   "source": [
    "This in turn could be used in conjunction with what we learned about class composition to ensure that composers have the properties needed to work with the child class."
   ]
  },
  {
   "cell_type": "code",
   "execution_count": null,
   "metadata": {},
   "outputs": [],
   "source": []
  }
 ],
 "metadata": {
  "kernelspec": {
   "display_name": "Python 3",
   "language": "python",
   "name": "python3"
  },
  "language_info": {
   "codemirror_mode": {
    "name": "ipython",
    "version": 3
   },
   "file_extension": ".py",
   "mimetype": "text/x-python",
   "name": "python",
   "nbconvert_exporter": "python",
   "pygments_lexer": "ipython3",
   "version": "3.7.2"
  }
 },
 "nbformat": 4,
 "nbformat_minor": 2
}

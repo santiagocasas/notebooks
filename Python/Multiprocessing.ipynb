{
 "cells": [
  {
   "cell_type": "markdown",
   "metadata": {},
   "source": [
    "# Multiprocessing\n",
    "---"
   ]
  },
  {
   "cell_type": "code",
   "execution_count": 1,
   "metadata": {},
   "outputs": [],
   "source": [
    "import numpy as np\n",
    "import os\n",
    "import multiprocessing as mp\n",
    "import time\n",
    "from scipy.signal import fftconvolve"
   ]
  },
  {
   "cell_type": "code",
   "execution_count": 2,
   "metadata": {},
   "outputs": [],
   "source": [
    "# def proc_func(name):\n",
    "    \n",
    "#     print(name + ' starting')\n",
    "    \n",
    "#     mat = np.random.ranf((500, 500))\n",
    "#     ker = np.random.ranf((40, 40))\n",
    "#     res = np.linalg.norm(fftconvolve(mat, ker))\n",
    "\n",
    "#     print(name + ' exiting')\n",
    "    \n",
    "#     return res\n"
   ]
  },
  {
   "cell_type": "code",
   "execution_count": 3,
   "metadata": {},
   "outputs": [],
   "source": [
    "# def run_serial():\n",
    "    \n",
    "#     [proc_func('serial') for i in range(300)]"
   ]
  },
  {
   "cell_type": "code",
   "execution_count": 4,
   "metadata": {},
   "outputs": [],
   "source": [
    "# def run_procs():\n",
    "    \n",
    "#     procs = [mp.Process(target=proc_func, args=(mp.current_process().name,)) for i in range(300)]\n",
    " \n",
    "#     for proc in procs:\n",
    "#         proc.start()\n",
    "# #         proc.join()"
   ]
  },
  {
   "cell_type": "code",
   "execution_count": 5,
   "metadata": {},
   "outputs": [],
   "source": [
    "# %timeit run_serial()"
   ]
  },
  {
   "cell_type": "code",
   "execution_count": 6,
   "metadata": {},
   "outputs": [],
   "source": [
    "# %timeit run_procs()"
   ]
  },
  {
   "cell_type": "code",
   "execution_count": 7,
   "metadata": {},
   "outputs": [],
   "source": [
    "def worker():\n",
    "    name = mp.current_process().name\n",
    "    print(name, 'Starting')\n",
    "    time.sleep(2)\n",
    "    print(name, 'Exiting')\n",
    "\n",
    "def my_service():\n",
    "    name = mp.current_process().name\n",
    "    print(name, 'Starting')\n",
    "    time.sleep(3)\n",
    "    print(name, 'Exiting')"
   ]
  },
  {
   "cell_type": "code",
   "execution_count": 9,
   "metadata": {},
   "outputs": [
    {
     "name": "stdout",
     "output_type": "stream",
     "text": [
      "Process-5 Starting\n",
      "Process-6 Starting\n",
      "my_service Starting\n",
      "Process-5 Exiting\n",
      "Process-6 Exiting\n",
      "my_service Exiting\n"
     ]
    }
   ],
   "source": [
    "# if __name__ == '__main__':\n",
    "service = mp.Process(name='my_service', target=my_service)\n",
    "worker_1 = mp.Process(target=worker)\n",
    "worker_2 = mp.Process(target=worker) # use default name\n",
    "\n",
    "worker_1.start()\n",
    "worker_2.start()\n",
    "service.start()"
   ]
  },
  {
   "cell_type": "code",
   "execution_count": null,
   "metadata": {},
   "outputs": [],
   "source": []
  }
 ],
 "metadata": {
  "kernelspec": {
   "display_name": "Python 3",
   "language": "python",
   "name": "python3"
  },
  "language_info": {
   "codemirror_mode": {
    "name": "ipython",
    "version": 3
   },
   "file_extension": ".py",
   "mimetype": "text/x-python",
   "name": "python",
   "nbconvert_exporter": "python",
   "pygments_lexer": "ipython3",
   "version": "3.7.0"
  }
 },
 "nbformat": 4,
 "nbformat_minor": 2
}

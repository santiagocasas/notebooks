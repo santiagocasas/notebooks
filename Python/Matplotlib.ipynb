{
 "cells": [
  {
   "cell_type": "markdown",
   "metadata": {},
   "source": [
    "# 3 Matplotlib\n",
    "\n",
    "---\n",
    "\n",
    "> Author: <font color='#f78c40'>Samuel Farrens</font>    \n",
    "> Year: 2017  \n",
    "> Email: [samuel.farrens@gmail.com](mailto:samuel.farrens@gmail.com)  \n",
    "> Website: <a href=\"https://sfarrens.github.io\" target=\"_blank\">https://sfarrens.github.io</a>\n",
    "\n",
    "---\n",
    "\n",
    "To get started with your research you will most likely want to be able to plot your results. After installing numpy, the second package you will want to install is <a href=\"http://matplotlib.org/\" target=\"_\">Matplotlib</a>.\n",
    "\n",
    "As with numpy, there is plenty of documentation and examples on the matplotlib website. Much more than I could put in this notebook, so these examples are just meant to get you started.\n",
    "\n",
    "---\n",
    "\n",
    "## Contents\n",
    "\n",
    "1. [Installation](#Installation)\n",
    "1. [Importing Matplotlib](#Importing-Matplotlib)\n",
    "1. [Line Plots](#Line-Plots)\n",
    "1. [Sub-Plots](#Sub-Plots)\n",
    "1. [Histograms](#Histograms)\n",
    "1. [Matrix Images](#Matrix-Images)\n",
    "1. [Exercises](#Exercises)\n",
    " * [Exercise 3.1](#Exercise-3.1)\n",
    " * [Exercise 3.2](#Exercise-3.2)\n",
    "\n",
    "---\n",
    "\n",
    "## Installation\n",
    "\n",
    "To install matplotlib simply run the following command in a terminal (providing you have already set up pip)\n",
    "\n",
    "```bash\n",
    "\n",
    "$ pip install matplotlib\n",
    "\n",
    "```"
   ]
  },
  {
   "cell_type": "markdown",
   "metadata": {},
   "source": [
    "## Importing Matplotlib\n",
    "\n",
    "To import numpy use the **`import`** command as follows"
   ]
  },
  {
   "cell_type": "code",
   "execution_count": 1,
   "metadata": {
    "collapsed": true
   },
   "outputs": [],
   "source": [
    "import matplotlib"
   ]
  },
  {
   "cell_type": "markdown",
   "metadata": {},
   "source": [
    "In general, you will not need to use the majority of the vast number of modules available in matplotlib. Therefore, it is convenient to directly import the modules you intend to use such as **`pyplot`** (<a href=\"http://matplotlib.org/api/pyplot_api.html\" target=\"_blank\">matplotlib.pyplot</a>)."
   ]
  },
  {
   "cell_type": "code",
   "execution_count": 2,
   "metadata": {
    "collapsed": true
   },
   "outputs": [],
   "source": [
    "import matplotlib.pyplot as plt"
   ]
  },
  {
   "cell_type": "markdown",
   "metadata": {},
   "source": [
    "**TIP:** When working in a Jupyter notebook like this one, it is very handy to display the plots inside the notebook. This can be done with the following \"magic\" **`inline`** command."
   ]
  },
  {
   "cell_type": "code",
   "execution_count": 3,
   "metadata": {
    "collapsed": true
   },
   "outputs": [],
   "source": [
    "%matplotlib inline"
   ]
  },
  {
   "cell_type": "markdown",
   "metadata": {},
   "source": [
    "**<font color='red'>NOTE:</font>** this will only work in a Jupyter (iPython) notebook."
   ]
  },
  {
   "cell_type": "markdown",
   "metadata": {},
   "source": [
    "---\n",
    "\n",
    "## Line Plots\n",
    "\n",
    "The most basic command in **`pyplot`** is **`plot()`**, which can be used to plot lines or points from lists or arrays.\n",
    "\n",
    "For example, to plot $x^2$ as a function of $x$"
   ]
  },
  {
   "cell_type": "code",
   "execution_count": 4,
   "metadata": {},
   "outputs": [
    {
     "data": {
      "image/png": "[encoded data removed]",
      "text/plain": [
       "<matplotlib.figure.Figure at 0x10d22d850>"
      ]
     },
     "metadata": {},
     "output_type": "display_data"
    }
   ],
   "source": [
    "# create a range of points in x from 0 to 1\n",
    "x = np.arange(10) * 0.1\n",
    "\n",
    "# calculate x^2\n",
    "y = x ** 2\n",
    "\n",
    "# set the figure size\n",
    "plt.figure(figsize=(8, 6))\n",
    "\n",
    "# plot x vs x^2 with a blue (b) line (-)\n",
    "plt.plot(x, y, 'b-')\n",
    "\n",
    "# set the x axis label with a fontsize of 20\n",
    "plt.xlabel('$x$', fontsize=20)\n",
    "# set the y axis label with a fontsize of 20\n",
    "plt.ylabel('$x^2$', fontsize=20)\n",
    "\n",
    "# display the plot\n",
    "plt.show()\n",
    "\n",
    "# close the plot\n",
    "plt.close()"
   ]
  },
  {
   "cell_type": "markdown",
   "metadata": {},
   "source": [
    "In this example the `'b-'` option specifies that the plot shoudl display a blue line. The same data could be plotted as red circles using the option `'ro'` as follows "
   ]
  },
  {
   "cell_type": "code",
   "execution_count": 5,
   "metadata": {},
   "outputs": [
    {
     "data": {
      "image/png": "[encoded data removed]",
      "text/plain": [
       "<matplotlib.figure.Figure at 0x10d220990>"
      ]
     },
     "metadata": {},
     "output_type": "display_data"
    }
   ],
   "source": [
    "# set the figure size\n",
    "plt.figure(figsize=(8, 6))\n",
    "\n",
    "# plot x vs x^2 with a blue (b) line (-)\n",
    "plt.plot(x, y, 'ro')\n",
    "\n",
    "# set the x axis label with a fontsize of 20\n",
    "plt.xlabel('$x$', fontsize=20)\n",
    "# set the y axis label with a fontsize of 20\n",
    "plt.ylabel('$x^2$', fontsize=20)\n",
    "\n",
    "# display the plot\n",
    "plt.show()\n",
    "\n",
    "# close the plot\n",
    "plt.close()"
   ]
  },
  {
   "cell_type": "markdown",
   "metadata": {},
   "source": [
    "You can also plot multple lines in a single figure."
   ]
  },
  {
   "cell_type": "code",
   "execution_count": 6,
   "metadata": {},
   "outputs": [
    {
     "data": {
      "image/png": "[encoded data removed]",
      "text/plain": [
       "<matplotlib.figure.Figure at 0x10e507a10>"
      ]
     },
     "metadata": {},
     "output_type": "display_data"
    }
   ],
   "source": [
    "# set the figure size\n",
    "plt.figure(figsize=(8, 6))\n",
    "\n",
    "# plot x vs x^2 with a blue (b) line (-)\n",
    "plt.plot(x, 3 * x ** 2, 'b:', label='$3x^2$')\n",
    "plt.plot(x, 4 * x ** 2, 'r--', label='$4x^2$')\n",
    "\n",
    "# set the x axis label with a fontsize of 20\n",
    "plt.xlabel('$x$', fontsize=20)\n",
    "# set the y axis label with a fontsize of 20\n",
    "plt.ylabel('$y$', fontsize=20)\n",
    "\n",
    "# display plot legend()\n",
    "plt.legend(loc=0, fontsize=20)\n",
    "\n",
    "# display the plot\n",
    "plt.show()\n",
    "\n",
    "# close the plot\n",
    "plt.close()"
   ]
  },
  {
   "cell_type": "markdown",
   "metadata": {},
   "source": [
    "---\n",
    "\n",
    "## Sub-Plots\n",
    "\n",
    "The **`subplot()`** command can be used to display mutiple plots simultaneously."
   ]
  },
  {
   "cell_type": "code",
   "execution_count": 7,
   "metadata": {
    "scrolled": true
   },
   "outputs": [
    {
     "data": {
      "image/png": "[encoded data removed]",
      "text/plain": [
       "<matplotlib.figure.Figure at 0x10e65f910>"
      ]
     },
     "metadata": {},
     "output_type": "display_data"
    }
   ],
   "source": [
    "# set the figure size\n",
    "plt.figure(figsize=(12, 5))\n",
    "\n",
    "\n",
    "# subplot row 1 of 1 column 1 of 2\n",
    "plt.subplot(121)\n",
    "\n",
    "# plot x vs 2x with a blue (b) line (-)\n",
    "plt.plot(x, 2 * x, 'm-')\n",
    "plt.xlabel('$x$', fontsize=20)\n",
    "plt.ylabel('$2x$', fontsize=20)\n",
    "\n",
    "# subplot row 1 of 1 column 2 of 2\n",
    "plt.subplot(122)\n",
    "plt.plot(x, 3 * x ** 3, 'g-')\n",
    "plt.xlabel('$x$', fontsize=20)\n",
    "plt.ylabel('$3x^3$', fontsize=20)\n",
    "\n",
    "# automatically adjust layout of subplots\n",
    "plt.tight_layout()\n",
    "\n",
    "# display the plot\n",
    "plt.show()\n",
    "\n",
    "# close the plot\n",
    "plt.close()"
   ]
  },
  {
   "cell_type": "markdown",
   "metadata": {},
   "source": [
    "---\n",
    "\n",
    "# Histograms\n",
    "\n",
    "Histograms can be produced using the **`hist()`** command."
   ]
  },
  {
   "cell_type": "code",
   "execution_count": 8,
   "metadata": {},
   "outputs": [
    {
     "data": {
      "image/png": "[encoded data removed]",
      "text/plain": [
       "<matplotlib.figure.Figure at 0x10e6b8710>"
      ]
     },
     "metadata": {},
     "output_type": "display_data"
    }
   ],
   "source": [
    "# generate some random data\n",
    "x = np.random.randint(0, 9, 100)\n",
    "\n",
    "# set the figure size\n",
    "plt.figure(figsize=(15, 6))\n",
    "\n",
    "# plot a histogram of the data with 10 bins (bars)\n",
    "plt.subplot(121)\n",
    "plt.hist(x, bins=10)\n",
    "plt.title('Histogram of random values')\n",
    "\n",
    "# plot a histogram of the data with 10 bins (step)\n",
    "plt.subplot(122)\n",
    "plt.hist(x, bins=10, histtype='step')\n",
    "plt.title('Histogram of random values')\n",
    "\n",
    "# display the plot\n",
    "plt.show()\n",
    "\n",
    "# close the plot\n",
    "plt.close()"
   ]
  },
  {
   "cell_type": "markdown",
   "metadata": {},
   "source": [
    "---\n",
    "\n",
    "## Matrix Images\n",
    "\n",
    "The **`imshow()`** command can be used to display the contents of a matrix as an image.\n",
    "\n",
    "For example, to create the Swedish flag you could do the following."
   ]
  },
  {
   "cell_type": "code",
   "execution_count": 9,
   "metadata": {},
   "outputs": [
    {
     "data": {
      "image/png": "[encoded data removed]",
      "text/plain": [
       "<matplotlib.figure.Figure at 0x10d25a290>"
      ]
     },
     "metadata": {},
     "output_type": "display_data"
    }
   ],
   "source": [
    "# generate and array of zeros\n",
    "x = np.zeros((9, 15))\n",
    "\n",
    "# set certain values to one\n",
    "x[4] = 1\n",
    "x[:, 5] = 1\n",
    "\n",
    "# set the figure size\n",
    "plt.figure(figsize=(12, 6))\n",
    "\n",
    "# plot the matrix image\n",
    "plt.imshow(x, interpolation='none', cmap='plasma')\n",
    "\n",
    "# display the plot\n",
    "plt.show()\n",
    "\n",
    "# close the plot\n",
    "plt.close()"
   ]
  },
  {
   "cell_type": "markdown",
   "metadata": {},
   "source": [
    "In this example the **`interpolation`** option specifies that each pixel should displayed independently and the **`cmap`** option sets the colour map."
   ]
  },
  {
   "cell_type": "markdown",
   "metadata": {},
   "source": [
    "---\n",
    "\n",
    "## Exercises\n",
    "\n",
    "### Exercise 3.1\n",
    "\n",
    "Generate an array of 1000 Gaussian distributed random numbers and plot a histogram of the array."
   ]
  },
  {
   "cell_type": "code",
   "execution_count": null,
   "metadata": {
    "collapsed": true
   },
   "outputs": [],
   "source": [
    "# Implement code here"
   ]
  },
  {
   "cell_type": "markdown",
   "metadata": {},
   "source": [
    "### Exercise 3.2\n",
    "\n",
    "Read in the data from the file `materials/marvel_movies.txt` and plot the film earnings against the ratings.\n",
    "\n",
    "> If you have not already done so, you will need to download the [Materials](https://minhaskamal.github.io/DownGit/#/home?url=https://github.com/sfarrens/notebooks/tree/master/Python/materials) directory and unzip it.  \n",
    "> You can use the following command in a terminal:  \n",
    "> ``` bash\n",
    "> $ unzip materials.zip\n",
    "> ```  \n",
    "> **<font color='red'>NOTE:</font>** you need to place the `Materials` folder in the same directory as this notebook.\n",
    "\n",
    "- Display the points as magenta triangles\n",
    "- Plot the earnings in log scale\n",
    "- Make sure you label your axes and title your plot\n"
   ]
  },
  {
   "cell_type": "code",
   "execution_count": null,
   "metadata": {
    "collapsed": true
   },
   "outputs": [],
   "source": [
    "# Implement code here"
   ]
  },
  {
   "cell_type": "markdown",
   "metadata": {},
   "source": [
    "### Exercise 3.3\n",
    "\n",
    "Generate a chequered image (*e.g.* like a chess board).\n",
    "\n",
    "* It should have $8\\times8$ patches\n",
    "* half of the patches should be one colour and the other half a different colour\n",
    "* Use and your favourite colour map"
   ]
  },
  {
   "cell_type": "code",
   "execution_count": null,
   "metadata": {
    "collapsed": true
   },
   "outputs": [],
   "source": [
    "# Implement code here"
   ]
  },
  {
   "cell_type": "markdown",
   "metadata": {},
   "source": [
    "You can find some example answers to the exercises [here](./Answers-to-exercises.ipynb).\n",
    "\n",
    "---\n",
    "\n",
    "> **Continue to [next topic](./Other-Packages.ipynb)**"
   ]
  }
 ],
 "metadata": {
  "hide_input": false,
  "kernelspec": {
   "display_name": "Python py37",
   "language": "python",
   "name": "py37"
  },
  "language_info": {
   "codemirror_mode": {
    "name": "ipython",
    "version": 3
   },
   "file_extension": ".py",
   "mimetype": "text/x-python",
   "name": "python",
   "nbconvert_exporter": "python",
   "pygments_lexer": "ipython3",
   "version": "3.7.1"
  },
  "toc": {
   "base_numbering": 1,
   "nav_menu": {},
   "number_sections": true,
   "sideBar": true,
   "skip_h1_title": false,
   "title_cell": "Table of Contents",
   "title_sidebar": "Contents",
   "toc_cell": false,
   "toc_position": {},
   "toc_section_display": true,
   "toc_window_display": false
  }
 },
 "nbformat": 4,
 "nbformat_minor": 1
}

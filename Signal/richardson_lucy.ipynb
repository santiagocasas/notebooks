{
 "cells": [
  {
   "cell_type": "markdown",
   "metadata": {},
   "source": [
    "# Richardson-Lucy Deconvolution\n",
    "\n",
    "---\n",
    "\n",
    "> Author: <font color='#f78c40'>Samuel Farrens</font>    \n",
    "> Year: 2018  \n",
    "> Email: [samuel.farrens@cea.fr](mailto:samuel.farrens@cea.fr)  \n",
    "> Website: <a href=\"https://sfarrens.github.io\" target=\"_blank\">https://sfarrens.github.io</a>\n",
    "\n",
    "---\n",
    "\n",
    "## Contents\n",
    "\n",
    "1. [Set-Up](#Set-Up)\n",
    "1. [Introduction](#Introduction)\n",
    "1. [Example](#Example)\n",
    "\n",
    "---\n",
    "\n",
    "## Set-Up\n",
    "\n",
    "Here we will import a couple of packages that will be needed throughout the notebook. \n",
    "\n",
    "Users new to Jupyter notebooks should note that cells are executed by pressing <kbd>SHIFT</kbd>+<kbd>ENTER</kbd> (&#x21E7;+ &#x23ce;). See <a href=\"https://jupyter-notebook.readthedocs.io/en/stable/\" target_=\"blanck\">here</a> for more details."
   ]
  },
  {
   "cell_type": "code",
   "execution_count": 1,
   "metadata": {},
   "outputs": [],
   "source": [
    "# Tell Jupyter to display plots in this notebook.\n",
    "%matplotlib inline\n",
    "\n",
    "# Import the numpy package with the alias np.\n",
    "import numpy as np           \n",
    "\n",
    "# Import the pyplot package from matplotlib with the alias plt.\n",
    "import matplotlib.pyplot as plt\n",
    "\n",
    "# Import convolution routines from Astropy\n",
    "from astropy.convolution import convolve_fft\n",
    "\n",
    "# Import Richardson-Lucy method from SciKit-Image\n",
    "from skimage.restoration import richardson_lucy\n",
    "\n",
    "# Import NMSE metric from sf_tools\n",
    "from sf_tools.image.quality import nmse"
   ]
  },
  {
   "cell_type": "markdown",
   "metadata": {},
   "source": [
    "---\n",
    "\n",
    "## Introduction\n",
    "\n",
    "This notebook demonstrates the [Richardson-Lucy](https://en.wikipedia.org/wiki/Richardson%E2%80%93Lucy_deconvolution)\n",
    "method for deconvolution.\n",
    "\n",
    "The method is named after William Richardson [(Richardson 1972)](http://adsabs.harvard.edu/abs/1972JOSA...62...55R) and Leon Lucy [(Lucy 1974)](http://adsabs.harvard.edu/abs/1974AJ.....79..745L) and takes the form\n",
    "\n",
    "$$\\hat{x}_{n+1}=\\hat{x}_n \\left(\\frac{y}{H * \\hat{x}_n} * H^*\\right)$$\n",
    "\n",
    "where $y$ is the obeserved image, $\\hat{x}_n$ is the deconvolved image at iteration $n$, $H$ is the PSF and $H^*$ is the PSF rotated by 180 degrees.\n",
    "\n",
    "We can implement this by first defining a convolution method,"
   ]
  },
  {
   "cell_type": "code",
   "execution_count": 2,
   "metadata": {},
   "outputs": [],
   "source": [
    "# Convolution Method\n",
    "def convolve(image, kernel):\n",
    "            \n",
    "    return convolve_fft(image, kernel, boundary='wrap', crop=False,\n",
    "                        nan_treatment='fill', normalize_kernel=False)"
   ]
  },
  {
   "cell_type": "markdown",
   "metadata": {},
   "source": [
    "then the deconvolution method."
   ]
  },
  {
   "cell_type": "code",
   "execution_count": 3,
   "metadata": {},
   "outputs": [],
   "source": [
    "def RL_Deconvolve(image, psf, n_iter=30):\n",
    "    \n",
    "    x_hat = 0.5 * np.ones(image.shape)\n",
    "    psf_rot = np.rot90(psf, 2)\n",
    "    \n",
    "    for i in range(n_iter):\n",
    "        \n",
    "        x_hat *= convolve(image / convolve(x_hat, psf), psf_rot)\n",
    "        \n",
    "    return x_hat"
   ]
  },
  {
   "cell_type": "markdown",
   "metadata": {},
   "source": [
    "---\n",
    "\n",
    "## Example\n",
    "\n",
    "Below we demonstrate the deconvolution method on astrophysical data. First we define a data set."
   ]
  },
  {
   "cell_type": "code",
   "execution_count": 4,
   "metadata": {},
   "outputs": [
    {
     "name": "stdout",
     "output_type": "stream",
     "text": [
      "SNR = 47.561130306334434\n"
     ]
    }
   ],
   "source": [
    "# Load an example galaxy image\n",
    "x = np.load('/Users/farrens/Documents/Projects/PSF/data/clean_data/deep_galaxy_cube_10000_norm.npy')[8]\n",
    "\n",
    "# Load an example PSF\n",
    "H = np.load('/Users/farrens/Documents/Projects/PSF/data/psf/euclid_psf_wl0.6_norm.npy')[0]\n",
    "\n",
    "# Set a noise levl\n",
    "sigma = 0.00005\n",
    "\n",
    "# Convolve the galaxy image with the PSF and add Gaussian random noise\n",
    "y = convolve(x, H) + np.random.randn(*x.shape) * sigma\n",
    "\n",
    "# Print the SNR of the image\n",
    "snr = np.std(convolve(x, H)) / sigma\n",
    "print('SNR = {}'.format(snr))"
   ]
  },
  {
   "cell_type": "markdown",
   "metadata": {},
   "source": [
    "Then we apply the Richardson-Lucy algorithm defined above along with that provided by [SciKit-Image](http://scikit-image.org/docs/dev/auto_examples/filters/plot_deconvolution.html?highlight=richardson) for comparison."
   ]
  },
  {
   "cell_type": "code",
   "execution_count": 5,
   "metadata": {},
   "outputs": [],
   "source": [
    "# Set number of iterations\n",
    "n_iter = 20\n",
    "\n",
    "# Apply Richardson-Lucy deconvolution\n",
    "x_rl = RL_Deconvolve(y, H, n_iter=n_iter)\n",
    "\n",
    "# Apply SciKit-Image implementation or Richardson-Lucy deconvolution\n",
    "x_skrl = richardson_lucy(y, H, iterations=n_iter)"
   ]
  },
  {
   "cell_type": "markdown",
   "metadata": {},
   "source": [
    "The results are displayed in the following figures."
   ]
  },
  {
   "cell_type": "code",
   "execution_count": 6,
   "metadata": {},
   "outputs": [
    {
     "data": {
      "image/png": "[encoded data removed]",
      "text/plain": [
       "<Figure size 864x864 with 4 Axes>"
      ]
     },
     "metadata": {},
     "output_type": "display_data"
    }
   ],
   "source": [
    "# Set the figure properties\n",
    "fig, ax = plt.subplots(nrows=2, ncols=2, figsize=(12, 12))\n",
    "\n",
    "# Plot the true image\n",
    "ax[0, 0].imshow(x)\n",
    "ax[0, 0].set_title('True Image ($x$)', fontsize=20)\n",
    "\n",
    "# Plot the observed image\n",
    "ax[0, 1].imshow(y)\n",
    "ax[0, 1].set_title('Observed Image ($y$)', fontsize=20)\n",
    "\n",
    "# Plot the Richardson-Lucy deconvolution\n",
    "ax[1, 0].imshow(x_rl)\n",
    "ax[1, 0].set_title('RL Deconvolution ($\\hat{x}$)', fontsize=20)\n",
    "\n",
    "# Plot the SciKit-Image deconvolution\n",
    "ax[1, 1].imshow(x_skrl)\n",
    "ax[1, 1].set_title('SK-RL Deconvolution ($\\hat{x}$)', fontsize=20)\n",
    "\n",
    "# Display the plots\n",
    "plt.show()"
   ]
  },
  {
   "cell_type": "markdown",
   "metadata": {},
   "source": [
    "The quality of the deconvolutions is measured using the Normalised Mean Square Error (NMSE)."
   ]
  },
  {
   "cell_type": "code",
   "execution_count": 7,
   "metadata": {},
   "outputs": [
    {
     "name": "stdout",
     "output_type": "stream",
     "text": [
      "NMSE(x, x_rl) = 0.04110233002850186\n",
      "NMSE(x, x_skrl) = 0.0405694816528433\n",
      "NMSE(x_rl, x_skrl) = 0.00027185128569484293\n"
     ]
    }
   ],
   "source": [
    "# Print the NMSE between the true and RL deconvolved images\n",
    "print('NMSE(x, x_rl) = {}'.format(nmse(x, x_rl)))\n",
    "\n",
    "# Print the NMSE between the true and SK-RL deconvolved images\n",
    "print('NMSE(x, x_skrl) = {}'.format(nmse(x, x_skrl)))\n",
    "\n",
    "# Print the NMSE between the RL and SK-RL deconvolved images\n",
    "print('NMSE(x_rl, x_skrl) = {}'.format(nmse(x_rl, x_skrl)))"
   ]
  },
  {
   "cell_type": "markdown",
   "metadata": {},
   "source": [
    "*Note:* The RL method given in this notebooks produces identically results to the SciKit-Image implementation when using the [SciPy fftconvolve method](https://docs.scipy.org/doc/scipy-0.19.0/reference/generated/scipy.signal.fftconvolve.html)."
   ]
  }
 ],
 "metadata": {
  "kernelspec": {
   "display_name": "Python 3",
   "language": "python",
   "name": "python3"
  },
  "language_info": {
   "codemirror_mode": {
    "name": "ipython",
    "version": 3
   },
   "file_extension": ".py",
   "mimetype": "text/x-python",
   "name": "python",
   "nbconvert_exporter": "python",
   "pygments_lexer": "ipython3",
   "version": "3.6.4"
  }
 },
 "nbformat": 4,
 "nbformat_minor": 2
}
